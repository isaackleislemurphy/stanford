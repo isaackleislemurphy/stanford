{
 "cells": [
  {
   "cell_type": "code",
   "execution_count": 7,
   "id": "0de97073",
   "metadata": {},
   "outputs": [
    {
     "name": "stdout",
     "output_type": "stream",
     "text": [
      "Unique Algorithms: ['A' 'B' 'C' 'D' 'E']\n",
      "Unique Problems: [1 2 3 4 5 6]\n"
     ]
    },
    {
     "data": {
      "text/html": [
       "<div>\n",
       "<style scoped>\n",
       "    .dataframe tbody tr th:only-of-type {\n",
       "        vertical-align: middle;\n",
       "    }\n",
       "\n",
       "    .dataframe tbody tr th {\n",
       "        vertical-align: top;\n",
       "    }\n",
       "\n",
       "    .dataframe thead th {\n",
       "        text-align: right;\n",
       "    }\n",
       "</style>\n",
       "<table border=\"1\" class=\"dataframe\">\n",
       "  <thead>\n",
       "    <tr style=\"text-align: right;\">\n",
       "      <th></th>\n",
       "      <th>alg_name</th>\n",
       "      <th>prob_ind</th>\n",
       "      <th>runtime</th>\n",
       "      <th>runtime_bar</th>\n",
       "    </tr>\n",
       "  </thead>\n",
       "  <tbody>\n",
       "    <tr>\n",
       "      <th>0</th>\n",
       "      <td>A</td>\n",
       "      <td>1</td>\n",
       "      <td>2.334859</td>\n",
       "      <td>4.868379</td>\n",
       "    </tr>\n",
       "    <tr>\n",
       "      <th>1</th>\n",
       "      <td>A</td>\n",
       "      <td>1</td>\n",
       "      <td>1.400394</td>\n",
       "      <td>4.868379</td>\n",
       "    </tr>\n",
       "    <tr>\n",
       "      <th>2</th>\n",
       "      <td>A</td>\n",
       "      <td>1</td>\n",
       "      <td>3.621056</td>\n",
       "      <td>4.868379</td>\n",
       "    </tr>\n",
       "    <tr>\n",
       "      <th>3</th>\n",
       "      <td>A</td>\n",
       "      <td>1</td>\n",
       "      <td>3.009073</td>\n",
       "      <td>4.868379</td>\n",
       "    </tr>\n",
       "    <tr>\n",
       "      <th>4</th>\n",
       "      <td>A</td>\n",
       "      <td>1</td>\n",
       "      <td>2.003461</td>\n",
       "      <td>4.868379</td>\n",
       "    </tr>\n",
       "  </tbody>\n",
       "</table>\n",
       "</div>"
      ],
      "text/plain": [
       "  alg_name  prob_ind   runtime  runtime_bar\n",
       "0        A         1  2.334859     4.868379\n",
       "1        A         1  1.400394     4.868379\n",
       "2        A         1  3.621056     4.868379\n",
       "3        A         1  3.009073     4.868379\n",
       "4        A         1  2.003461     4.868379"
      ]
     },
     "execution_count": 7,
     "metadata": {},
     "output_type": "execute_result"
    }
   ],
   "source": [
    "import numpy as np\n",
    "import pandas as pd\n",
    "import scipy.stats\n",
    "import matplotlib.pyplot as plt\n",
    "\n",
    "# relevant distributions\n",
    "T = scipy.stats.t\n",
    "Binomial = scipy.stats.binom\n",
    "\n",
    "# get data\n",
    "data = pd.read_csv(\"/Users/IKleisle/Downloads/runtimes.csv\")\n",
    "data.columns = [item.replace(\".\", \"_\") for item in data.columns]\n",
    "\n",
    "# add on group-specific means\n",
    "data = pd.merge(\n",
    "    data,\n",
    "    data.groupby([\"alg_name\", \"prob_ind\"], as_index=False)[\"runtime\"].mean(),\n",
    "    on=[\"alg_name\", \"prob_ind\"],\n",
    "    suffixes=[\"\", \"_bar\"]\n",
    ")\n",
    "\n",
    "# total rows\n",
    "N = data.shape[0]\n",
    "M = len(data.alg_name.unique())\n",
    "P = len(data.prob_ind.unique())\n",
    "N_ = data.query(\"alg_name == 'A' & prob_ind == 1\").shape[0]\n",
    "# make sure dims all good\n",
    "assert N_ * P * M == N\n",
    "# precompute S2\n",
    "S2 = (1 / (N - M * P)) * np.sum(\n",
    "    (data[\"runtime\"].values - data[\"runtime_bar\"].values) ** 2\n",
    ")\n",
    "\n",
    "# just so I know what's in data\n",
    "print(f\"\"\"Unique Algorithms: {data.alg_name.unique()}\n",
    "Unique Problems: {data.prob_ind.unique()}\"\"\")\n",
    "\n",
    "data.head()"
   ]
  },
  {
   "cell_type": "markdown",
   "id": "1d17397b",
   "metadata": {},
   "source": [
    "### Part 1: T-Tests"
   ]
  },
  {
   "cell_type": "code",
   "execution_count": 8,
   "id": "9128cdfb",
   "metadata": {},
   "outputs": [
    {
     "data": {
      "text/html": [
       "<div>\n",
       "<style scoped>\n",
       "    .dataframe tbody tr th:only-of-type {\n",
       "        vertical-align: middle;\n",
       "    }\n",
       "\n",
       "    .dataframe tbody tr th {\n",
       "        vertical-align: top;\n",
       "    }\n",
       "\n",
       "    .dataframe thead th {\n",
       "        text-align: right;\n",
       "    }\n",
       "</style>\n",
       "<table border=\"1\" class=\"dataframe\">\n",
       "  <thead>\n",
       "    <tr style=\"text-align: right;\">\n",
       "      <th></th>\n",
       "      <th>t_statistic</th>\n",
       "      <th>p_value</th>\n",
       "      <th>algorithm</th>\n",
       "    </tr>\n",
       "  </thead>\n",
       "  <tbody>\n",
       "    <tr>\n",
       "      <th>0</th>\n",
       "      <td>2.302933</td>\n",
       "      <td>0.989289</td>\n",
       "      <td>B</td>\n",
       "    </tr>\n",
       "    <tr>\n",
       "      <th>1</th>\n",
       "      <td>-0.356643</td>\n",
       "      <td>0.360705</td>\n",
       "      <td>C</td>\n",
       "    </tr>\n",
       "    <tr>\n",
       "      <th>2</th>\n",
       "      <td>-4.585126</td>\n",
       "      <td>0.000002</td>\n",
       "      <td>D</td>\n",
       "    </tr>\n",
       "    <tr>\n",
       "      <th>3</th>\n",
       "      <td>0.238915</td>\n",
       "      <td>0.594397</td>\n",
       "      <td>E</td>\n",
       "    </tr>\n",
       "  </tbody>\n",
       "</table>\n",
       "</div>"
      ],
      "text/plain": [
       "   t_statistic   p_value algorithm\n",
       "0     2.302933  0.989289         B\n",
       "1    -0.356643  0.360705         C\n",
       "2    -4.585126  0.000002         D\n",
       "3     0.238915  0.594397         E"
      ]
     },
     "execution_count": 8,
     "metadata": {},
     "output_type": "execute_result"
    }
   ],
   "source": [
    "def perform_t_test(model, ref_model=\"A\"):\n",
    "    \"\"\"\"\"\"\n",
    "    data_ref = data.query(f\"alg_name == '{ref_model}'\")\n",
    "    data_mod = data.query(f\"alg_name == '{model}'\")\n",
    "\n",
    "    y_bar_ref = data_ref.runtime.values.mean()\n",
    "    y_bar_mod = data_mod.runtime.values.mean()\n",
    "\n",
    "    assert N_ * P == data_ref.shape[0]\n",
    "    assert N_ * P == data_mod.shape[0]\n",
    "\n",
    "    t_stat = np.sqrt(N_ * P / 2) * (y_bar_mod - y_bar_ref) / np.sqrt(S2)\n",
    "    pval = T(df=N - M * P).cdf(t_stat)\n",
    "\n",
    "    return t_stat, pval\n",
    "\n",
    "t_result = pd.DataFrame(\n",
    "    [perform_t_test(i) for i in data.alg_name.unique()[1:]],\n",
    "    columns=[\"t_statistic\", \"p_value\"]\n",
    ")\n",
    "t_result[\"algorithm\"] = data.alg_name.unique()[1:]\n",
    "\n",
    "t_result"
   ]
  },
  {
   "cell_type": "code",
   "execution_count": 9,
   "id": "a6d5fb69",
   "metadata": {},
   "outputs": [
    {
     "data": {
      "text/html": [
       "<div>\n",
       "<style scoped>\n",
       "    .dataframe tbody tr th:only-of-type {\n",
       "        vertical-align: middle;\n",
       "    }\n",
       "\n",
       "    .dataframe tbody tr th {\n",
       "        vertical-align: top;\n",
       "    }\n",
       "\n",
       "    .dataframe thead th {\n",
       "        text-align: right;\n",
       "    }\n",
       "</style>\n",
       "<table border=\"1\" class=\"dataframe\">\n",
       "  <thead>\n",
       "    <tr style=\"text-align: right;\">\n",
       "      <th></th>\n",
       "      <th>alg_name</th>\n",
       "      <th>mean_runtime</th>\n",
       "    </tr>\n",
       "  </thead>\n",
       "  <tbody>\n",
       "    <tr>\n",
       "      <th>0</th>\n",
       "      <td>A</td>\n",
       "      <td>1.591834</td>\n",
       "    </tr>\n",
       "    <tr>\n",
       "      <th>1</th>\n",
       "      <td>B</td>\n",
       "      <td>1.845468</td>\n",
       "    </tr>\n",
       "    <tr>\n",
       "      <th>2</th>\n",
       "      <td>C</td>\n",
       "      <td>1.552555</td>\n",
       "    </tr>\n",
       "    <tr>\n",
       "      <th>3</th>\n",
       "      <td>D</td>\n",
       "      <td>1.086851</td>\n",
       "    </tr>\n",
       "    <tr>\n",
       "      <th>4</th>\n",
       "      <td>E</td>\n",
       "      <td>1.618147</td>\n",
       "    </tr>\n",
       "  </tbody>\n",
       "</table>\n",
       "</div>"
      ],
      "text/plain": [
       "  alg_name  mean_runtime\n",
       "0        A      1.591834\n",
       "1        B      1.845468\n",
       "2        C      1.552555\n",
       "3        D      1.086851\n",
       "4        E      1.618147"
      ]
     },
     "execution_count": 9,
     "metadata": {},
     "output_type": "execute_result"
    }
   ],
   "source": [
    "data.groupby([\"alg_name\"], as_index=False)[\"runtime\"].mean().rename(columns={\"runtime\": \"mean_runtime\"})"
   ]
  },
  {
   "cell_type": "markdown",
   "id": "b354b217",
   "metadata": {},
   "source": [
    "As given by the problem's composite Hypothesis, this is a one-sided (lower) test. As shown in the results above, we see that for $\\alpha = .05$ the test rejects for algorithm D, suggesting D may be superior to A. As a sanity check, this matches the groupwise averages,  wherein the average runtime for D is 1.09 and the average for A is 1.59. \n",
    "\n",
    "### Part 2: Bernoulli-Test"
   ]
  },
  {
   "cell_type": "code",
   "execution_count": 10,
   "id": "5ea13ab2",
   "metadata": {},
   "outputs": [],
   "source": [
    "def perform_general_test(model, ref_model=\"A\"):\n",
    "    \"\"\"\"\"\"\n",
    "    data_ref = data.query(f\"alg_name == '{ref_model}'\")\n",
    "    data_mod = data.query(f\"alg_name == '{model}'\")\n",
    "    bjk_results = (data_ref.runtime.values <= data_mod.runtime.values).astype(int)\n",
    "\n",
    "    pval = 1 - Binomial(N_ * P, 1/2).cdf(np.sum(bjk_results))\n",
    "    return np.sum(bjk_results), pval"
   ]
  },
  {
   "cell_type": "code",
   "execution_count": 11,
   "id": "92e65844",
   "metadata": {},
   "outputs": [
    {
     "data": {
      "text/html": [
       "<div>\n",
       "<style scoped>\n",
       "    .dataframe tbody tr th:only-of-type {\n",
       "        vertical-align: middle;\n",
       "    }\n",
       "\n",
       "    .dataframe tbody tr th {\n",
       "        vertical-align: top;\n",
       "    }\n",
       "\n",
       "    .dataframe thead th {\n",
       "        text-align: right;\n",
       "    }\n",
       "</style>\n",
       "<table border=\"1\" class=\"dataframe\">\n",
       "  <thead>\n",
       "    <tr style=\"text-align: right;\">\n",
       "      <th></th>\n",
       "      <th>Sum(Bjk)</th>\n",
       "      <th>p_value</th>\n",
       "      <th>algorithm</th>\n",
       "    </tr>\n",
       "  </thead>\n",
       "  <tbody>\n",
       "    <tr>\n",
       "      <th>0</th>\n",
       "      <td>252</td>\n",
       "      <td>1.110223e-16</td>\n",
       "      <td>B</td>\n",
       "    </tr>\n",
       "    <tr>\n",
       "      <th>1</th>\n",
       "      <td>231</td>\n",
       "      <td>1.110223e-16</td>\n",
       "      <td>C</td>\n",
       "    </tr>\n",
       "    <tr>\n",
       "      <th>2</th>\n",
       "      <td>169</td>\n",
       "      <td>1.209099e-02</td>\n",
       "      <td>D</td>\n",
       "    </tr>\n",
       "    <tr>\n",
       "      <th>3</th>\n",
       "      <td>244</td>\n",
       "      <td>1.110223e-16</td>\n",
       "      <td>E</td>\n",
       "    </tr>\n",
       "  </tbody>\n",
       "</table>\n",
       "</div>"
      ],
      "text/plain": [
       "   Sum(Bjk)       p_value algorithm\n",
       "0       252  1.110223e-16         B\n",
       "1       231  1.110223e-16         C\n",
       "2       169  1.209099e-02         D\n",
       "3       244  1.110223e-16         E"
      ]
     },
     "execution_count": 11,
     "metadata": {},
     "output_type": "execute_result"
    }
   ],
   "source": [
    "gen_result = pd.DataFrame(\n",
    "    [perform_general_test(i) for i in data.alg_name.unique()[1:]],\n",
    "    columns=[\"Sum(Bjk)\", \"p_value\"]\n",
    ")\n",
    "gen_result[\"algorithm\"] = data.alg_name.unique()[1:]\n",
    "\n",
    "gen_result"
   ]
  },
  {
   "cell_type": "code",
   "execution_count": 13,
   "id": "8ab4098c",
   "metadata": {},
   "outputs": [
    {
     "data": {
      "image/png": "[encoded data removed]",
      "text/plain": [
       "<Figure size 432x288 with 1 Axes>"
      ]
     },
     "metadata": {
      "needs_background": "light"
     },
     "output_type": "display_data"
    }
   ],
   "source": [
    "for mod in [\"B\", \"C\", \"D\", \"E\"]:\n",
    "    plt.scatter(\n",
    "        data.query(\"alg_name == 'A'\").runtime.values,\n",
    "        data.query(f\"alg_name == '{mod}'\").runtime.values,\n",
    "        alpha=.4,\n",
    "        label=f\"Algorithm: {mod}\"\n",
    "    )\n",
    "plt.plot([0, 25], [0, 25], label=\"Equal Runtime\", color=\"red\")\n",
    "plt.legend()\n",
    "plt.xlabel(\"Runtime: A\")\n",
    "plt.ylabel(\"Runtime: {B, C, D, E}\")\n",
    "plt.show()"
   ]
  },
  {
   "cell_type": "markdown",
   "id": "132d4ccd",
   "metadata": {},
   "source": [
    "Now, the hypothesis has been reversed, and the null is that the probability that Algorithm 1 is faster than Algorithm i is less than or equal to one-half -- this null is less believable, the more instances 1/0 in which 1 beats i occurs. As the first column in the table, as well as the scatterplot show, algorithm 1 routinely beats the others, leading to a clean sweep of rejections at $\\alpha = .05$. However, as this test does not explicitly correct for the $\\beta$ variables (as the proper ANOVA setup does), this result may be misleading. Hence, in light of the ANOVA results, I'm inclined to think that Algorithm D may have a leg up on algorithm A. "
   ]
  }
 ],
 "metadata": {
  "kernelspec": {
   "display_name": "Python 3",
   "language": "python",
   "name": "python3"
  },
  "language_info": {
   "codemirror_mode": {
    "name": "ipython",
    "version": 3
   },
   "file_extension": ".py",
   "mimetype": "text/x-python",
   "name": "python",
   "nbconvert_exporter": "python",
   "pygments_lexer": "ipython3",
   "version": "3.7.5"
  }
 },
 "nbformat": 4,
 "nbformat_minor": 5
}
