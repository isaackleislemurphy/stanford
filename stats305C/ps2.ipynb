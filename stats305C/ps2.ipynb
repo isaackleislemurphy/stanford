{
  "nbformat": 4,
  "nbformat_minor": 0,
  "metadata": {
    "colab": {
      "name": "KleisleMurphy-305C-HW2",
      "provenance": [],
      "collapsed_sections": []
    },
    "kernelspec": {
      "name": "python3",
      "display_name": "Python 3"
    },
    "language_info": {
      "name": "python"
    }
  },
  "cells": [
    {
      "cell_type": "markdown",
      "source": [
        "# Assignment 2: Gibbs Sampling and Metropolis-Hastings\n",
        "\n",
        "\n",
        "STATS305C, Stanford University, Spring 2022\n",
        "\n",
        "[![Open In Colab](https://colab.research.google.com/assets/colab-badge.svg)](https://colab.research.google.com/github/slinderman/stats305c/blob/master/assignments/hw2/hw2.ipynb)\n",
        "\n",
        "\n",
        "\n",
        "---\n",
        "\n",
        "**Name: Isaac KM** \n",
        "\n",
        "**Collaborators: Saskia C.** \n",
        "\n",
        "---\n"
      ],
      "metadata": {
        "id": "DIaL2XtgC5_s"
      }
    },
    {
      "cell_type": "markdown",
      "source": [
        "\n",
        "In this homework assignment, we will investigate a hierarchical Bayesian model of polling data. To perform inference, we will implement a hybrid Gibbs/Metropolis-Hastings sampler.\n",
        "\n",
        "### Background: Polling Data\n",
        "\n",
        "The 2004 election between George W. Bush and John Kerry was closely contested. Both campaigns focused heavily on the swing state of Ohio, worth 20 votes in the electoral college. CNN/USA Today/Gallup conducted several Ohio polls in the months leading up to the election on November 4th, and obtained the following raw results:\n",
        "\n",
        "|   | Kerry | Bush | Total\n",
        "| :- | :- | :- | :- |\n",
        "| Sept. 4-7 | 284 | 344 | 628 |\n",
        "| Sept. 25-28 | 312 | 325 | 637 |\n",
        "| Oct. 17-20 | 346 | 339 | 685 |\n",
        "| Oct. 28-31 | 556 | 511 | 1067 |\n",
        "\n",
        "The polling data can be found [here](http://www.cnn.com/ELECTION/2004/special/president/showdown/OH/) (although there are some dead links on the page).\n",
        "\n",
        "We will let $\\{x_i\\}_{i = 1}^4$ denote the number of votes for Kerry in each poll, and let $\\{n_i\\}_{i = 1}^4$ denote the total number surveyed in each poll. We will represent these quantities in code using integer PyTorch tensors."
      ],
      "metadata": {
        "id": "5ZQgpVFL_pz-"
      }
    },
    {
      "cell_type": "code",
      "source": [
        "import torch\n",
        "from torch.distributions import Gamma, Beta, Binomial, Normal\n",
        "torch.manual_seed(305)\n",
        "\n",
        "import matplotlib.pyplot as plt\n",
        "from matplotlib.cm import Blues\n",
        "import seaborn as sns\n",
        "sns.set_context(\"notebook\")"
      ],
      "metadata": {
        "id": "cYTJS_5FHb6J"
      },
      "execution_count": null,
      "outputs": []
    },
    {
      "cell_type": "code",
      "source": [
        "xs = torch.tensor([284., 312., 346., 556.]) #, dtype=int)\n",
        "ns = torch.tensor([628., 637., 685., 1067.]) #, dtype=int)"
      ],
      "metadata": {
        "id": "PBRYlwtVHiT6"
      },
      "execution_count": null,
      "outputs": []
    },
    {
      "cell_type": "markdown",
      "source": [
        "\n",
        "### Background: Hierarchical Model\n",
        "\n",
        "It is reasonable to model each voter's support as a draw from a Bernoulli distribution, with some poll-specific probability $\\rho_i$ of supporting Kerry. We believe each poll has a different probability since the polls are conducted at different times and may reach different subpopulations of voters (e.g. if one is conducted over telephone and another is an internet survey). However, these $\\rho_i$ are likely highly correlated due to a base level of support for Kerry in the general population. We will therefore use the following model: \n",
        "\n",
        "\\begin{align}\n",
        "\\rho_i &\\sim \\mathrm{Beta}(\\alpha, \\beta) \\quad  \\text{for } i =1, \\ldots, 4 \\\\ \n",
        "x_i \\mid \\rho_i &\\sim \\mathrm{Bin}(\\rho_i, n_i) \\quad  \\text{for } i =1, \\ldots, 4\n",
        "\\end{align}\n",
        "Note that the [beta distribution](https://en.wikipedia.org/wiki/Beta_distribution) is a conjugate prior for the [binomial distribution](https://en.wikipedia.org/wiki/Binomial_distribution). (See also, Bishop Ch. 2.1.)\n",
        "\n",
        "Following a Bayesian approach, we introduce priors over the parameters $\\alpha$ and $\\beta$. Unfortunately, the parameters of the beta distribution do not have a simple conjugate prior. Instead, we will assume $\\alpha$ and $\\beta$ follow gamma distributions, resulting in the following Bayesian hierarchical model.\n",
        "\\begin{align}\n",
        "\\alpha &\\sim \\mathrm{Ga}(c_\\alpha, d_\\alpha) \\\\\n",
        "\\beta &\\sim \\mathrm{Ga}(c_\\beta, d_\\beta) \\\\\n",
        "\\rho_i \\mid \\alpha, \\beta &\\sim \\mathrm{Beta}(\\alpha, \\beta) \\quad  \\text{for } i =1, \\ldots, 4 \\\\ \n",
        "x_i \\mid \\rho_i &\\sim \\mathrm{Bin}(\\rho_i, n_i) \\quad  \\text{for } i =1, \\ldots, 4\n",
        "\\end{align}\n",
        "\n",
        "Here, $c_\\alpha, d_\\alpha, c_\\beta, d_\\beta$ are fixed hyperparameters for the \"hyper-priors\" on $\\alpha$ and $\\beta$ and we use the shape-rate parametrization of the gamma distribution. \n",
        "\n",
        "How should we interpret these hyperparameters? Recall that in a beta-Bernoulli model we can interpret the parameters of the beta as pseudo-observations. That is, we can view $\\alpha$ and $\\beta$ as results from a prior poll that resulted in $\\alpha$ voters for Kerry and $\\beta$ voters for Bush. Thus, we can interpret the mean of $\\alpha$ as previously observed supporters for Kerry and its standard deviation as a measure of uncertainty in this number of previous voters.\n",
        "\n",
        "Since the mean of $\\alpha$ is $\\frac{c_\\alpha}{d_\\alpha}$ and the standard deviation is $\\sqrt{\\frac{c_\\alpha}{d_\\alpha^2}}$, and similarly for $\\beta$, we can adjust the hyperparameters to accord with our prior belief on Kerry/Bush's level of support."
      ],
      "metadata": {
        "id": "U3kGh6YlHZry"
      }
    },
    {
      "cell_type": "markdown",
      "source": [
        "### Problem 1 [Math]: Derive the complete conditional for $\\rho$ \n",
        "\n",
        "In order to implement a Gibbs sampler, we must be able to sample from the complete conditional of each of the unobserved variables in our model. We will sample the variables $\\rho = (\\rho_1, \\dots, \\rho_4)$ simultaneously as part of a [*block Gibbs update*](https://en.wikipedia.org/wiki/Gibbs_sampling#Blocked_Gibbs_sampler). \n",
        "\n",
        "#### Part (a): Demonstrate conditional independence of $\\{\\rho_i\\}$\n",
        "\n",
        "First, show that we have:\n",
        "\n",
        "$$p(\\rho \\mid \\alpha, \\beta, \\{x_i\\}) = \\prod_{i=1}^4 p(\\rho_i \\mid \\alpha, \\beta, x_i)$$\n",
        "\n",
        "\n",
        "\n"
      ],
      "metadata": {
        "id": "N1ulvTBkDkKP"
      }
    },
    {
      "cell_type": "markdown",
      "source": [
        "---\n",
        "First, observe\n",
        "\\begin{align*}\n",
        "p(\\{\\rho_i\\}|\\alpha, \\beta, \\{x_i\\}, \\ldots )\n",
        "&\\propto \n",
        "p(\\{\\rho_i\\},\\alpha, \\beta, \\{x_i\\}, \\ldots )\\\\\n",
        "&=\n",
        "\\bigg(\n",
        "\\prod_{i=1}^4 Binom(x_i | \\rho_i, n_i) Beta(\\rho_i | \\alpha, \\beta)\n",
        "\\bigg)Gamma(\\alpha|c_\\alpha, d_\\alpha)Gamma(\\beta|c_\\beta, d_\\beta)&\\propto \n",
        "p(\\{\\rho_i\\},\\alpha, \\beta, \\{x_i\\}, \\ldots )\\\\\n",
        "& \\propto\n",
        "\\bigg(\n",
        "\\prod_{i=1}^4 Binom(x_i | \\rho_i, n_i) Beta(\\rho_i | \\alpha, \\beta)\n",
        "\\bigg).\n",
        "\\end{align*}\n",
        "\n",
        "We also have, for a single $j$, that:\n",
        "\\begin{align*}\n",
        "p(\\rho_j|\\alpha, \\beta, \\{x_i\\}, \\ldots )\n",
        "&\\propto \n",
        "p(\\{\\rho_i\\},\\alpha, \\beta, \\{x_i\\}, \\ldots )\\\\\n",
        "&=\n",
        "\\bigg(\n",
        "\\prod_{i=1}^4 Binom(x_i | \\rho_i, n_i) Beta(\\rho_i | \\alpha, \\beta)\n",
        "\\bigg)Gamma(\\alpha|c_\\alpha, d_\\alpha)Gamma(\\beta|c_\\beta, d_\\beta)&\\propto \n",
        "p(\\{\\rho_i\\},\\alpha, \\beta, \\{x_i\\}, \\ldots )\\\\\n",
        "& \\propto\n",
        "\\bigg(\n",
        "\\prod_{i=1}^4 Binom(x_i | \\rho_i, n_i) Beta(\\rho_i | \\alpha, \\beta)\n",
        "\\bigg) \\\\\n",
        "&\\propto \n",
        "Binom(x_j | \\rho_j, n_j) Beta(\\rho_j | \\alpha, \\beta).\n",
        "\\end{align*}\n",
        "\n",
        "Hence, omitting integrating constants, we see that\n",
        "\n",
        "$$\n",
        "p(\\{\\rho_i\\},\\alpha, \\beta, \\{x_i\\}, \\ldots )\n",
        "\\propto \\prod_{i=1}^4 p(\\rho_j|\\alpha, \\beta, \\{x_i\\}, \\ldots ),\n",
        "$$\n",
        "giving conditional independence, as we are only off by a constant not dependent on the relevant parameters. \n",
        "\n",
        "---"
      ],
      "metadata": {
        "id": "Tb_nEkBnFO2L"
      }
    },
    {
      "cell_type": "markdown",
      "source": [
        "#### Part (b): \n",
        "\n",
        "Fixing $i$, derive the conditional density of $\\rho_i$ given $\\alpha, \\beta, x_i$, that is, compute:\n",
        "$$p(\\rho_i \\mid \\alpha, \\beta, x_i)$$\n",
        "\n",
        "Hint: Remember that this conditional density is proportional to the joint density of all the variables. The density should simplify nicely to a known density."
      ],
      "metadata": {
        "id": "Xwf0i5OrTCIM"
      }
    },
    {
      "cell_type": "markdown",
      "source": [
        "---\n",
        "This amounts to a standard beta-binomial conjugacy:\n",
        "\\begin{align*}\n",
        "p(\\rho_i | \\alpha, \\beta, x_i) \n",
        "&\n",
        "\\propto \n",
        "p(\\rho_i, x_i, \\alpha, \\beta, \\ldots) \\\\\n",
        "&\n",
        "\\propto \n",
        "Binom(x_i | \\rho_i, n_i) \\cdot Beta(\\rho_i | \\alpha, \\beta) \\\\\n",
        "&\n",
        "\\propto \n",
        "\\left(\\rho_i^{x_i}(1 - \\rho_i)^{n_i - x_i}\\right)\\left(\\rho_i^{\\alpha - 1}(1 - \\rho_i)^{\\beta - 1}\\right)\\\\\n",
        "&\n",
        "\\propto \n",
        "\\rho_i^{x_i  + \\alpha - 1}(1 - \\rho_i)^{n_i - x_i + \\beta - 1} \\\\\n",
        "&\\sim Beta(x_i + \\alpha, n_i - x_i + \\beta).\n",
        "\\end{align*}\n",
        "\n",
        "---"
      ],
      "metadata": {
        "id": "0HNQGLH1LJna"
      }
    },
    {
      "cell_type": "markdown",
      "source": [
        "### Problem 2: Write code to sample from the complete conditional for $\\rho$\n",
        "\n",
        "Write a function which generates a sample from the conditional distribution for $\\rho$ given $\\alpha$, $\\beta$, and $\\{x_i, n_i\\}$."
      ],
      "metadata": {
        "id": "RDzicQ7MFmDj"
      }
    },
    {
      "cell_type": "code",
      "source": [
        "from torch.distributions import Beta\n",
        "\n",
        "def gibbs_sample_rhos(alpha, beta, xs, ns):\n",
        "    \"\"\"\n",
        "    Returns a sample from the complete conditional of \\{\\rho_i\\} given alpha, \n",
        "    beta, and \\{x_i, n_i\\}.\n",
        "\n",
        "    Args:\n",
        "        alpha: scalar value > 0\n",
        "        beta: scalar value > 0\n",
        "        xs, ns: the data\n",
        "    Returns:\n",
        "        rhos: torch.tensor of length 4 with values in [0,1]\n",
        "    \"\"\"\n",
        "    return Beta(alpha + xs, ns - xs + beta).sample()"
      ],
      "metadata": {
        "id": "9inQCD8vHSQk"
      },
      "execution_count": null,
      "outputs": []
    },
    {
      "cell_type": "markdown",
      "source": [
        "### Problem 3: Derive and implement the complete conditional for $\\alpha$\n",
        "\n",
        "#### Part (a): Derive the complete conditional\n",
        "\n",
        "Next, we need to derive the complete conditional for the global variables $\\alpha$ and $\\beta$. We will first find the complete conditional of $\\alpha$. As usual, you should use that the conditional density is proportional to the joint density to find this conditional. However, unlike earlier, the conditional density is not of a simple, known form. Instead, you should find an expression for the conditional density up to an unknown normalizing constant, i.e. an expression that the conditional density is proportional to, up to a constant."
      ],
      "metadata": {
        "id": "5lTWHpzSLA5P"
      }
    },
    {
      "cell_type": "markdown",
      "source": [
        "---\n",
        "_Your answer here_.\n",
        "\n",
        "\\begin{align*}\n",
        "p(\\alpha |-)\n",
        "&=\n",
        "L(\\{\\rho_i, x_i\\}, \\alpha, \\beta, ...) \\\\\n",
        "&\\propto \n",
        "\\bigg(\\prod_{i=1}^4 Beta(\\rho_i| \\alpha, \\beta)\\bigg) Gamma(\\alpha | c_\\alpha, d_\\alpha) \\\\\n",
        "&\\propto \n",
        "\\bigg(\\frac{\\Gamma(\\alpha + \\beta)}{\\Gamma(\\alpha)\\Gamma(\\beta)}\\prod_{i=1}^4 \\rho_i ^{\\alpha - 1} (1 - \\rho_i)^{\\beta-1}\\bigg)\n",
        "\\alpha^{c_\\alpha - 1}\\exp(-d_\\alpha \\alpha) \\\\\n",
        "&\\propto \n",
        "\\bigg(\\frac{\\Gamma(\\alpha + \\beta)}{\\Gamma(\\alpha)}\\bigg)^4\n",
        "\\bigg(\\prod_{i=1}^4 \\rho_i \\bigg)^{\\alpha}\n",
        "\\alpha^{c_\\alpha - 1}\\exp(-d_\\alpha \\alpha).\n",
        "\\end{align*}\n",
        "Hence,\n",
        "$$\n",
        "\\log p(\\alpha |-)\n",
        "=\n",
        "4(\\log \\Gamma(\\alpha + \\beta) - \\log \\Gamma(\\alpha)) + \n",
        "\\alpha \\sum_{i=1}^4\\log \\rho_i + (c_\\alpha - 1)\\log \\alpha \n",
        "-d_\\alpha \\alpha\n",
        "$$\n",
        "\n",
        "\n",
        "\n",
        "---"
      ],
      "metadata": {
        "id": "Xtaw_lxzLxxH"
      }
    },
    {
      "cell_type": "markdown",
      "source": [
        "#### Part (b): Write code evaluating the unnormalized log probability\n",
        "\n",
        "By taking the logarithm of your answer above, we have an expression for the log conditional density, up to an additive constant. Implement this expression below in code.\n",
        "\n",
        "Hint: You may find the Pytorch function ```lgamma``` useful."
      ],
      "metadata": {
        "id": "tQ9xsgfAwUUa"
      }
    },
    {
      "cell_type": "code",
      "source": [
        "def alpha_log_cond(alpha, beta, rhos, c_alpha, d_alpha):\n",
        "    \"\"\"\n",
        "    Returns log p(\\alpha \\mid \\beta, \\{\\rho_i\\}, \\{x_i\\})\n",
        "    Args:\n",
        "        alpha: scalar value > 0\n",
        "        beta: scalar value > 0\n",
        "        rhos: torch.tensor of length 4 with values in [0,1]\n",
        "        c_alpha: scalar value > 0\n",
        "        d_alpha: scalar value > 0\n",
        "    Returns:\n",
        "        log_cond: scalar, conditional log probability of alpha\n",
        "    \"\"\"\n",
        "    K = rhos.shape[0]\n",
        "    log_cond = (\n",
        "        K * (torch.lgamma(alpha + beta) - torch.lgamma(alpha))\n",
        "        + alpha * torch.sum(torch.log(rhos))\n",
        "        + (c_alpha - torch.tensor(1.)) * torch.log(alpha)\n",
        "        - d_alpha * alpha\n",
        "    )\n",
        "    return log_cond"
      ],
      "metadata": {
        "id": "sSB9IQ9qwfuv"
      },
      "execution_count": null,
      "outputs": []
    },
    {
      "cell_type": "markdown",
      "source": [
        "### Problem 4: Derive and implement the complete conditional for $\\beta$\n",
        "\n",
        "#### Part (a): Derive the complete conditional\n",
        "\n",
        "Write down an expression for the complete conditional density of $\\beta$, up to a normalizing constant. Your expression should be very similar to the expression for $\\alpha$ in problem 3(a). You do not need to show your work."
      ],
      "metadata": {
        "id": "HjStlHHuMF2z"
      }
    },
    {
      "cell_type": "markdown",
      "source": [
        "---\n",
        "_Your answer here._\n",
        "\n",
        "Here, we just sub $\\beta$ for $\\alpha$ above, and deal with $1 - \\rho_i$ instead. That is,\n",
        "\n",
        "\\begin{align*}\n",
        "p(\\alpha |-)\n",
        "&=\n",
        "L(\\{\\rho_i, x_i\\}, \\alpha, \\beta, ...) \\\\\n",
        "&\\propto \n",
        "\\bigg(\\prod_{i=1}^4 Beta(\\rho_i| \\alpha, \\beta)\\bigg) Gamma(\\beta | c_\\beta, d_\\beta) \\\\\n",
        "&\\propto \n",
        "\\bigg(\\frac{\\Gamma(\\alpha + \\beta)}{\\Gamma(\\alpha)\\Gamma(\\beta)}\\prod_{i=1}^4 \\rho_i ^{\\alpha - 1} (1 - \\rho_i)^{\\beta-1}\\bigg)\n",
        "\\beta^{c_\\beta - 1}\\exp(-d_\\beta \\beta) \\\\\n",
        "&\\propto \n",
        "\\bigg(\\frac{\\Gamma(\\alpha + \\beta)}{\\Gamma(\\beta)}\\bigg)^4\n",
        "\\bigg(\\prod_{i=1}^4 (1 - \\rho_i) \\bigg)^{\\beta}\n",
        "\\beta^{c_\\beta - 1}\\exp(-d_\\beta \\beta).\n",
        "\\end{align*}\n",
        "Hence,\n",
        "$$\n",
        "\\log p(\\alpha |-)\n",
        "=\n",
        "4(\\log \\Gamma(\\alpha + \\beta) - \\log \\Gamma(\\beta)) + \n",
        "\\beta \\sum_{i=1}^4\\log \\rho_i + (c_\\beta - 1)\\log \\beta\n",
        "-d_\\beta \\beta\n",
        "$$\n",
        "\n",
        "---"
      ],
      "metadata": {
        "id": "8tGHYVCyL3kt"
      }
    },
    {
      "cell_type": "markdown",
      "source": [
        "#### Part (b): Write code evaluating the unnormalized log probability\n",
        "\n",
        "As in 3(b), write a function which evaluates the log complete conditional for $\\beta$, up to an additive constant. This should be very similar to your function from 3(b)."
      ],
      "metadata": {
        "id": "Z9OPARzswj9C"
      }
    },
    {
      "cell_type": "code",
      "source": [
        "def beta_log_cond(alpha, beta, rhos, c_beta, d_beta):\n",
        "    \"\"\"\n",
        "    Returns log p(\\beta \\mid \\alpha, \\{\\rho_i\\}, \\{x_i\\})\n",
        "    Args:\n",
        "        alpha: scalar value > 0\n",
        "        beta: scalar value > 0\n",
        "        rhos: torch.tensor of length 4 with values in [0,1]\n",
        "        c_beta: scalar value > 0\n",
        "        d_beta: scalar value > 0\n",
        "    Returns:\n",
        "        log_cond: scalar, conditional log probability of beta\n",
        "    \"\"\"\n",
        "    K = rhos.shape[0]\n",
        "    log_cond = (\n",
        "        K * (torch.lgamma(alpha + beta) - torch.lgamma(beta))\n",
        "        + beta * torch.sum(torch.log(torch.tensor(1.) - rhos))\n",
        "        + (c_beta - torch.tensor(1.)) * torch.log(beta)\n",
        "        - d_beta * beta\n",
        "    )\n",
        "    return log_cond"
      ],
      "metadata": {
        "id": "rymdw53iwpaj"
      },
      "execution_count": null,
      "outputs": []
    },
    {
      "cell_type": "markdown",
      "source": [
        "### Problem 5: Write code to sample from the complete conditionals for $\\alpha$ and $\\beta$\n",
        "\n",
        "Because we only know the complete conditionals for $\\alpha$ and $\\beta$ up to a normalizing constant, we will use the Metropolis-Hastings algorithm to sample from them. We will use a normal distribution centered at our current point as the proposal distribution. We will use the same standard deviation for the proposals of $\\alpha$ and $\\beta$. Thus, the proposal distributions will be:\n",
        "\\begin{align}\n",
        "q(\\alpha \\mid \\alpha') &= \\mathcal{N}(\\alpha ; \\alpha', l^2) \\\\\n",
        "q(\\beta \\mid \\beta') &= \\mathcal{N}(\\beta ; \\beta', l^2)\n",
        "\\end{align}\n",
        "for some $l > 0$.\n",
        "\n",
        "Note that we require $\\alpha > 0$ and $\\beta > 0$, so we may make a proposal which lies outside the support of the complete conditional. You should convince yourself that there is zero probability of accepting such a proposal in the Metropolis algorithm. \n",
        "\n",
        "Implement a step of the Metropolis-Hastings algorithm for both $\\alpha$ and $\\beta$ in the function below. You will have to use ```alpha_log_cond``` and ```beta_log_cond``` which you implemented above. \n",
        "\n",
        "_Hint_: You may find ```torch.rand``` useful for simulating uniform random variables, or ```torch.distributions.Bernoulli``` for sampling binary random variables with specified probabilities."
      ],
      "metadata": {
        "id": "eY2QN14fMj6y"
      }
    },
    {
      "cell_type": "code",
      "source": [
        "def mh_step_alpha_beta(alpha, beta, rhos, c_alpha, d_alpha, c_beta, d_beta, l=20.):\n",
        "    \"\"\"\n",
        "    Performs a MH step for both alpha and beta.\n",
        "    Args:\n",
        "        alpha, beta, rhos: current values of these random variables\n",
        "        c_alpha, d_alpha, c_beta, d_beta: hyperparameters\n",
        "        l: standard deviation of proposal distribution\n",
        "    Returns:\n",
        "        new_alpha, new_beta: new values of alpha and beta after MH step\n",
        "    \"\"\"\n",
        "    proposal_dist_alpha = Normal(alpha, l)\n",
        "    new_alpha = proposal_dist_alpha.sample()\n",
        "\n",
        "    # If proposal is negative, we can reject immediately.\n",
        "    if new_alpha < 0:\n",
        "        new_alpha = alpha\n",
        "    # Otherwise, we must check the accept-reject condition.\n",
        "    else:\n",
        "        # raw accept ratio\n",
        "        log_accept_ratio_alpha = (\n",
        "            alpha_log_cond(new_alpha, beta, rhos, c_alpha, d_alpha) # P(x')\n",
        "            + proposal_dist_alpha.log_prob(alpha) # g(x|x') RE-USING proposal_dist by symmetry\n",
        "            # for non-symmetric, we'd need a reversal dist (downhill/uphill)\n",
        "            - alpha_log_cond(alpha, beta, rhos, c_alpha, d_alpha) # P(x)\n",
        "            - proposal_dist_alpha.log_prob(new_alpha) # g(x'|x) \n",
        "        )\n",
        "        # truncate\n",
        "        log_accept_ratio_alpha = torch.minimum(log_accept_ratio_alpha, torch.tensor(0.))\n",
        "        # take the draw \n",
        "        u_alpha = torch.distributions.Uniform(0., 1.).sample()\n",
        "        if u_alpha > torch.exp(log_accept_ratio_alpha): \n",
        "            new_alpha = alpha\n",
        "    \n",
        "    proposal_dist_beta = Normal(beta, l)\n",
        "    new_beta = proposal_dist_beta.sample()\n",
        "    # If proposal is negative, we can reject immediately.\n",
        "    if new_beta < 0:\n",
        "        new_beta = beta\n",
        "    # Otherwise, we must check the accept-reject condition.\n",
        "    else:\n",
        "        # raw accept ratio\n",
        "        log_accept_ratio_beta = (\n",
        "            beta_log_cond(alpha, new_beta, rhos, c_beta, d_beta) # P(x')\n",
        "            + proposal_dist_beta.log_prob(beta) # g(x|x') RE-USING proposal_dist by symmetry\n",
        "            # for non-symmetric, we'd need a reversal dist (downhill/uphill)\n",
        "            - beta_log_cond(alpha, beta, rhos, c_beta, d_beta) # P(x)\n",
        "            - proposal_dist_beta.log_prob(new_beta) # g(x'|x) \n",
        "        )\n",
        "        # truncate\n",
        "        log_accept_ratio_beta = torch.minimum(log_accept_ratio_beta, torch.tensor(0.))\n",
        "        # take the draw \n",
        "        u_beta = torch.distributions.Uniform(0., 1.).sample()\n",
        "        if u_beta > torch.exp(log_accept_ratio_beta): \n",
        "            new_beta = beta\n",
        "    return new_alpha, new_beta"
      ],
      "metadata": {
        "id": "LdIYb4nQJSto"
      },
      "execution_count": null,
      "outputs": []
    },
    {
      "cell_type": "markdown",
      "source": [
        "### Problem 6: Implement a Gibbs sampler\n",
        "\n",
        "Using ```mh_step_alpha_beta``` and ```sample_rhos```, implement a Gibbs sampler for the proposed model. \n",
        "\n",
        "Using the generated samples, we will estimate the posterior mean and standard deviation of $\\rho_1, \\dots, \\rho_4$, and $\\frac{\\alpha}{\\alpha + \\beta}$. The latter quantity represents the base level of support for Kerry in the broader population, and is of particular interest for who will win the election.\n",
        "\n",
        "We will also track the joint log-probability of our sample throughout the iterations of the sampler. This will be useful as a diagnostic tool to check whether our sampler is correctly implemented. To easily evaluate the joint probability in code, we recommend making use of the `torch.distributions` imported above."
      ],
      "metadata": {
        "id": "mOSVFIUkSTk7"
      }
    },
    {
      "cell_type": "code",
      "source": [
        "from tqdm import trange\n",
        "rhos_0 = xs / ns\n",
        "def gibbs(n_iter,\n",
        "          xs,\n",
        "          ns,\n",
        "          alpha=torch.tensor(10.),\n",
        "          beta=torch.tensor(10.),\n",
        "          rhos=rhos_0,\n",
        "          c_alpha=torch.tensor(6.25), \n",
        "          d_alpha=torch.tensor(0.025),\n",
        "          c_beta=torch.tensor(6.25),\n",
        "          d_beta=torch.tensor(0.025),\n",
        "          burn_in=0.5):\n",
        "    \"\"\"\n",
        "    Performs Gibbs sampling in the Bayesian hierarchical model of polling data.\n",
        "    Args:\n",
        "        n_iter: number of iterations of Gibbs sampling\n",
        "        xs, ns: the data\n",
        "        alpha, beta, rhos: initial values of these random variables\n",
        "        c_alpha, d_alpha, c_beta, d_beta: hyperparameters\n",
        "        burn_in: fraction of samples to discard before computing expectations\n",
        "    Returns:\n",
        "        rhos_mean, rhos_std: posterior mean and standard deviation of rhos\n",
        "        prob_mean, prob_std: posterior mean and standard deviation of alpha/(alpha+beta)\n",
        "        lps: torch tensor of size 'n_iter' containing log joint probabilities.\n",
        "    \"\"\"\n",
        "    rhos_samples = []\n",
        "    prob_samples = []\n",
        "    alpha_samples = []\n",
        "    beta_samples = []\n",
        "    lps = torch.zeros(n_iter)\n",
        "\n",
        "    for it in trange(n_iter):\n",
        "        # Resample alpha, beta using a single Metropolis-Hastings step.   \n",
        "        alpha, beta = mh_step_alpha_beta(alpha, beta, rhos, c_alpha, d_alpha, c_beta, d_beta, l=20.)\n",
        "\n",
        "        # Resample rhos using the complete conditional.\n",
        "        rhos = gibbs_sample_rhos(alpha, beta, xs, ns)\n",
        "        # update the trace\n",
        "        if it > n_iter * burn_in:\n",
        "            rhos_samples += [rhos]\n",
        "            prob_samples += [alpha / (alpha + beta)]\n",
        "            alpha_samples += [alpha]\n",
        "            beta_samples += [beta]\n",
        "\n",
        "        # Evaluate log-joint probability at current sample\n",
        "        lps[it] = (\n",
        "            # likelihood\n",
        "            torch.sum(Binomial(ns, rhos).log_prob(xs))\n",
        "            # priors \n",
        "            + torch.sum(Beta(alpha, beta).log_prob(rhos))\n",
        "            # hyperpriors \n",
        "            + Gamma(c_alpha, d_alpha).log_prob(alpha) \n",
        "            + Gamma(c_beta, d_beta).log_prob(beta) \n",
        "        )\n",
        "\n",
        "    rhos_samples = torch.stack(rhos_samples)\n",
        "    prob_samples = torch.stack(prob_samples)\n",
        "    rhos_mean, rhos_std = torch.mean(rhos_samples, axis=0), torch.std(rhos_samples, axis=0)\n",
        "    prob_mean, prob_std = torch.mean(prob_samples), torch.std(prob_samples)\n",
        "\n",
        "    return dict(\n",
        "        rhos_samples=rhos_samples,\n",
        "        prob_samples=prob_samples,\n",
        "        alpha_samples=alpha_samples,\n",
        "        beta_samples=beta_samples,\n",
        "        rhos_mean=rhos_mean,\n",
        "        rhos_std=rhos_std,\n",
        "        prob_mean=prob_mean,\n",
        "        prob_std=prob_std,\n",
        "        lps=lps,\n",
        "    )"
      ],
      "metadata": {
        "id": "xoxOcbMF2-G8"
      },
      "execution_count": null,
      "outputs": []
    },
    {
      "cell_type": "markdown",
      "source": [
        "### Problem 7: Model Diagnostics\n",
        "\n",
        "Run Gibbs sampling for 10000 iterations (this should take about 15 seconds to run). Use the default values provided in the function signature. Plot the evolution of the joint-log-probability over iterations. "
      ],
      "metadata": {
        "id": "ieU_gCeUtE_6"
      }
    },
    {
      "cell_type": "code",
      "source": [
        "# Run Gibbs sampling for 10000 iterations\n",
        "trace = gibbs(100000, xs, ns, burn_in=.25)"
      ],
      "metadata": {
        "id": "V29kiA7y1bcH",
        "colab": {
          "base_uri": "https://localhost:8080/"
        },
        "outputId": "e7191e56-27a3-44d0-a09d-c91c79a0b102"
      },
      "execution_count": null,
      "outputs": [
        {
          "output_type": "stream",
          "name": "stderr",
          "text": [
            "100%|██████████| 100000/100000 [04:13<00:00, 393.71it/s]\n"
          ]
        }
      ]
    },
    {
      "cell_type": "markdown",
      "source": [
        "Above, sampling is run under default configurations; I then plot traces of $\\alpha, \\beta$, as well as $\\{\\rho_i\\}$, to check for convergence. Lastly, the trace of log-density is plotted. In general, I am satisfied with convergence, at least from afar."
      ],
      "metadata": {
        "id": "hol7wT_OszKy"
      }
    },
    {
      "cell_type": "code",
      "source": [
        "plt.plot(trace[\"alpha_samples\"], label=\"alpha\")\n",
        "plt.plot(trace[\"beta_samples\"], label=\"beta\")\n",
        "plt.legend()\n",
        "plt.xlabel(\"iter\")\n",
        "plt.ylabel(\"value\")\n",
        "plt.title(\"Prior Trace\")\n",
        "plt.show()\n",
        "\n",
        "\n",
        "plt.plot(trace[\"rhos_samples\"], label=\"rho\", alpha=.5)\n",
        "plt.legend()\n",
        "plt.xlabel(\"iter\")\n",
        "plt.ylabel(\"value\")\n",
        "plt.title(\"Rho Trace\")\n",
        "plt.show()\n",
        "\n",
        "plt.plot(trace[\"lps\"])\n",
        "plt.xlabel(\"iter\")\n",
        "plt.ylabel(\"log-density\")\n",
        "plt.title(\"Log Density Trace\")\n",
        "plt.show()"
      ],
      "metadata": {
        "colab": {
          "base_uri": "https://localhost:8080/",
          "height": 869
        },
        "id": "WWOjKyKUGmbM",
        "outputId": "860a3c25-8f2a-44ab-bf29-ad0324d920c6"
      },
      "execution_count": null,
      "outputs": [
        {
          "output_type": "display_data",
          "data": {
            "text/plain": [
              "<Figure size 432x288 with 1 Axes>"
            ],
            "image/png": "[encoded data removed]"
          },
          "metadata": {
            "needs_background": "light"
          }
        },
        {
          "output_type": "display_data",
          "data": {
            "text/plain": [
              "<Figure size 432x288 with 1 Axes>"
            ],
            "image/png": "[encoded data removed]"
          },
          "metadata": {
            "needs_background": "light"
          }
        },
        {
          "output_type": "display_data",
          "data": {
            "text/plain": [
              "<Figure size 432x288 with 1 Axes>"
            ],
            "image/png": "[encoded data removed]"
          },
          "metadata": {
            "needs_background": "light"
          }
        }
      ]
    },
    {
      "cell_type": "markdown",
      "source": [
        "### Problem 7: Investigations\n",
        "\n",
        "#### Part (a):\n",
        "\n",
        "What are the posterior means and standard deviations for $\\rho_1, ..., \\rho_4$ and $\\frac{\\alpha}{\\alpha + \\beta}$? Do these results seem reasonable to you?"
      ],
      "metadata": {
        "id": "vQKXKrhItwmL"
      }
    },
    {
      "cell_type": "code",
      "source": [
        "# Print the posterior means and standard deviations.\n",
        "print(\"Mean Rhos: \", trace[\"rhos_mean\"].numpy())\n",
        "print(\"SD Rhos:   \", trace[\"rhos_std\"].numpy())\n",
        "print(\"Mean (a / (a + B): \", trace[\"prob_mean\"].numpy())\n",
        "print(\"SD (a / (a + B):   \", trace[\"prob_std\"].numpy())"
      ],
      "metadata": {
        "id": "_brqCrlT1rVG",
        "colab": {
          "base_uri": "https://localhost:8080/"
        },
        "outputId": "e0b3c489-e721-4699-eb6c-98b964cadbd4"
      },
      "execution_count": null,
      "outputs": [
        {
          "output_type": "stream",
          "name": "stdout",
          "text": [
            "Mean Rhos:  [0.47087336 0.49169135 0.5003881  0.5123641 ]\n",
            "SD Rhos:    [0.01733812 0.01693571 0.01651157 0.01406655]\n",
            "Mean (a / (a + B):  0.49394837\n",
            "SD (a / (a + B):    0.019108813\n"
          ]
        }
      ]
    },
    {
      "cell_type": "markdown",
      "source": [
        "---\n",
        "Posterior values of $\\rho_i$ are printed in the first row above; they seem to indicate increasing support for Kerry (recall a 1 is a Kerry vote) from September through October. However, the underlying mean is still < .5, suggesting some general amount of support for Bush. And given that Kerry eventually lost with around 48% of the vote, this mean $\\alpha / (\\alpha + \\beta)$ at least passes the smell test.\n",
        "\n",
        "Moreover, we also see a decrease in the posterior (sampled) variance of $\\rho_4$ (as compared to $\\rho_1, \\rho_2, \\rho_3$), which aligns with intuition -- the fourth poll had the largest sample size, and hence we would expect a lower variance there. It's reassuring to see this replicated, albeit to a lesser extent, reflected in the posterior.\n",
        "\n",
        "---"
      ],
      "metadata": {
        "id": "wilm4Xqn2pKZ"
      }
    },
    {
      "cell_type": "markdown",
      "source": [
        "#### Part (b):\n",
        "\n",
        "Find a setting of the hyperparameters $c_\\alpha, d_\\alpha, c_\\beta, d_\\beta$ which will result in a prior that heavily favors Kerry. Re-run the Gibbs sampler with these settings. What is the new mean and standard deviation for $\\frac{\\alpha}{\\alpha + \\beta}$?\n",
        "\n",
        "In order to have a prior that heavily favors Kerry, we will want a prior structure that makes $\\alpha$ comparatively larger than $\\beta$; one way to do this is to parameterize the $\\Gamma(c_\\alpha, d_\\alpha)$ such that it has a large mean. To this end, consider $\\alpha \\sim \\Gamma(625, .025)$, but keeping the default/original $\\beta\\sim \\Gamma(6.25, .025)$. "
      ],
      "metadata": {
        "id": "nlXbHeg31qav"
      }
    },
    {
      "cell_type": "code",
      "source": [
        "# Run Gibbs sampling with new hyperparameters and print the posterior mean and \n",
        "# standard deviation.\n",
        "trace_kerry = gibbs(100000, xs, ns, burn_in=.25, c_alpha=torch.tensor(625.))"
      ],
      "metadata": {
        "id": "A5GvR9qG3vQb",
        "colab": {
          "base_uri": "https://localhost:8080/"
        },
        "outputId": "4489c13e-01c8-41c1-b3eb-e95164c1e625"
      },
      "execution_count": null,
      "outputs": [
        {
          "output_type": "stream",
          "name": "stderr",
          "text": [
            "100%|██████████| 100000/100000 [04:06<00:00, 405.99it/s]\n"
          ]
        }
      ]
    },
    {
      "cell_type": "markdown",
      "source": [
        "Log-density trace is as follows:"
      ],
      "metadata": {
        "id": "UQSsH0FN3TV1"
      }
    },
    {
      "cell_type": "code",
      "source": [
        "plt.plot(trace_kerry[\"lps\"])\n",
        "plt.xlabel(\"iter\")\n",
        "plt.ylabel(\"log-density\")\n",
        "plt.title(\"Log Density Trace\")\n",
        "plt.show()"
      ],
      "metadata": {
        "colab": {
          "base_uri": "https://localhost:8080/",
          "height": 301
        },
        "id": "zXKlfS553SlS",
        "outputId": "5ac5dbe4-4d29-44ea-f6ae-ae5f9a74a7b2"
      },
      "execution_count": null,
      "outputs": [
        {
          "output_type": "display_data",
          "data": {
            "text/plain": [
              "<Figure size 432x288 with 1 Axes>"
            ],
            "image/png": "[encoded data removed]"
          },
          "metadata": {
            "needs_background": "light"
          }
        }
      ]
    },
    {
      "cell_type": "markdown",
      "source": [
        "And posterior means/SDs are:"
      ],
      "metadata": {
        "id": "6nLwUMGD3V3p"
      }
    },
    {
      "cell_type": "code",
      "source": [
        "# Print the posterior means and standard deviations.\n",
        "print(\"Mean Rhos: \", trace_kerry[\"rhos_mean\"].numpy())\n",
        "print(\"SD Rhos:   \", trace_kerry[\"rhos_std\"].numpy())\n",
        "print(\"Mean (a / (a + B): \", trace_kerry[\"prob_mean\"].numpy())\n",
        "print(\"SD (a / (a + B):   \", trace_kerry[\"prob_std\"].numpy())"
      ],
      "metadata": {
        "colab": {
          "base_uri": "https://localhost:8080/"
        },
        "id": "NCk1kfCT3YhC",
        "outputId": "130f9b1b-af9f-42d3-e602-31475c91dfa4"
      },
      "execution_count": null,
      "outputs": [
        {
          "output_type": "stream",
          "name": "stdout",
          "text": [
            "Mean Rhos:  [0.56812406 0.5692132  0.5695341  0.56917644]\n",
            "SD Rhos:    [0.02240472 0.02240113 0.02236203 0.02196845]\n",
            "Mean (a / (a + B):  0.5716946\n",
            "SD (a / (a + B):    0.022831064\n"
          ]
        }
      ]
    },
    {
      "cell_type": "markdown",
      "source": [
        "---\n",
        "\n",
        "Indeed and not unexpectedly, our updated/more extreme/more informative/less realistic prior choice moves the posterior more in favor of Kerry. It's also worth noting that under this prior, the log density is lower than above, reflecting the outrageousness of the prior.\n",
        "\n",
        "---"
      ],
      "metadata": {
        "id": "RV3VAwbj43uv"
      }
    },
    {
      "cell_type": "markdown",
      "source": [
        "### Problem 8: Reflections\n",
        "\n",
        "#### Part (a):\n",
        "\n",
        "Describe a setting in which a Gibbs sampler will be slow to mix. Why might our parametrization of the beta distribution in terms of $\\alpha$, $\\beta$ slow down the Gibbs sampler? Can you think of a different parametrization which would work better?"
      ],
      "metadata": {
        "id": "VesEVvJbtlfV"
      }
    },
    {
      "cell_type": "markdown",
      "source": [
        "---\n",
        "First, we might be able to speed things up by choosing a conjugate prior (see the final cell [here](https://en.wikipedia.org/wiki/Conjugate_prior)) -- since we do not have conjugacy under this current configuration, we have to take an M-H step to update $\\alpha, b\\eta$. This involves more evaluation of (often ugly) log densities, as well as inevitable slowing due to the M-H's \"rejection gate\" procedure. If we had access to the conjugate prior (which again, is only defined up to proportionality), we could do a proper Gibbs step, accept every move, and perhaps speed things up. This is, however, a comparatively less impactful fix. \n",
        "\n",
        "Second, and more importantly, $\\alpha$ and $\\beta$ are almost assuredly correlated, which may inhibit the sampler's ability to explore the space. For intuition why they're correlated, consider the following: $\\alpha$ represents strength of Kerry support, $\\beta$ represents strength of Bush support, and thus $\\alpha / ($\\alpha + \\beta)$ represents fraction of Kerry support. However, when Kerry support increases, Bush support most likely decreases; hence, there is some degree of correlation between the two. As such, we might want to consider alternative parameterizations that avoid this trap. Among them, we could parameterize:\n",
        "\n",
        "1.) the mean and variance of Kerry support, e.g. a mean and/or variance directly from which to draw $\\rho_i$. In this way, we'd be parameterizing mean and variance of Kerry support explicitly, and hence Bush support implicitly. More precisely, you could parameterize mean and variance Kerry support via a Gaussian or T, and transform via method-of-moments to the appropriate Beta. That is, you would model some prior\n",
        "\n",
        "$$\n",
        "\\mu \\sim g(N(\\mu_0, \\sigma^2_0))\n",
        "$$\n",
        "and \n",
        "$$\n",
        "\\sigma^2 \\sim \\Lambda(\\theta_0)\n",
        "$$\n",
        "for some positive-supported prior $\\Lambda(\\theta_0)$ (e.g. exponential, gamma, inverse chi-squared, etc.). Additionally, $g$ is some transformation to ensure $\\mu \\in (0, 1)$, e.g. a sigmoid or Gaussian CDF (Probit). At this point, you'd have a deterministic (think method of moments) mean and variance for your beta, and would proceed with \n",
        "$$\n",
        "\\rho_i \\sim Beta(\\alpha_\\beta(\\mu, \\sigma^2), \\beta_\\beta(\\mu, \\sigma^2)),\n",
        "$$\n",
        "where $\\alpha_\\beta(\\mu, \\sigma^2), \\beta_\\beta(\\mu, \\sigma^2)$ guarantee that the beta has the desired mean and variance. \n",
        "\n",
        "2.) Alternatively, and perhaps more practically, we might want to just parameterize the $\\beta$ prior via \n",
        "\\begin{align*}\n",
        "\\eta_1 &\\sim \\Gamma(\\cdot)\\\\\n",
        "\\eta_2 &\\sim \\Gamma(\\cdot),\n",
        "\\end{align*}\n",
        "and then go\n",
        "$$\n",
        "\\rho_i \\sim \\beta(\\eta_1, \\eta_1\\eta_2). \n",
        "$$\n",
        "This will have\n",
        "mean\n",
        "$$\n",
        "\\frac{\\eta_1}{\\eta_1 + \\eta_2 \\eta_2} = \\frac{1}{1 + \\eta_2}\n",
        "$$\n",
        "and variance (unsimplified)\n",
        "$$\n",
        "\\frac{\\eta_1^2\\eta_2}{(\\eta_1 + \\eta_1\\eta_2)^2(\\eta_1 + \\eta_1\\eta_2 + 1)}.\n",
        "$$\n",
        "In this way, $\\eta_2$ would effectively define the mean, while $\\eta_1, \\eta_2$ in conjunction would give you the variance. Of course, the $\\Gamma$ prior could be swapped for any other non-negative density; $\\Gamma$ is just a natural choice. \n",
        "\n",
        "\n",
        "---"
      ],
      "metadata": {
        "id": "GaX8iE0aOMbZ"
      }
    },
    {
      "cell_type": "markdown",
      "source": [
        "#### Part (b):\n",
        "\n",
        "Describe one way in which a Markov Chain using a Metropolis-Hastings adjusted transition may be slow to mix. Which variable in the code above could be tuned in order to speed up convergence?"
      ],
      "metadata": {
        "id": "OF1QXidUOLVd"
      }
    },
    {
      "cell_type": "markdown",
      "source": [
        "---\n",
        "\n",
        "With the M-H sampler, you'll likely run into a Goldilocks issue with the proposal distribution (here, both for $\\alpha, \\beta$): make proposals too aggressive/unreasonable (i.e. large $l$) and you'll always reject and stay in place, but make proposals too conservative (i.e. small $l$) and you won't meaningfully move and explore . So it may be difficult find this appropriate balance, i.e. the best $l$ to use.\n",
        "\n",
        "Moreover, as we did above, the proposal distribution may generate proposals that fall off the support of the variable of interest, as was the auto-reject case above for $\\alpha < 0$ or $\\beta < 0$. So selecting a proposal distribution that won't waste time proposing impossible values may be another M-H tuning parameter that deserves considerable attention, lest the model suffer slow mixing.\n",
        "\n",
        "---"
      ],
      "metadata": {
        "id": "9zXqXcGGOPWJ"
      }
    },
    {
      "cell_type": "markdown",
      "source": [
        "# Submission Instructions\n",
        "\n",
        "\n",
        "**Formatting:** check that your code does not exceed 80 characters in line width. You can set _Tools &rarr; Settings &rarr; Editor &rarr; Vertical ruler column_ to 80 to see when you've exceeded the limit. \n",
        "\n",
        "Download your notebook in .ipynb format and remove the Open in Colab button.  Then run the following command to convert to a PDF:\n",
        "```\n",
        "jupyter nbconvert --to pdf <yourname>_hw1.ipynb\n",
        "```\n",
        "\n",
        "\n",
        "**Installing nbconvert:**\n",
        "\n",
        "If you're using Anaconda for package management, \n",
        "```\n",
        "conda install -c anaconda nbconvert\n",
        "```\n",
        "\n",
        "**Upload** your .pdf files to Gradescope. "
      ],
      "metadata": {
        "id": "8RQzBPoTRgEV"
      }
    }
  ]
}