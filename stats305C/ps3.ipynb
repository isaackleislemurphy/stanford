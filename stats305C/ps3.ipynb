{
  "cells": [
    {
      "cell_type": "markdown",
      "metadata": {
        "id": "DIaL2XtgC5_s"
      },
      "source": [
        "# Assignment 3: Continuous Latent Variable Models\n",
        "\n",
        "\n",
        "STATS305C, Stanford University, Spring 2022\n",
        "\n",
        "[![Open In Colab](https://colab.research.google.com/assets/colab-badge.svg)](https://colab.research.google.com/github/slinderman/stats305c/blob/master/assignments/hw3/hw3.ipynb)\n",
        "\n",
        "\n",
        "---\n",
        "\n",
        "**Name:** \n",
        "Isaac\n",
        "\n",
        "**Collaborators:** \n",
        "Saskia C., Muhammed C.\n",
        "\n",
        "---\n",
        "\n",
        "This homework explores continuous latent variable models like PCA and factor analysis. We will work with a synthetic dataset (MNIST digits) where we artificially mask out some pixels. Then we'll see how well we can reconstruct the images by performing Bayesian inference in a factor analysis model with missing data.\n",
        "\n",
        "This application may seem a bit contrived -- who cares about MNIST digits? -- but it has real-world applications. For example, [Markowitz et al (2018)](https://www.sciencedirect.com/science/article/pii/S0092867418305129) used this technique to find a low-dimensional embedding of images of partially occluded mice. \n",
        "\n",
        "Along the way, we'll build some intuition for PCA, hone our Gibbs sampling skills, and as a bonus, you can learn about multivariate Gaussian distribution for matrices called the matrix normal distribution.\n"
      ]
    },
    {
      "cell_type": "markdown",
      "metadata": {
        "id": "mhJyPVgS6Y9b"
      },
      "source": [
        "# Setup: Imports, Helper Functions, Data Preparation\n"
      ]
    },
    {
      "cell_type": "code",
      "execution_count": 1,
      "metadata": {
        "id": "cYTJS_5FHb6J"
      },
      "outputs": [],
      "source": [
        "import torch\n",
        "from torchvision.datasets.mnist import MNIST\n",
        "import torchvision.transforms as transforms\n",
        "\n",
        "from torch.distributions import Gamma, Normal, Bernoulli, MultivariateNormal, \\\n",
        "    TransformedDistribution\n",
        "from torch.distributions.transforms import PowerTransform\n",
        "\n",
        "from tqdm.auto import trange\n",
        "\n",
        "import matplotlib.pyplot as plt\n",
        "from matplotlib.cm import Blues\n",
        "import seaborn as sns\n",
        "sns.set_context(\"notebook\")\n",
        "\n",
        "class ScaledInvChiSq(TransformedDistribution):\n",
        "    \"\"\"\n",
        "    Implementation of the scaled inverse \\chi^2 distribution defined in class.\n",
        "    We will implement it as a transformation of a gamma distribution.\n",
        "    \"\"\"\n",
        "    def __init__(self, dof, scale):\n",
        "        base = Gamma(dof / 2, dof * scale / 2)\n",
        "        transforms = [PowerTransform(-1)]\n",
        "        TransformedDistribution.__init__(self, base, transforms)\n",
        "        self.dof = dof\n",
        "        self.scale = scale"
      ]
    },
    {
      "cell_type": "markdown",
      "metadata": {
        "id": "GZrktw9Su6p8"
      },
      "source": [
        "## Download the MNIST dataset"
      ]
    },
    {
      "cell_type": "code",
      "execution_count": 2,
      "metadata": {
        "id": "vQnZ7R50nMxb",
        "colab": {
          "base_uri": "https://localhost:8080/",
          "height": 439,
          "referenced_widgets": [
            "f4f103ffe5b74905a2994523620ad2d3",
            "97a56f78b86c4e33bd4d792cfd53153c",
            "781669102f42411bae0d1eab32b1aca3",
            "ef363c8f8ada4c04b478eb2be9131c7f",
            "ee5066ebdd7f4ba798993504e94c87af",
            "4c19eb57ed4b4538b6f9fa2aba60591c",
            "38d54e6cc9aa4be3862ec952ea7cf940",
            "22fda09f6095423e8fca24cbf394d24c",
            "8fd9a522aac14a61be391a1ffcb753cf",
            "49d394b9fb0b449a91694d0d3bcd4fe7",
            "b3ec7a81797a46fa921db48a02d6d06b",
            "1c8eaedee80e4b5e910cdb81e72a1c5d",
            "c79026c583a744aa9921f7cbd127475e",
            "2317af39129b461e93aec275c96923ce",
            "14532331935545239617ee0f0f365d94",
            "9454074f8548476e87385dc9d31ed72c",
            "68485ccf5818497188cea93d30fa4de3",
            "67e59883e59b424eb78fd849526af75e",
            "c5eee99630374cbd84bec545c29afadc",
            "422186a43da5403fa98d2848c65fa200",
            "08378890c6aa4aefbf7ae0e34c075439",
            "f79950d8d13b47a9b9337559bd973676",
            "7072b3874e2c4d61b794371b2251219f",
            "cf2c5dfef70b4f04b9181ca4f9f4fbd5",
            "27973b13545842fb8f71184f77dad285",
            "a99a0e4a79534276b12e7671d2f0e4ef",
            "e2a21392d47044a3aee3bcd15cace195",
            "6d4d01ae0ab04886876d6280f4d7e63d",
            "329fae6e76094c57b6feedce2f4a807f",
            "06d53f2e4a0647ccb19aedac67247421",
            "c97642321b0f4109a9bd3c3f6faa37f0",
            "35539998f89a4b41b35384fcdeae2da5",
            "3f0ae71748774b6b9baeafe4f0423a15",
            "916932f7fd1a4ddbae3d7518bf6c23fa",
            "79fecaae1f1a4d5f929ad4816b594356",
            "4a0bed70ab0043baa8598550a04c6182",
            "4bc32135cf794ad393270567875a25c3",
            "1e4971b1f039440b83aa4692974b32b2",
            "1bd49005516347b3bfc37ecc320dae86",
            "a83ed0e16f0842c7bd00d1ab020d4db2",
            "262b2ca0a00843549cd4c5342388c66d",
            "9cc02018536c46d392bf5bb943151b9a",
            "fd4de07957434ee98e4dba1a60bdaa34",
            "9f9786b93c6f40419b95550837a36db7"
          ]
        },
        "outputId": "b826634f-79e7-4ea7-91e3-a53f1386d6ab"
      },
      "outputs": [
        {
          "output_type": "stream",
          "name": "stdout",
          "text": [
            "Downloading http://yann.lecun.com/exdb/mnist/train-images-idx3-ubyte.gz\n",
            "Downloading http://yann.lecun.com/exdb/mnist/train-images-idx3-ubyte.gz to ./MNIST/raw/train-images-idx3-ubyte.gz\n"
          ]
        },
        {
          "output_type": "display_data",
          "data": {
            "text/plain": [
              "  0%|          | 0/9912422 [00:00<?, ?it/s]"
            ],
            "application/vnd.jupyter.widget-view+json": {
              "version_major": 2,
              "version_minor": 0,
              "model_id": "f4f103ffe5b74905a2994523620ad2d3"
            }
          },
          "metadata": {}
        },
        {
          "output_type": "stream",
          "name": "stdout",
          "text": [
            "Extracting ./MNIST/raw/train-images-idx3-ubyte.gz to ./MNIST/raw\n",
            "\n",
            "Downloading http://yann.lecun.com/exdb/mnist/train-labels-idx1-ubyte.gz\n",
            "Downloading http://yann.lecun.com/exdb/mnist/train-labels-idx1-ubyte.gz to ./MNIST/raw/train-labels-idx1-ubyte.gz\n"
          ]
        },
        {
          "output_type": "display_data",
          "data": {
            "text/plain": [
              "  0%|          | 0/28881 [00:00<?, ?it/s]"
            ],
            "application/vnd.jupyter.widget-view+json": {
              "version_major": 2,
              "version_minor": 0,
              "model_id": "1c8eaedee80e4b5e910cdb81e72a1c5d"
            }
          },
          "metadata": {}
        },
        {
          "output_type": "stream",
          "name": "stdout",
          "text": [
            "Extracting ./MNIST/raw/train-labels-idx1-ubyte.gz to ./MNIST/raw\n",
            "\n",
            "Downloading http://yann.lecun.com/exdb/mnist/t10k-images-idx3-ubyte.gz\n",
            "Downloading http://yann.lecun.com/exdb/mnist/t10k-images-idx3-ubyte.gz to ./MNIST/raw/t10k-images-idx3-ubyte.gz\n"
          ]
        },
        {
          "output_type": "display_data",
          "data": {
            "text/plain": [
              "  0%|          | 0/1648877 [00:00<?, ?it/s]"
            ],
            "application/vnd.jupyter.widget-view+json": {
              "version_major": 2,
              "version_minor": 0,
              "model_id": "7072b3874e2c4d61b794371b2251219f"
            }
          },
          "metadata": {}
        },
        {
          "output_type": "stream",
          "name": "stdout",
          "text": [
            "Extracting ./MNIST/raw/t10k-images-idx3-ubyte.gz to ./MNIST/raw\n",
            "\n",
            "Downloading http://yann.lecun.com/exdb/mnist/t10k-labels-idx1-ubyte.gz\n",
            "Downloading http://yann.lecun.com/exdb/mnist/t10k-labels-idx1-ubyte.gz to ./MNIST/raw/t10k-labels-idx1-ubyte.gz\n"
          ]
        },
        {
          "output_type": "display_data",
          "data": {
            "text/plain": [
              "  0%|          | 0/4542 [00:00<?, ?it/s]"
            ],
            "application/vnd.jupyter.widget-view+json": {
              "version_major": 2,
              "version_minor": 0,
              "model_id": "916932f7fd1a4ddbae3d7518bf6c23fa"
            }
          },
          "metadata": {}
        },
        {
          "output_type": "stream",
          "name": "stdout",
          "text": [
            "Extracting ./MNIST/raw/t10k-labels-idx1-ubyte.gz to ./MNIST/raw\n",
            "\n"
          ]
        }
      ],
      "source": [
        "# Download MNIST training data and convert to float32\n",
        "# Only use a subset of the images\n",
        "N = 10000\n",
        "X3d_true = MNIST(root='.', train=True, transform=None, download=True).data\n",
        "X3d_true = X3d_true.type(torch.float32)\n",
        "X3d_true = X3d_true[:N]\n",
        "_, H, W = X3d_true.shape\n",
        "\n",
        "# Add some noise to the images so they are not strictly integers\n",
        "# Otherwise we get weird numerical bugs in the Gibbs sampling code!\n",
        "torch.manual_seed(305)\n",
        "X3d_true += Normal(0, 3).sample(X3d_true.shape)"
      ]
    },
    {
      "cell_type": "markdown",
      "metadata": {
        "id": "UQ-kzSnXv5yI"
      },
      "source": [
        "## Write simple functions to mask off some of the data \n",
        "\n",
        "We'll make three types of masks:\n",
        "- Lines through the center of the image\n",
        "- Circles of random radius\n",
        "- Speckle, where each pixel is missing at random"
      ]
    },
    {
      "cell_type": "code",
      "execution_count": 3,
      "metadata": {
        "id": "cnbYQw3064ZH"
      },
      "outputs": [],
      "source": [
        "def random_line_mask(num_samples, \n",
        "                     mask_size=(28, 28), \n",
        "                     lw=2):\n",
        "    \"\"\"\n",
        "    Make a mask from a line through the center of the image.\n",
        "\n",
        "    Args:\n",
        "        num_samples: number of masks to generate\n",
        "        mask_size: pixels by pixels\n",
        "        lw: line width in pixels\n",
        "\n",
        "    Returns:\n",
        "        masks: (num_samples,) + mask_size array of binary masks\n",
        "\n",
        "    \"\"\"\n",
        "    # Sample random orientations for each line\n",
        "    us = Normal(0, 1).sample((num_samples, 2))\n",
        "    us /= torch.norm(us, dim=1, keepdim=True)\n",
        "\n",
        "    # Get distance of each xy coordinate to the line\n",
        "    # this is the norm of (x, y) - (xp, yph) where (xp, yp)\n",
        "    # is the projection onto the line\n",
        "    X, Y = torch.meshgrid(torch.arange(mask_size[0]), \n",
        "                          torch.arange(mask_size[1]))\n",
        "    xy = torch.column_stack([X.ravel(), Y.ravel()])\n",
        "    xy = xy - torch.tensor(mask_size) / 2.0\n",
        "    \n",
        "    # Project onto the line\n",
        "    # xpyp.shape == (num_samples, num_points, 2)\n",
        "    xpyp = (us @ xy.T).unsqueeze(2) * us.unsqueeze(1)  \n",
        "    dist = torch.norm(xy - xpyp, dim=2)\n",
        "\n",
        "    # Make masks based on a distance threshold\n",
        "    return (dist < lw).reshape((num_samples,) + mask_size)\n",
        "    \n",
        "\n",
        "def random_circle_mask(num_samples, \n",
        "                       mask_size=(28, 28),\n",
        "                       std_origin=3.0,\n",
        "                       mean_radius=3.0,\n",
        "                       df_radius=7.0):\n",
        "    \"\"\"\n",
        "    Sample random circular masks.\n",
        "\n",
        "    Args:\n",
        "        num_samples: number of masks to generate\n",
        "        mask_size: mask size in pixels\n",
        "        std_origin: standard deviation of the origin in pixels\n",
        "        mean_radius: mean radius of the circular masks\n",
        "        df_radius: degrees of freedom of a chi^2 distribution on radii.\n",
        "\n",
        "    Returns:\n",
        "        masks: (num_samples,) + mask_size array of binary masks\n",
        "    \"\"\"\n",
        "    centers = Normal(0, std_origin).sample((num_samples, 2))\n",
        "    radii = 0.1 + Gamma(df_radius / 2,\n",
        "                      df_radius / mean_radius / 2.0).sample((num_samples,))\n",
        "\n",
        "    # Determine whether each point is inside the corresponding circle\n",
        "    X, Y = torch.meshgrid(torch.arange(mask_size[0]),\n",
        "                          torch.arange(mask_size[1]))\n",
        "    X = X - mask_size[0] / 2.0\n",
        "    Y = Y - mask_size[1] / 2.0\n",
        "    xy = torch.column_stack([X.ravel(), Y.ravel()]) # (num_points, 2)\n",
        "    dist = torch.norm(centers.unsqueeze(1) - xy, dim = 2)\n",
        "    return  (dist < radii.unsqueeze(1)).reshape((num_samples,) + mask_size)\n",
        "\n",
        "\n",
        "def random_speckle_mask(num_samples,\n",
        "                        mask_size=(28, 28),\n",
        "                        p_missing=0.1):\n",
        "    \"\"\"\n",
        "    Sample a random speckle mask where each pissing is missing with equal \n",
        "    probability.\n",
        "\n",
        "    Args:\n",
        "        num_samples: number of masks to sample\n",
        "        p_speckle: probability that a pixel is missing\n",
        "\n",
        "    Returns:\n",
        "        masks: (num_samples,) + mask_size binary array\n",
        "    \"\"\"\n",
        "    masks = Bernoulli(p_missing).sample((num_samples,) + mask_size)\n",
        "    return masks.type(torch.BoolTensor)"
      ]
    },
    {
      "cell_type": "markdown",
      "metadata": {
        "id": "RRdBzJcmDLNs"
      },
      "source": [
        "## Make masks and apply them to each data point"
      ]
    },
    {
      "cell_type": "code",
      "execution_count": 4,
      "metadata": {
        "id": "PP5mFEu0v8dy",
        "colab": {
          "base_uri": "https://localhost:8080/"
        },
        "outputId": "61e37993-0aee-4157-bf53-fe679eea9c7e"
      },
      "outputs": [
        {
          "output_type": "stream",
          "name": "stderr",
          "text": [
            "/usr/local/lib/python3.7/dist-packages/torch/functional.py:445: UserWarning: torch.meshgrid: in an upcoming release, it will be required to pass the indexing argument. (Triggered internally at  ../aten/src/ATen/native/TensorShape.cpp:2157.)\n",
            "  return _VF.meshgrid(tensors, **kwargs)  # type: ignore[attr-defined]\n"
          ]
        }
      ],
      "source": [
        "# Make masks for each data point\n",
        "torch.manual_seed(305)\n",
        "line_masks = random_line_mask(N // 3)\n",
        "circ_masks = random_circle_mask(N // 3)\n",
        "spck_masks = random_speckle_mask(N - len(line_masks) - len(circ_masks))\n",
        "mask3d = torch.cat([line_masks, circ_masks, spck_masks])[torch.randperm(N)]\n",
        "\n",
        "# Make the training data by substituting 255 (the max value of a uint8) \n",
        "# for each missing pixel\n",
        "X3d = torch.clone(X3d_true)\n",
        "X3d[mask3d] = 255.0"
      ]
    },
    {
      "cell_type": "markdown",
      "metadata": {
        "id": "xHip3XlRDUrJ"
      },
      "source": [
        "## Plot the masks and the masked data"
      ]
    },
    {
      "cell_type": "code",
      "execution_count": 5,
      "metadata": {
        "id": "JJkmBu-r5ndD",
        "colab": {
          "base_uri": "https://localhost:8080/",
          "height": 547
        },
        "outputId": "c547fb2b-84dc-448d-a270-abd7cf2cd9b6"
      },
      "outputs": [
        {
          "output_type": "execute_result",
          "data": {
            "text/plain": [
              "Text(0.5, 0.98, 'Random Masks')"
            ]
          },
          "metadata": {},
          "execution_count": 5
        },
        {
          "output_type": "display_data",
          "data": {
            "text/plain": [
              "<Figure size 576x576 with 25 Axes>"
            ],
            "image/png": "[encoded data removed]"
          },
          "metadata": {}
        }
      ],
      "source": [
        "# Plot a few masks\n",
        "fig, axs = plt.subplots(5, 5, figsize=(8, 8))\n",
        "for i in range(5):\n",
        "    for j in range(5):\n",
        "        axs[i, j].imshow(mask3d[i * 5 + j], interpolation=\"none\")\n",
        "        axs[i, j].set_xticks([])\n",
        "        axs[i, j].set_yticks([])\n",
        "fig.suptitle(\"Random Masks\")"
      ]
    },
    {
      "cell_type": "code",
      "execution_count": 6,
      "metadata": {
        "id": "WoL1njfVEF4M",
        "colab": {
          "base_uri": "https://localhost:8080/",
          "height": 547
        },
        "outputId": "f2919cb8-7b54-4bbd-96ed-364d4b6269b0"
      },
      "outputs": [
        {
          "output_type": "execute_result",
          "data": {
            "text/plain": [
              "Text(0.5, 0.98, 'Masked Data')"
            ]
          },
          "metadata": {},
          "execution_count": 6
        },
        {
          "output_type": "display_data",
          "data": {
            "text/plain": [
              "<Figure size 576x576 with 25 Axes>"
            ],
            "image/png": "[encoded data removed]"
          },
          "metadata": {}
        }
      ],
      "source": [
        "# Plot a few masked data points\n",
        "fig, axs = plt.subplots(5, 5, figsize=(8, 8))\n",
        "for i in range(5):\n",
        "    for j in range(5):\n",
        "        axs[i, j].imshow(X3d[i * 5 + j], interpolation=\"none\")\n",
        "        axs[i, j].set_xticks([])\n",
        "        axs[i, j].set_yticks([])\n",
        "fig.suptitle(\"Masked Data\")"
      ]
    },
    {
      "cell_type": "markdown",
      "metadata": {
        "id": "N0i92KsIDacp"
      },
      "source": [
        "## Flatten the data and masks into 2D tensors\n",
        "\n",
        "The masked data is now stored in the tensor `X3d`, which has shape `(60000, 28, 28)`. We will flatten the tensor into `X`, which has shape `(60000, 784)`, and consider each row to be a vector-valued observation. We'll do the same for the masks."
      ]
    },
    {
      "cell_type": "code",
      "execution_count": 7,
      "metadata": {
        "id": "p9fwRA4sDeyQ"
      },
      "outputs": [],
      "source": [
        "X_true = X3d_true.reshape((N, -1))\n",
        "X = X3d.reshape((N, -1))\n",
        "mask = mask3d.reshape((N, -1))"
      ]
    },
    {
      "cell_type": "markdown",
      "metadata": {
        "id": "5xfBtkhd8Hkx"
      },
      "source": [
        "**Note:** From here on out, you should only need `X` and `mask` in your code algorithm. `X_true` is reserved for validation purposes. "
      ]
    },
    {
      "cell_type": "markdown",
      "metadata": {
        "id": "aGJd4H2ECy9I"
      },
      "source": [
        "# Part 1: Principal Components Analysis and the SVD\n"
      ]
    },
    {
      "cell_type": "markdown",
      "metadata": {
        "id": "KOz9Dd1B7rDr"
      },
      "source": [
        "## Problem 1a [Code]: Run PCA on directly on the masked data\n",
        "\n",
        "In this problem, you'll investigate what happens if you run PCA on `X` directly.  \n",
        "\n",
        "Implement PCA by taking the SVD of the centered and rescaled data matrix. Plot the first 25 principal components."
      ]
    },
    {
      "cell_type": "code",
      "execution_count": 8,
      "metadata": {
        "id": "EyIH7kHD7DCE"
      },
      "outputs": [],
      "source": [
        "def pca(X):\n",
        "    \"\"\"\n",
        "    Compute the principal components and the fraction of variance explained \n",
        "    using the SVD of the scaled and centered data matrix. \n",
        "\n",
        "    Args:\n",
        "        X: a shape (N, D) tensor\n",
        "\n",
        "    Returns:\n",
        "        pcs: a shape (D, D) tensor whose columns are the full set of D principal\n",
        "            components. This matrix should be orthogonal.\n",
        "\n",
        "        var_explained: a shape (D,) tensor whose entries are the variance \n",
        "            explained by each corresponding principal component.\n",
        "    \"\"\"\n",
        "    ## \n",
        "    # Your code below.\n",
        "    #\n",
        "    ##\n",
        "    _, S, VH = torch.linalg.svd(X) # pcs = VH.T\n",
        "    pcs = VH.T\n",
        "    var_explained = torch.pow(S, 2) / torch.sum(torch.pow(S, 2))\n",
        "    # assert pcs.T @ pcs == torch.eye(X.shape[1])\n",
        "    return pcs, var_explained"
      ]
    },
    {
      "cell_type": "markdown",
      "metadata": {
        "id": "l6gVrldUE6j-"
      },
      "source": [
        "We have provided some code below to run your code and plot the results."
      ]
    },
    {
      "cell_type": "code",
      "execution_count": 9,
      "metadata": {
        "id": "qxtwfqmX_c3i"
      },
      "outputs": [],
      "source": [
        "def plot_pca(pcs, var_explained):\n",
        "    \"\"\"\n",
        "    Helper function to plot the principal components and the variance explained,\n",
        "    aka scree plot.\n",
        "    \"\"\"\n",
        "    # Plot the first 25 principal components\n",
        "    fig, axs = plt.subplots(5, 5, figsize=(8, 8))\n",
        "    for i in range(5):\n",
        "        for j in range(5):\n",
        "            axs[i, j].imshow(pcs[:, i * 5 + j].reshape((28, 28)), \n",
        "                            interpolation=\"none\")\n",
        "            axs[i, j].set_xticks([])\n",
        "            axs[i, j].set_yticks([])\n",
        "            axs[i, j].set_title(\"PC {}\".format(i * 5 + j + 1))\n",
        "    plt.tight_layout()\n",
        "\n",
        "    # Make the scree plot\n",
        "    plt.figure()\n",
        "    plt.plot(torch.cumsum(var_explained, dim=0))\n",
        "    plt.xlabel(\"Number of PCs\")\n",
        "    plt.xlim(0, 784)\n",
        "    plt.ylabel(\"Fraction of Variance Explained\")\n",
        "    plt.ylim(0, 1)\n",
        "    plt.grid(True)"
      ]
    },
    {
      "cell_type": "code",
      "execution_count": 10,
      "metadata": {
        "id": "S5DdKuBpFZBU",
        "colab": {
          "base_uri": "https://localhost:8080/",
          "height": 857
        },
        "outputId": "3763f5c4-c958-45b6-8a78-1ebfffac4727"
      },
      "outputs": [
        {
          "output_type": "display_data",
          "data": {
            "text/plain": [
              "<Figure size 576x576 with 25 Axes>"
            ],
            "image/png": "[encoded data removed]"
          },
          "metadata": {}
        },
        {
          "output_type": "display_data",
          "data": {
            "text/plain": [
              "<Figure size 432x288 with 1 Axes>"
            ],
            "image/png": "[encoded data removed]"
          },
          "metadata": {
            "needs_background": "light"
          }
        }
      ],
      "source": [
        "# Plot the pca results for X, the flattened, masked data\n",
        "plot_pca(*pca(X))"
      ]
    },
    {
      "cell_type": "code",
      "execution_count": 11,
      "metadata": {
        "id": "4_4EWkkrAxE0",
        "colab": {
          "base_uri": "https://localhost:8080/",
          "height": 857
        },
        "outputId": "421f0856-9fbd-4d4e-fc23-35a842ae745e"
      },
      "outputs": [
        {
          "output_type": "display_data",
          "data": {
            "text/plain": [
              "<Figure size 576x576 with 25 Axes>"
            ],
            "image/png": "[encoded data removed]"
          },
          "metadata": {}
        },
        {
          "output_type": "display_data",
          "data": {
            "text/plain": [
              "<Figure size 432x288 with 1 Axes>"
            ],
            "image/png": "[encoded data removed]"
          },
          "metadata": {
            "needs_background": "light"
          }
        }
      ],
      "source": [
        "# Compare the results to PCA on the X_true, the flattened true data\n",
        "plot_pca(*pca(X_true))"
      ]
    },
    {
      "cell_type": "markdown",
      "metadata": {
        "id": "p5ZZKE9lGCns"
      },
      "source": [
        "## Problem 1b [Short Answer]: Why does PCA on the masked data need so many more components?\n",
        "\n",
        "PCA needs far fewer components to reach 90% variance explained on the real data (`X_true`) than it does on the masked data (`X`). Intuitively, why is that?\n"
      ]
    },
    {
      "cell_type": "markdown",
      "metadata": {
        "id": "PnMvbmLbGdwH"
      },
      "source": [
        "---\n",
        "\n",
        "Here, the masking impacts the downstream PCAs: that is, we impute according to whatever schema (i.e. reverting random points to the 255 value), which in turn affects/distorts the SVD. As such, there's more garbage to cut through when doing the SVD/PCA, which likely results in less mileage per component. \n",
        "\n",
        "Furthermore, the imputation procedure of knocking random points to 255 also introduces a data structure that is not readily compatible with PCA. Recall that PCA presumes that the data can be linearly represented in some lower-dimensional setting. The imputation here breaks that linearity (as you're just throwing in outliers onto the fringes), causing data to no longer live in a linear subspace -- again, to the detriment of any PCA attempt.\n",
        "\n",
        "\n",
        "---"
      ]
    },
    {
      "cell_type": "markdown",
      "metadata": {
        "id": "LyjAfpByCcQa"
      },
      "source": [
        "# Part 2: Gibbs Sampling for Factor Analysis with Missing Data\n",
        "\n",
        "Now we will try to fit a continuous latent variable model to the masked data by treating the masked pixels as missing data. As in lecture, we will assume a conjugate prior of the form,\n",
        "\\begin{align}\n",
        "\\sigma_d^2 &\\sim \\chi^{-2}(\\nu_0, \\sigma_0^2) \\\\\n",
        "\\mathbf{w}_d &\\sim \\mathcal{N}(\\mathbf{0}, \\tfrac{\\sigma_d^2}{\\kappa_0} \\mathbf{I}) \\\\\n",
        "\\mu_d &\\sim \\mathcal{N}(0, \\tfrac{\\sigma_d^2}{\\lambda_0})\n",
        "\\end{align}\n",
        "The only thing we've added is a prior on the mean, which we previously assumed to be fixed at zero.\n",
        "\n",
        "Given the parameters, the distribution on latent variables and data is,\n",
        "\\begin{align}\n",
        "\\mathbf{z}_n &\\sim \\mathcal{N}(\\mathbf{0}, \\mathbf{I}) \\\\\n",
        "\\mathbf{x}_n &\\sim \\mathcal{N}(\\mathbf{W} \\mathbf{z}_n + \\boldsymbol{\\mu}, \\mathrm{diag}(\\boldsymbol{\\sigma}^2))\n",
        "\\end{align}\n",
        "where $\\mathbf{W} \\in \\mathbb{R}^{D \\times M}$ is a matrix with rows $\\mathbf{w}_d$, $\\boldsymbol{\\mu} = [\\mu_1, \\ldots, \\mu_D]^\\top$ and $\\boldsymbol{\\sigma}^2 = [\\sigma_1^2, \\ldots, \\sigma_D^2]^\\top$.\n",
        "\n",
        "The graphical model (omitting the hyperparameters) looks like this:\n",
        "\n",
        "<img src=\"https://dl.dropbox.com/s/xwojsl2jfkolxj3/fa_missing_data2.png?dl=0\" alt=\"Factor Analysis with Missing Data Graphical Model\" width=\"600\"/>\n",
        "\n",
        "<!-- ![Factor Analysis with Missing Data Graphical Model](https://dl.dropbox.com/s/zcqu0ddvx5ca5h1/fa_missing_data.png?dl=0) -->\n",
        "\n",
        "\n",
        "Here, the $d$th coordinate is missing from the $n$-th data point. On other data points, other subsets of coordinates may be missing.\n",
        "\n",
        "\n",
        "To formalize the problem, let\n",
        "\\begin{align}\n",
        "\\mathbf{X}_{\\mathsf{obs}} &= \\{x_{n,d}: x_{n,d} \\text{ is observed}\\} \\\\\n",
        "\\mathbf{X}_{\\mathsf{miss}} &= \\{x_{n,d}: x_{n,d} \\text{ is missing}\\}\n",
        "\\end{align}\n",
        "denote the observed and missing data, respectively. \n",
        "\n",
        "**Our goal** is to infer the posterior distribution over parameters and latent variables and _missing_ data given only the _observed_ data and hyperparamters,\n",
        "\\begin{align}\n",
        "p(\\mathbf{W}, \\boldsymbol{\\mu}, \\boldsymbol{\\sigma^2}, \\mathbf{Z}, \\mathbf{X}_{\\mathsf{miss}} \\mid \\mathbf{X}_{\\mathsf{obs}}, \\boldsymbol{\\eta}),\n",
        "\\end{align}\n",
        "where $\\boldsymbol{\\eta} = (\\nu_0, \\sigma_0^2, \\kappa_0, \\lambda_0)$ are the hyperparameters.\n",
        "\n",
        "To do so, we will implement a Gibbs sampling algorithm that alternates between updating the parameters $\\mathbf{W}$ and $\\boldsymbol{\\sigma^2}$ and the latent variables $\\mathbf{z}_n$ for each data point, and then we'll add one more step: sampling new values for the missing data $\\mathbf{X}_{\\mathsf{miss}}$ from their conditional distribution. With samples of $\\mathbf{X}_{\\mathsf{miss}}$, for example, we can approximate the posterior distribution over the masked regions of the image. \n",
        "\n",
        "<!-- **Finally**, to compute the posterior over just the weights, variance, and latent variables, \n",
        "\\begin{align}\n",
        "p(\\mathbf{W}, \\boldsymbol{\\sigma^2}, \\mathbf{Z} \\mid \\mathbf{X}_{\\mathsf{obs}}).\n",
        "\\end{align}\n",
        "note that this is just a marginal of the distribution above.\n",
        "So if we had a Gibbs sampler that (asymptotically) gave us samples,\n",
        "\\begin{align}\n",
        "\\mathbf{W}^{(s)}, {\\boldsymbol{\\sigma}^2}^{(s)}, \\mathbf{Z}^{(s)}, \\mathbf{X}_{\\mathsf{miss}}^{(s)} \\sim \n",
        "p(\\mathbf{W}, \\boldsymbol{\\sigma^2}, \\mathbf{Z}, \\mathbf{X}_{\\mathsf{miss}} \\mid \\mathbf{X}_{\\mathsf{obs}})\n",
        "\\end{align}\n",
        "then we could literally just throw away $\\mathbf{X}_{\\mathsf{miss}}^{(s)}$ to get \n",
        "\\begin{align}\n",
        "\\mathbf{W}^{(s)}, {\\boldsymbol{\\sigma}^2}^{(s)}, \\mathbf{Z}^{(s)} \\sim \n",
        "p(\\mathbf{W}, \\boldsymbol{\\sigma^2}, \\mathbf{Z} \\mid \\mathbf{X}_{\\mathsf{obs}})\n",
        "\\end{align}\n",
        "\n",
        "This trick is called **data augmentation**.  -->"
      ]
    },
    {
      "cell_type": "markdown",
      "metadata": {
        "id": "LayHmAZXUFdF"
      },
      "source": [
        "## Problem 2a [Math]: Derive the complete conditional distributions for the Gibbs sampler\n",
        "\n",
        "Specifically, derive closed form expressions for the following conditional distributions:\n",
        "- $p(\\mathbf{w_d} \\mid \\{\\mathbf{w}_i\\}_{i \\neq d}, \\boldsymbol{\\mu}, \\boldsymbol{\\sigma}^2, \\mathbf{Z}, \\mathbf{X}_{\\mathsf{miss}}, \\mathbf{X}_{\\mathsf{obs}}, \\boldsymbol{\\eta})$\n",
        "- $p(\\mu_d \\mid \\{\\mu_i\\}_{i \\neq d}, \\mathbf{W}, \\boldsymbol{\\sigma}^2, \\mathbf{Z}, \\mathbf{X}_{\\mathsf{miss}}, \\mathbf{X}_{\\mathsf{obs}}, \\boldsymbol{\\eta})$\n",
        "- $p(\\sigma_d^2 \\mid \\{\\sigma_i^2\\}_{i \\neq d}, \\mathbf{W}, \\boldsymbol{\\mu}, \\mathbf{Z}, \\mathbf{X}_{\\mathsf{miss}}, \\mathbf{X}_{\\mathsf{obs}}, \\boldsymbol{\\eta})$\n",
        "- $p(\\mathbf{z}_n \\mid \\mathbf{W}, \\boldsymbol{\\mu}, \\boldsymbol{\\sigma}^2, \\{\\mathbf{z}_i\\}_{i\\neq n}, \\mathbf{X}_{\\mathsf{miss}}, \\mathbf{X}_{\\mathsf{obs}}, \\boldsymbol{\\eta})$\n",
        "- $p(x_{n,d} \\mid \\mathbf{W}, \\boldsymbol{\\mu}, \\boldsymbol{\\sigma}^2, \\mathbf{Z}, \\mathbf{X}_{\\mathsf{obs}}, \\boldsymbol{\\eta})$  for each missing entry $x_{n,d}$\n",
        "\n",
        "_Hint: Your expressions may not depend on all of the conditioned upon variables._\n",
        "\n"
      ]
    },
    {
      "cell_type": "markdown",
      "metadata": {
        "id": "kG8aR0l8uvAU"
      },
      "source": [
        "---\n",
        "\n",
        "It maybe helpful to begin with a complete joint-likelihood, i.e.\n",
        "\n",
        "\\begin{align*}\n",
        "\\mathcal{L}(\\cdot)\n",
        "&= \\bigg(\\prod_{n=1}^N \\mathcal{N}(x_n | Wz_n + \\mu, diag(\\sigma^2) )\n",
        "\\cdot \\mathcal{N}(z_n|0, I_M) \\bigg) \\\\\n",
        "&\\hspace{1.5cm}\n",
        "\\bigg(\\prod_{d=1}^D \\mathcal{N}\\left (w_d | 0, \\frac{\\sigma_d^2}{k_0} I_m\\right) \n",
        "\\cdot \\mathcal{N}(\\mu_d|0, \\sigma^2_d / \\lambda_0) \n",
        "\\cdot \\chi^{-2}(\\eta_0, \\sigma_0^2)\n",
        "\\bigg) \\\\\n",
        "% full expansion\n",
        "&= \\bigg(\\prod_{n=1}^N \\prod_{d=1}^D \\mathcal{N}(x_{n, d} | w_d^Tz_n + \\mu_d, \\sigma_d^2 )\n",
        "\\cdot \\mathcal{N}(z_{n, d}|0, 1) \\bigg) \\\\\n",
        "&\\hspace{1.5cm}\n",
        "\\bigg(\\prod_{d=1}^D \\mathcal{N}\\left (w_d | 0, \\frac{\\sigma_d^2}{k_0} I_m\\right) \n",
        "\\cdot \\mathcal{N}(\\mu_d|0, \\sigma^2_d / \\lambda_0) \n",
        "\\cdot \\chi^{-2}(\\sigma^2_d | \\eta_0, \\sigma_0^2)\n",
        "\\bigg)\n",
        "\\end{align*}\n",
        "\n",
        "---"
      ]
    },
    {
      "cell_type": "markdown",
      "source": [
        "#### **i.)**\n",
        "Dropping constants (i.e. things not involving a $w_d$), we have \n",
        "\\begin{align*}\n",
        "p(w_d | -)\n",
        "&\\propto \\mathcal{L}(\\cdot) \\\\\n",
        "&\\propto \n",
        "\\bigg(\\prod_{n=1}^N \\mathcal{N}(x_{n, d} | w_d^Tz_n + \\mu_d, \\sigma_d^2 )\n",
        "\\bigg)\n",
        "\\mathcal{N}\\left (w_d | 0, \\frac{\\sigma_d^2}{k_0} I_m\\right) \\\\\n",
        "&\\propto \n",
        "\\bigg(\\prod_{n=1}^N \\mathcal{N}(x_{n, d} - \\mu_d | w_d^Tz_n, \\sigma_d^2 )\n",
        "\\bigg)\n",
        "\\mathcal{N}\\left (w_d | 0, \\frac{\\sigma_d^2}{k_0} I_m\\right) .\n",
        "\\end{align*}\n",
        "At this point, we really just have a Bayesian linear regression, where \n",
        "$$Z = \\begin{bmatrix}z_1^T\\\\\\vdots\\\\z_N^T\\end{bmatrix},$$\n",
        "is the design, $w_d$ are our weights, and $X_{\\cdot, d} - \\mu_d$ is a response vector (where we've assumed to have vectorized $\\mu_d$). Hence, from HW1 and more generally the normal-normal conjugacy, we have\n",
        "$$\n",
        "\\Lambda_{w_d} = \\sigma_d^{-2}Z^TZ + \\frac{k_0}{\\sigma_d^2}I_M\n",
        "=\n",
        "\\frac{1}{\\sigma_d^2}\\bigg(Z^TZ + k_0 I_M\\bigg)\n",
        "$$\n",
        "and \n",
        "$$\n",
        "m_{w_d} = \\Lambda_{w_d}^{-1}(k_0 \\sigma_d^{-2}0^T I_m + \\sigma_d^{-2}Z^T(X_{\\cdot, d} - \\mu_d)\n",
        "= \\Lambda_{w_d}^{-1}(\\sigma_d^{-2}Z^T(X_{\\cdot, d} - \\mu_d)).\n",
        "$$\n",
        "\n",
        "\n",
        "*Importantly, note that the $\\sigma_d^2$ term is absorbed into the posterior covariance, unlike in the Bayesian OLS setting from HW1. This is because in HW1, we were dealing with a separate Normal-Inverse-Gamma parameterization, where said $\\sigma_d^2$ was treated as a separate parameter that was eventually multiplied to the covariance in the normal portion of the Normal-Inverse-Gamma. However here, we are just using normals, so the $\\sigma_d^2$ cannot be treated as a model parameter, and is thus absorbed in the covariance.*\n",
        "\n",
        "\n",
        "Conveniently, we can cancel out a $\\sigma_d^2$, i.e.\n",
        "$$\n",
        "m_{w_d} = \\underbrace{\\sigma_d^2\\bigg(Z^TZ + k_0 I_M\\bigg)^{-1}}_{\\Lambda_{w_d}^{-1}} (\\sigma_d^{-2}Z^T(X_{\\cdot, d} - \\mu_d))\n",
        "=\n",
        "(Z^TZ + k_0 I_M)^{-1}Z^T(X_{\\cdot, d} - \\mu_d).\n",
        "$$\n",
        "This saves us an extra dimension during torch-ing."
      ],
      "metadata": {
        "id": "qROMezrdk_RJ"
      }
    },
    {
      "cell_type": "markdown",
      "source": [
        "#### **ii.)** \n",
        "Again, we have\n",
        "\n",
        "\\begin{align*}\n",
        "p(\\mu_d | - ) \n",
        "&\\propto \n",
        "\\mathcal{L}(\\cdot) \\\\\n",
        "&\\propto \n",
        "\\bigg(\\prod_{n=1}^N \\mathcal{N}(x_{n, d} | w_d^Tz_n + \\mu_d, \\sigma_d^2 )\\bigg) \\cdot \n",
        "\\mathcal{N}(\\mu_d|0, \\sigma^2_d / \\lambda_0)  \\\\\n",
        "&\\propto \n",
        "\\bigg(\\prod_{n=1}^N \\mathcal{N}(x_{n, d} - w_d^Tz_n| \\mu_d, \\sigma_d^2 )\\bigg) \\cdot \\mathcal{N}(\\mu_d|0, \\sigma^2_d / \\lambda_0).\n",
        "\\end{align*}\n",
        "Now, we have a run-of-the-mill [normal-normal conjugacy](https://en.wikipedia.org/wiki/Conjugate_prior#When_likelihood_function_is_a_continuous_distribution):\n",
        "$$\n",
        "\\phi_{\\mu_d} = \\frac{\\lambda_0}{\\sigma_d^2} + \\frac{N}{\\sigma^2_d}\n",
        "= \\frac{\\lambda_0 + N }{\\sigma_d^2}\n",
        "$$\n",
        "and\n",
        "$$\n",
        "m_{\\mu_d} = \\phi_{\\mu_d}^{-1}\n",
        "\\bigg[\\frac{\\lambda_0 \\cdot 0}{\\sigma^2_d} + \\frac{1}{\\sigma_d^2}\\sum_{n=1}^N x_{n, d} - w_d^Tz_n\n",
        "\\bigg]\n",
        "=\n",
        "\\phi_{\\mu_d}^{-1}\n",
        "\\bigg[\\frac{1}{\\sigma_d^2}\\sum_{n=1}^N x_{n, d} - w_d^Tz_n\n",
        "\\bigg].\n",
        "$$"
      ],
      "metadata": {
        "id": "RPGptP_ruMtw"
      }
    },
    {
      "cell_type": "markdown",
      "source": [
        "#### **iii.)**\n",
        " For variance, we have (using a simple linear reparameterization to rid of the $k_0, \\lambda_0$ denominators)\n",
        "\\begin{align*}\n",
        "p(\\sigma_d^2 | -) \n",
        "&\\propto \n",
        "\\mathcal{L}(\\cdot) \\\\\n",
        "&\\propto \n",
        "\\bigg(\\prod_{n=1}^N \\prod_{d=1}^D \\mathcal{N}(x_{n, d} | w_d^Tz_n + \\mu_d, \\sigma_d^2 )\n",
        "\\cdot \\mathcal{N}(z_{n, d}|0, 1) \\bigg) \\\\\n",
        "&\\hspace{1.5cm}\n",
        "\\bigg(\\prod_{d=1}^D \\mathcal{N}\\left (w_d | 0, \\frac{\\sigma_d^2}{k_0} I_m\\right) \n",
        "\\cdot \\mathcal{N}(\\mu_d|0, \\sigma^2_d / \\lambda_0) \n",
        "\\cdot \\chi^{-2}(\\sigma^2_d | \\eta_0, \\sigma_0^2)\n",
        "\\bigg) \\\\\n",
        "&\\propto \n",
        "\\bigg(\\prod_{n=1}^N \\mathcal{N}(x_{n, d} | w_d^Tz_n + \\mu_d, \\sigma_d^2 )\n",
        "\\bigg)\n",
        "\\mathcal{N}\\left (w_d | 0, \\frac{\\sigma_d^2}{k_0} I_m\\right) \n",
        "\\mathcal{N}(\\mu_d|0, \\sigma^2_d / \\lambda_0) \n",
        "\\chi^{-2}(\\sigma^2_d | \\eta_0, \\sigma_0^2)\n",
        "\\\\\n",
        "&=\n",
        "\\bigg(\n",
        "\\prod_{n=1}^N \\mathcal{N}(x_{n, d} | w_d^Tz_n + \\mu_d, \\sigma_d^2 )\n",
        "\\bigg)\n",
        "\\mathcal{N}\\left(\\sqrt{k_0} w_d | 0, \\sigma_d^2 I_m\\right) |k_0|^{M/2}\n",
        "\\mathcal{N}(\\sqrt{\\lambda_0}\\mu_d|0, \\sigma^2_d )|\\lambda_0|^{1/2}\\cdot \n",
        "\\chi^{-2}(\\sigma^2_d | \\eta_0, \\sigma_0^2)\\\\\n",
        "&\\propto \n",
        "\\bigg(\n",
        "\\prod_{n=1}^N \\mathcal{N}(x_{n, d} | w_d^Tz_n + \\mu_d, \\sigma_d^2 )\n",
        "\\bigg)\n",
        "\\mathcal{N}\\left(\\sqrt{k_0} w_d | 0, \\sigma_d^2 I_m\\right)\n",
        "\\mathcal{N}(\\sqrt{\\lambda_0}\\mu_d|0, \\sigma^2_d )\\cdot \n",
        "\\chi^{-2}(\\sigma^2_d | \\eta_0, \\sigma_0^2) \\\\\n",
        "&\\propto \n",
        "%%% normal\n",
        "\\bigg(\n",
        "\\frac{1}{\\sigma^2}\n",
        "\\bigg)^{N/2}\\exp\\bigg(\n",
        "-\\frac{1}{2\\sigma_d^2}\\sum_{n=1}^N (X_{n,d} - w_d^Tz_n - \\mu_d)^2\n",
        "\\bigg)\\\\&\\hspace{1.5cm}\n",
        "%%% weights \n",
        "\\bigg(\n",
        "\\frac{1}{\\sigma^2}\n",
        "\\bigg)^{M/2}\\exp\\bigg(\n",
        "-\\frac{1}{2\\sigma_d^2} \\sum_{m=1}^M (\\sqrt{k_0}w_{d, m} - 0)^2\n",
        "\\bigg)\\\\&\\hspace{1.5cm}\n",
        "%%% mu\n",
        "\\bigg(\n",
        "\\frac{1}{\\sigma^2}\n",
        "\\bigg)^{1/2}\\exp\\bigg(\n",
        "-\\frac{1}{2\\sigma_d^2} (\\sqrt{\\lambda_0}\\mu_d - 0)^2\n",
        "\\bigg)\\\\&\\hspace{1.5cm}\n",
        "%%% chisq\n",
        "\\bigg(\n",
        "\\frac{1}{\\sigma^2}\n",
        "\\bigg)^{(\\nu_0 - 1)/2}\\exp\\bigg(\n",
        "-\\frac{1}{2\\sigma_d^2} \\nu_0 \\sigma_0^2\n",
        "\\bigg) \\\\\n",
        "&=\n",
        "(\\sigma_d^2)^{-\\left(\\frac{N + M + 1 + \\nu_0 - 1}{2}\\right)}\n",
        "\\exp\\left( \n",
        "-\\frac{1}{2\\sigma_d^2}\\left( \n",
        "\\sum_{n=1}^N (X_{n,d} - w_d^Tz_n - \\mu_d)^2 + k_0\\sum_{m=1}^M w_{d, m}^2 + \\lambda_0 \\mu_d^2 + \\nu_0 \\sigma_0^2.\n",
        "\\right)\n",
        "\\right)\n",
        "\\end{align*}\n",
        "This is quite clearly the kernel of a scaled chi-squared itself, with \n",
        "$$\n",
        "\\nu = N + M + \\nu_0 + 1 \n",
        "$$\n",
        "and \n",
        "$$\n",
        "\\sigma^2 = \n",
        "\\frac{1}{N + M + \\nu_0 + 1}\n",
        "\\left(\n",
        "\\sum_{n=1}^N (X_{n,d} - w_d^Tz_n - \\mu_d)^2 + k_0\\sum_{m=1}^M w_{d, m}^2 + \\lambda_0 \\mu_d^2 + \\nu_0 \\sigma_0^2.\n",
        "\\right)\n",
        "$$"
      ],
      "metadata": {
        "id": "PoQ8HpnYXjt8"
      }
    },
    {
      "cell_type": "markdown",
      "source": [
        "#### **iv.)**\n",
        " We have\n",
        "\\begin{align*}\n",
        "p(z_n | - ) \n",
        "&\\propto \n",
        "\\mathcal{L}(\\cdot) \\\\\n",
        "&\\propto \n",
        "\\bigg(\\prod_{d=1}^D \\mathcal{N}(x_{n, d} | w_d^Tz_n + \\mu_d, \\sigma_d^2 )\n",
        "\\cdot \\mathcal{N}(z_{n, d}|0, 1) \\bigg) \\\\\n",
        "&\\propto \n",
        "\\bigg(\\prod_{d=1}^D \\mathcal{N}(x_{n, d} - \\mu_d | z_n^Tw_d, \\sigma_d^2 )\n",
        "\\cdot \\mathcal{N}(z_{n, d}|0, 1) \\bigg);\n",
        "\\end{align*}\n",
        "again, this is just a Bayesian OLS, so we see \n",
        "$$\n",
        "\\Lambda_{z_n} = I + W^Tdiag(\\sigma^{-2})W\n",
        "$$\n",
        "and\n",
        "$$\n",
        "m_{z_n} = \\Lambda_{z_n}^{-1}[0 + W^Tdiag(\\sigma^{-2})(x_{n} - \\mu)]. \n",
        "$$\n",
        "The $\\sigma^2$ is absorbed by the same justification above."
      ],
      "metadata": {
        "id": "IV8X8p-V1V1h"
      }
    },
    {
      "cell_type": "markdown",
      "source": [
        "#### **v.)**\n",
        " Lastly, we have\n",
        "\\begin{align*}\n",
        "p(x_{n, d}|-)\n",
        "&\\propto \n",
        "\\mathcal{L}(\\cdot) \\\\\n",
        "&\\propto \n",
        "\\bigg(\\prod_{n=1}^N \\prod_{d=1}^D \\mathcal{N}(x_{n, d} | w_d^Tz_n + \\mu_d, \\sigma_d^2 )\n",
        "\\cdot \\mathcal{N}(z_{n, d}|0, 1) \\bigg) \\\\\n",
        "&\\hspace{1.5cm}\n",
        "\\bigg(\\prod_{d=1}^D \\mathcal{N}\\left (w_d | 0, \\frac{\\sigma_d^2}{k_0} I_m\\right) \n",
        "\\cdot \\mathcal{N}(\\mu_d|0, \\sigma^2_d / \\lambda_0) \n",
        "\\cdot \\chi^{-2}(\\sigma^2_d | \\eta_0, \\sigma_0^2)\n",
        "\\bigg)\\\\\n",
        "&\\propto \n",
        "\\mathcal{N}(x_{n, d} | w_d^Tz_n + \\mu_d, \\sigma_d^2 ),\n",
        "\\end{align*}\n",
        "i.e. the \"last-stage\" likelihood component of the generative model, which makes sense. "
      ],
      "metadata": {
        "id": "PZwzKAeCUUeL"
      }
    },
    {
      "cell_type": "markdown",
      "metadata": {
        "id": "Svn980HGu0br"
      },
      "source": [
        "## Problem 2b [Short answer]: Which Gibbs steps can be performed in parallel?\n",
        "\n",
        "As in Assignment 2, some of these updates can be performed in parallel using a blocked Gibbs udpate. Which ones?"
      ]
    },
    {
      "cell_type": "markdown",
      "metadata": {
        "id": "x7_yk4SfvFtb"
      },
      "source": [
        "---\n",
        "\n",
        "As demonstrated through the use of broadcasting below, each of the above i.-v. are effectively performed as blocks. That is, each of $w_d, \\mu_d, \\sigma_d, X_{n, d}$, and $z_n$ are blocked, where each index in said variable is updated in parallel to one another. Such parallelization follows from the conditional independence of each variable with it's other indices (i.e. $w_j$ is conditionally independent of $w_{\\ell \\neq j}$ -- we see this in the DAG above, as indices w.r.t. a particular variable do not cross-pollinate, and hence conditional independence is perserved.\n",
        "\n",
        "---"
      ]
    },
    {
      "cell_type": "markdown",
      "metadata": {
        "id": "MXkk7wczv1fn"
      },
      "source": [
        "## Problem 2c [Code]: Implement the Gibbs sampler\n",
        "\n",
        "Finish the functions below to implement the udpates you derived above. We have provided some function headers to help you organize your solutions."
      ]
    },
    {
      "cell_type": "code",
      "execution_count": null,
      "metadata": {
        "id": "NNfFdeUif1tO"
      },
      "outputs": [],
      "source": [
        "def log_probability(X, Z, W, mu, sigmasq, nu0, sigmasq0, kappa0, lambda0, dims):\n",
        "    \"\"\"\n",
        "    Evaluate the log joint probability of the _complete_ data and all the \n",
        "    latent variables and parameters.\n",
        "\n",
        "    Args:\n",
        "        X: shape (N,D) tensor with the complete data (current samples of the \n",
        "            missing data are filled in)\n",
        "        Z: shape (N,M) tensor with the latent variables\n",
        "        W: shape (D,M) tensor of weights\n",
        "        mu: shape (D,) tensor with the mean parameter\n",
        "        sigmasq: shape (D,) tensor with the variance parameters\n",
        "        nu0, sigmasq0: scalar hyperparameters for the prior on variance\n",
        "        kappa0: scalar hyperparameter for the prior on weights\n",
        "        lambda0: scalar hyperparameter for the prior on mean\n",
        "        dims: tuple (N, M, D)\n",
        "    \"\"\"\n",
        "    ###\n",
        "    # Your code here.\n",
        "    #\n",
        "    # Hint: Take advantage of Pytorch distributions' support for broadcasting\n",
        "    # to evaluate many log probabilities at once.\n",
        "\n",
        "    # unpack\n",
        "    N, M, D = dims\n",
        "\n",
        "    ### Likelihood ###\n",
        "    # components of the mean\n",
        "    w_zn = Z @ W.T  # Wzn\n",
        "    mu_long = mu.repeat(N, 1) # broadcast mu\n",
        "    s = sigmasq.repeat(N, 1) # broadcast sigma\n",
        "    # check dims\n",
        "    assert w_zn.shape == mu_long.shape # check dims\n",
        "    assert w_zn.shape == s.shape\n",
        "    m = w_zn + mu_long # compute likelihood mean\n",
        "    # log probs of these\n",
        "    logp_X = Normal(\n",
        "        loc=m,\n",
        "        scale=torch.pow(s, 1/2)\n",
        "    ).log_prob(X).sum()\n",
        "\n",
        "    ### p(Z) ###\n",
        "    logp_Z = Normal(0, 1).log_prob(Z).sum()\n",
        "\n",
        "    ### p(mu) ###\n",
        "    logp_mu = Normal(\n",
        "        loc=torch.zeros(D), \n",
        "        scale=torch.pow(\n",
        "            sigmasq / lambda0,\n",
        "            1/2\n",
        "        )\n",
        "    ).log_prob(mu).sum()\n",
        "\n",
        "    ### p(W) ###\n",
        "    logp_w = MultivariateNormal(\n",
        "        loc=torch.zeros_like(W.T),\n",
        "        covariance_matrix=torch.diag(sigmasq / kappa0).unsqueeze(0)\n",
        "    ).log_prob(W.T).sum()\n",
        "\n",
        "\n",
        "    ### p(sigma2_d) ###\n",
        "    logp_sigma2_d = ScaledInvChiSq(nu0, sigmasq0).log_prob(sigmasq).sum()\n",
        "\n",
        "    lp = logp_X + logp_Z + logp_mu + logp_w + logp_sigma2_d\n",
        "    ##\n",
        "    return lp\n",
        "\n",
        "\n",
        "def gibbs_sample_latents(W, mu, sigmasq, X, dims):\n",
        "    \"\"\"\n",
        "    Sample new weights W given the other parameters, latent variables, and \n",
        "    hyperparameters.\n",
        "\n",
        "    Args:\n",
        "        W: shape (D,M) tensor of weights\n",
        "        mu: shape (D,) tensor with the mean \n",
        "        sigmasq: shape (D,) tensor with variance parameters\n",
        "        X: shape (N,D) tensor with the complete data (current samples of the \n",
        "            missing data are filled in)\n",
        "\n",
        "    Returns:\n",
        "        Z: shape (N,M) tensor with latent variables sampled from their \n",
        "            conditional\n",
        "    \"\"\"\n",
        "    ###\n",
        "    # Your code here.\n",
        "    # \n",
        "    # Hint: use the MultivariateNormal distribution object and take advantage\n",
        "    # of its broadcasting capabilities to sample the rows of Z in parallel.\n",
        "    #\n",
        "    # Hint: `torch.linalg.solve(J, h.unsqueeze(2))` will broadcast a solve of a\n",
        "    # a shape (M, M) tensor `J` with a shape (N, M) tensor `h`. It gives a \n",
        "    # tensor of shape (N, M, 1). If you're not careful with broadcasting, you \n",
        "    # can get out of memory issues and crash the kernel.\n",
        "    ##\n",
        "    # unpack\n",
        "    N, M, D = dims\n",
        "\n",
        "    # precision\n",
        "    J = torch.eye(M) + W.T @ torch.diag(torch.pow(sigmasq, -1)) @ W\n",
        "    # 2x partial mean\n",
        "    h_ = W.T @ torch.diag(torch.pow(sigmasq, -1))\n",
        "    # partial mean\n",
        "    h = ((X - mu.unsqueeze(0)) @ (h_.T))\n",
        "    # mean = precision^{-1}  * partial mean\n",
        "    post_means = torch.linalg.solve(J, h.unsqueeze(2))\n",
        "    mvn = MultivariateNormal(loc=post_means.squeeze(-1), precision_matrix=J.repeat((N, 1, 1)))\n",
        "    Z = mvn.sample()\n",
        "    return Z\n",
        "\n",
        "\n",
        "def gibbs_sample_weights(mu, sigmasq, Z, X, kappa0, dims):\n",
        "    \"\"\"\n",
        "    Sample new weights W given the other parameters, latent variables, and \n",
        "    hyperparameters.\n",
        "\n",
        "    Args:\n",
        "        mu: shape (D,) tensor with the mean parameter\n",
        "        sigmasq: shape (D,) tensor with the variance parameters\n",
        "        Z: shape (N,M) tensor with the latent variables\n",
        "        X: shape (N,D) tensor with the complete data (current samples of the \n",
        "            missing data are filled in)\n",
        "        kappa0: scalar hyperparameter for the prior on weights\n",
        "\n",
        "    Returns:\n",
        "        W: shape (D,M) tensor of weights sampled from its conditional\n",
        "    \"\"\"\n",
        "    ###\n",
        "    # Your code here.\n",
        "    # \n",
        "    # Hint: you can use the MultivariateNormal distribution object and take \n",
        "    # advantage of its broadcasting capabilities to sample many rows of W in \n",
        "    # parallel.\n",
        "    ##\n",
        "    # unpack\n",
        "    N, M, D = dims\n",
        "\n",
        "    # invert and reshape\n",
        "    invsigmasq = torch.pow(sigmasq, -1).reshape(-1, 1, 1) # [D, 1, 1]\n",
        "\n",
        "    ## see comment above\n",
        "    Lambda_no_sigma = Z.T @ Z + kappa0 * torch.eye(M) # [M, M] + [M, M]\n",
        "    assert Lambda_no_sigma.shape == torch.Size([M, M])\n",
        "    ### add in Sigma. This is the precision in full \n",
        "    Lambda_wd = (Lambda_no_sigma.unsqueeze(0)) * invsigmasq # [1 x M x M] vs [D, 1, 1] --> [D, M, M]\n",
        "    assert Lambda_wd.shape == torch.Size([D, M, M])\n",
        "    ### now compute mean\n",
        "    resids = (X - mu.unsqueeze(0)) # (X_{:, d} - u_d) // [N, D] - [1, D] --> [N, D] \n",
        "    assert resids.shape == X.shape\n",
        "    inv_prec_Z = torch.linalg.solve(Lambda_no_sigma, Z.T) # [(Z^TZ + k0 * I_M)^{-1}] Z^T\n",
        "    assert inv_prec_Z.shape == torch.Size([M, N])\n",
        "    m_wd = inv_prec_Z @ resids # (X_{:, d} - u_d) [(Z^TZ + k0 * I_M)^{-1}] Z^T\n",
        "    assert m_wd.shape == torch.Size([M, D])\n",
        "    # need to flip m_wd because we broadcast D out of the last dimension, but we \n",
        "    # want it to be the first\n",
        "    mvn = MultivariateNormal(m_wd.T, precision_matrix=Lambda_wd)\n",
        "    W = mvn.sample()\n",
        "\n",
        "    return W\n",
        "\n",
        "\n",
        "def gibbs_sample_mean(W, sigmasq, Z, X, lambda0, dims):\n",
        "    \"\"\"\n",
        "    Sample new weights mu given the other parameters, latent variables, and \n",
        "    hyperparameters.\n",
        "\n",
        "    Args:\n",
        "        W: shape (D,M) tensor of weights\n",
        "        sigmasq: shape (D,) tensor with the variance parameters\n",
        "        Z: shape (N,M) tensor with the latent variables\n",
        "        X: shape (N,D) tensor with the complete data (current samples of the \n",
        "            missing data are filled in)\n",
        "        lambda0: scalar hyperparameter for the prior on mean\n",
        "\n",
        "    Returns:\n",
        "        mu: shape (D,) tensor with the mean sampled from its conditional\n",
        "    \"\"\"\n",
        "    ###\n",
        "    # Your code here.\n",
        "    #\n",
        "    ##\n",
        "    # unpack\n",
        "    N, M, D = dims\n",
        "\n",
        "    phi = (lambda0 + N) / sigmasq # posterior precision\n",
        "    resids =  torch.sum(X - Z @ W.T, axis=0) / (lambda0 + N) # \\sum_n x_{nd} - w_d^Tz_n\n",
        "    assert phi.shape == resids.shape\n",
        "    mu = Normal(resids, scale=torch.pow(phi, -1/2)).sample()\n",
        "    return mu\n",
        "\n",
        "\n",
        "def gibbs_sample_variance(W, mu, Z, X, nu0, sigmasq0, kappa0, lambda0, dims):\n",
        "    \"\"\"\n",
        "    Sample new weights W given the other parameters, latent variables, and \n",
        "    hyperparameters.\n",
        "\n",
        "    Args:\n",
        "        W: shape (D,M) tensor of weights\n",
        "        mu: shape (D,) tensor with the mean \n",
        "        Z: shape (N,M) tensor with the latent variables\n",
        "        X: shape (N,D) tensor with the complete data (current samples of the \n",
        "            missing data are filled in)\n",
        "        nu0, sigmasq0: scalar hyperparameters for the prior on variance\n",
        "        kappa0: scalar hyperparameter for the prior on weights\n",
        "        lambda0: scalar hyperparameter for the prior on mean\n",
        "\n",
        "    Returns:\n",
        "        sigmasq: shape (D,) tensor with variance sampled from its conditional\n",
        "    \"\"\"\n",
        "    # unpack\n",
        "    N, M, D = dims\n",
        "    ###\n",
        "    # Your code here.\n",
        "    # \n",
        "    # Hint: You may use the ScaledInvChiSq distribution provide above. It also\n",
        "    # supports broadcasting.\n",
        "    ##\n",
        "\n",
        "    nu_post = N + M + 1 + nu0\n",
        "    ### do square terms individually, to check dims\n",
        "    square_data = torch.sum(torch.pow(X - Z @ W.T - mu.unsqueeze(0), 2), axis=0)\n",
        "    square_mu = torch.pow(mu, 2)\n",
        "    square_w = torch.sum(torch.pow(W, 2), axis=1)\n",
        "    prior_term = torch.tensor((sigmasq0 * nu0)).repeat(D)\n",
        "\n",
        "    assert square_data.shape == square_mu.shape\n",
        "    assert square_mu.shape == square_w.shape\n",
        "    assert square_mu.shape == prior_term.shape\n",
        "\n",
        "    sigmasq_post = (\n",
        "        square_data \n",
        "        + lambda0 * square_mu \n",
        "        + kappa0 * square_w \n",
        "        + prior_term\n",
        "    ) / nu_post\n",
        "\n",
        "    sigmasq = ScaledInvChiSq(nu_post, sigmasq_post).sample()\n",
        "    return sigmasq\n",
        "\n",
        "\n",
        "def gibbs_sample_missing_data(W, mu, sigmasq, Z, X, mask, dims):\n",
        "    \"\"\"\n",
        "    Sample new weights W given the other parameters, latent variables, and \n",
        "    hyperparameters.\n",
        "\n",
        "    Args:\n",
        "        W: shape (D,M) tensor of weights\n",
        "        mu: shape (D,) tensor with the mean \n",
        "        sigmasq: shape (D,) tensor with variance parameters\n",
        "        Z: shape (N,M) tensor with the latent variables\n",
        "        X: shape (N,D) tensor with the complete data (current samples of the \n",
        "            missing data are filled in)\n",
        "        mask: shape (N,D) boolean tensor where 1 (True) specifies that the \n",
        "            corresponding entry in X is missing and needs to be resampled.\n",
        "\n",
        "    Returns:\n",
        "        X: shape (N,D) tensor which is the same as the given X in entries where\n",
        "            mask == 0 (False), but which has new values sampled from their \n",
        "            conditional distribution in entries where mask == 1 (True).\n",
        "    \"\"\"\n",
        "    ###\n",
        "    # Your code here.\n",
        "    # \n",
        "    # Hint: Pytorch supports the same sorts of indexing tricks as numpy. \n",
        "    # See: https://pytorch.org/cppdocs/notes/tensor_indexing.html\n",
        "    # For example, you can use `X[mask] = vals` to set only the entries where \n",
        "    # the boolean mask is 1 (True). In this expression, `vals` is a 1d tensor\n",
        "    # whose length equals the number of missing values, \n",
        "    # i.e. `len(vals) = mask.sum()`. \n",
        "    ##\n",
        "    # unpack\n",
        "    N, M, D = dims\n",
        "    X_new = torch.clone(X)\n",
        "    X_new[mask] = Normal(\n",
        "        loc=(Z @ W.T + mu.unsqueeze(0)), # [(N x M) x (M x D)] + [1, D] --> [N, D]\n",
        "        scale=torch.pow(\n",
        "            sigmasq.unsqueeze(0), # to [1 x D], broadcasts thru\n",
        "            1/2\n",
        "        )\n",
        "    ).sample()[mask]\n",
        "    return X_new\n"
      ]
    },
    {
      "cell_type": "markdown",
      "metadata": {
        "id": "402NDGXHz8Pj"
      },
      "source": [
        "## Run the Gibbs Sampler [Provided]\n",
        "\n",
        "We have provided a simple function to run your Gibbs sampling code on the masked data from above. Collecting 200 Gibbs samples takes about 5 minutes with my implementation (on a Colab notebook, not using the GPU). "
      ]
    },
    {
      "cell_type": "code",
      "execution_count": null,
      "metadata": {
        "id": "qWUw-I5v0MGq"
      },
      "outputs": [],
      "source": [
        "def gibbs(X, \n",
        "          mask, \n",
        "          M=50,\n",
        "          nu0=1.1, \n",
        "          sigmasq0=10., \n",
        "          kappa0=0.01, \n",
        "          lambda0=0.01, \n",
        "          N_samples=200):\n",
        "    \"\"\"\n",
        "    Run the Gibbs sampler.\n",
        "\n",
        "    Args:\n",
        "\n",
        "        X: shape (N,D) tensor with the complete data (current samples of the \n",
        "            missing data are filled in)\n",
        "        mask: shape (N,D) boolean tensor where 1 (True) specifies that the \n",
        "            corresponding entry in X is missing and needs to be resampled.\n",
        "        M: the dimension of the continuous latent variables\n",
        "        nu0, sigmasq0: scalar hyperparameters for the prior on variance\n",
        "        kappa0: scalar hyperparameter for the prior on weights\n",
        "        lambda0: scalar hyperparameter for the prior on mean\n",
        "        N_samples:  number of Gibbs iterations to run\n",
        "    \n",
        "    Returns:\n",
        "\n",
        "    Dictionary with samples of the parameters tausq, mu, thetas, sigmasqs, and \n",
        "    the log joint probability at each iteration.\n",
        "    \"\"\"\n",
        "    N, D = X.shape\n",
        "\n",
        "    # pack\n",
        "    dims = N, M, D\n",
        "\n",
        "    # We will be updating X in place each time we sample missing data.\n",
        "    # Rather than overwriting the data that's passed in, we'll make a clone \n",
        "    # and update that instead.\n",
        "    X = torch.clone(X)\n",
        "\n",
        "    # Similarly, all the missing data is currently set to 255 (the high value).\n",
        "    # Let's initialize the missing data with the mean of the observed data.\n",
        "    fmask = mask.type(torch.float32)\n",
        "    N_obs = torch.sum(1 - fmask, dim=0)\n",
        "    X_mean = torch.sum(X * (1 - fmask), dim=0) / N_obs\n",
        "    X[mask] = X_mean.repeat(N, 1)[mask]\n",
        "\n",
        "    # Initialize the mean \\mu to the sample mean and the variance \\sigmasq to\n",
        "    # the sample variance of the observed data. Initialize the weights and the \n",
        "    # latent variables randomly.\n",
        "    mu = X_mean\n",
        "    sigmasq = torch.sum((X - X_mean)**2 * (1 - fmask), dim=0) / N_obs\n",
        "    W = Normal(0, 1).sample((D, M))\n",
        "    Z = Normal(0, 1).sample((N, M))\n",
        "\n",
        "    # Compute the initial log probability\n",
        "    lp = log_probability(X, Z, W, mu, sigmasq, nu0, sigmasq0, kappa0, lambda0, dims=dims)\n",
        "    \n",
        "    # Initialize the output\n",
        "    samples = [(torch.clone(X[mask]), Z, W, mu, sigmasq, lp)]\n",
        "\n",
        "    # Run the Gibbs sampler\n",
        "    for itr in trange(N_samples - 1):\n",
        "        # Cycle through each update \n",
        "        Z = gibbs_sample_latents(W, mu, sigmasq, X, dims=dims)\n",
        "        W = gibbs_sample_weights(mu, sigmasq, Z, X, kappa0, dims=dims)\n",
        "        mu = gibbs_sample_mean(W, sigmasq, Z, X, lambda0, dims=dims)\n",
        "        sigmasq = gibbs_sample_variance(W, mu, Z, X, \n",
        "                                        nu0, sigmasq0, kappa0, lambda0, dims=dims)\n",
        "        X = gibbs_sample_missing_data(W, mu, sigmasq, Z, X, mask, dims=dims)\n",
        "\n",
        "        # Compute the log probability\n",
        "        lp = log_probability(X, Z, W, mu, sigmasq, nu0, sigmasq0, kappa0, lambda0, dims=dims)\n",
        "                \n",
        "        # Update the sample list\n",
        "        samples.append((torch.clone(X[mask]), Z, W, mu, sigmasq, lp))\n",
        "\n",
        "    # Combine the output into a dictionary with a cool python zip trick\n",
        "    samples_dict = dict()\n",
        "    keys = [\"X_miss\", \"Z\", \"W\", \"mu\", \"sigmasq\", \"lps\"]\n",
        "    values = zip(*samples)\n",
        "    for key, value in zip(keys, values):\n",
        "        samples_dict[key] = torch.stack(value)\n",
        "\n",
        "    return samples_dict"
      ]
    },
    {
      "cell_type": "code",
      "execution_count": null,
      "metadata": {
        "id": "AJiBENjGAvu7",
        "colab": {
          "base_uri": "https://localhost:8080/",
          "height": 49,
          "referenced_widgets": [
            "c254484fb67842f3b535dae750f48180",
            "bc53c823a88e42949bd070a295e9a7fc",
            "9c9c42faff3442078d1ff1da81db9154",
            "73fd8dfa92334430a575f37d10390317",
            "eae93cc5a4c54fc7b8634c93d830498f",
            "4f44d97753aa4870ae8f37dcd14f6ebd",
            "5dc0b0fccc474e7eb55966b677064235",
            "3eb7b4f2c672406799ca2d70b549e05f",
            "f2ca7d4cadb1418fab8d700ecbf73b4c",
            "690df390155942fc94749092cf3ab580",
            "7e9391b4e6194c699020150d6bbfd2fb"
          ]
        },
        "outputId": "f2d34d30-8187-4d28-9ca2-328937a28c00"
      },
      "outputs": [
        {
          "output_type": "display_data",
          "data": {
            "text/plain": [
              "  0%|          | 0/199 [00:00<?, ?it/s]"
            ],
            "application/vnd.jupyter.widget-view+json": {
              "version_major": 2,
              "version_minor": 0,
              "model_id": "c254484fb67842f3b535dae750f48180"
            }
          },
          "metadata": {}
        }
      ],
      "source": [
        "# This takes about 5-6 min with my code. For debugging purposes, you may want\n",
        "# to reduce N_samples, but please reset it to 200 for your final analysis.\n",
        "N_samples = 200 # 200\n",
        "samples = gibbs(X, mask, M=50, N_samples=N_samples)"
      ]
    },
    {
      "cell_type": "markdown",
      "metadata": {
        "id": "G3tDWrL6IVlb"
      },
      "source": [
        "## Plot your results [Provided]\n",
        "\n",
        "The code below generates the following plots:\n",
        "- Trace of the log joint probability\n",
        "- The first 25 data points with their missing values filled in with the average of $\\mathbf{X}_{\\mathsf{miss}}$ from the last half of the Gibbs samples. - 25 factors from the final Gibbs sample arranged into a 5x5 grid where each factor is shown as a 28x28 pixel image.\n",
        "- The root mean squared error of the reconstructed image over iterations.\n",
        "- Plot of the mean $\\boldsymbol{\\mu}$ averaged over the last half of the Gibbs samples, shown as a 28x28 pixel image\n",
        "- Plot of the variance $\\boldsymbol{\\sigma}^2$ averaged over the last half of the Gibbs samples, shown as a 28x28 pixel image\n"
      ]
    },
    {
      "cell_type": "code",
      "execution_count": null,
      "metadata": {
        "id": "7zpDU4upGYwo",
        "colab": {
          "base_uri": "https://localhost:8080/",
          "height": 314
        },
        "outputId": "12175eca-daeb-442f-eb1d-f8806e02fa24"
      },
      "outputs": [
        {
          "output_type": "execute_result",
          "data": {
            "text/plain": [
              "Text(0, 0.5, 'Log Joint Probability')"
            ]
          },
          "metadata": {},
          "execution_count": 193
        },
        {
          "output_type": "display_data",
          "data": {
            "text/plain": [
              "<Figure size 432x288 with 1 Axes>"
            ],
            "image/png": "[encoded data removed]"
          },
          "metadata": {
            "needs_background": "light"
          }
        }
      ],
      "source": [
        "offset = 5\n",
        "plt.plot(torch.arange(offset, N_samples), samples[\"lps\"][offset:])\n",
        "plt.xlabel(\"Iteration\")\n",
        "plt.ylabel(\"Log Joint Probability\")"
      ]
    },
    {
      "cell_type": "code",
      "execution_count": null,
      "metadata": {
        "id": "U-GyGNXxH82r",
        "colab": {
          "base_uri": "https://localhost:8080/",
          "height": 547
        },
        "outputId": "1bc5d747-1721-4b14-d694-6e5e36e27e03"
      },
      "outputs": [
        {
          "output_type": "execute_result",
          "data": {
            "text/plain": [
              "Text(0.5, 0.98, 'Masked and Reconstructed Data')"
            ]
          },
          "metadata": {},
          "execution_count": 194
        },
        {
          "output_type": "display_data",
          "data": {
            "text/plain": [
              "<Figure size 1152x576 with 25 Axes>"
            ],
            "image/png": "[encoded data removed]"
          },
          "metadata": {}
        }
      ],
      "source": [
        "# Plot the masked and reconstructed data, using the mean of X_miss samples\n",
        "X_miss = samples['X_miss'][N_samples//2:].mean(dim=0)\n",
        "X_recon = torch.clone(X)\n",
        "X_recon[mask] = X_miss\n",
        "\n",
        "# Plot a few masked data points\n",
        "fig, axs = plt.subplots(5, 5, figsize=(16, 8))\n",
        "for i in range(5):\n",
        "    for j in range(5):\n",
        "        im = torch.column_stack([X[i * 5 + j].reshape(28, 28),\n",
        "                                 X_recon[i * 5 + j].reshape(28, 28)])\n",
        "        axs[i, j].imshow(im, interpolation=\"none\", vmin=0, vmax=255)\n",
        "        axs[i, j].set_xticks([])\n",
        "        axs[i, j].set_yticks([])\n",
        "fig.suptitle(\"Masked and Reconstructed Data\")"
      ]
    },
    {
      "cell_type": "code",
      "execution_count": null,
      "metadata": {
        "id": "CMiZP2NmIyAc",
        "colab": {
          "base_uri": "https://localhost:8080/",
          "height": 303
        },
        "outputId": "fd9c8963-8c2e-417e-d758-fcab1ad44f73"
      },
      "outputs": [
        {
          "output_type": "execute_result",
          "data": {
            "text/plain": [
              "Text(0, 0.5, 'RMSE')"
            ]
          },
          "metadata": {},
          "execution_count": 195
        },
        {
          "output_type": "display_data",
          "data": {
            "text/plain": [
              "<Figure size 432x288 with 1 Axes>"
            ],
            "image/png": "[encoded data removed]"
          },
          "metadata": {
            "needs_background": "light"
          }
        }
      ],
      "source": [
        "# Plot the reconstruction error across Gibbs iterations\n",
        "rmse = torch.sqrt(((samples['X_miss'] - X_true[mask])**2).mean(axis=1))\n",
        "plt.plot(rmse)\n",
        "plt.xlabel(\"Iteration\")\n",
        "plt.ylabel(\"RMSE\")"
      ]
    },
    {
      "cell_type": "code",
      "execution_count": null,
      "metadata": {
        "id": "W0qjqEedHv5n",
        "colab": {
          "base_uri": "https://localhost:8080/",
          "height": 581
        },
        "outputId": "acd6f5cf-6afd-488b-f4c6-8aa340362381"
      },
      "outputs": [
        {
          "output_type": "display_data",
          "data": {
            "text/plain": [
              "<Figure size 576x576 with 25 Axes>"
            ],
            "image/png": "[encoded data removed]"
          },
          "metadata": {}
        }
      ],
      "source": [
        "# Plot the first 25 principal components\n",
        "W = samples['W'][-1]\n",
        "fig, axs = plt.subplots(5, 5, figsize=(8, 8))\n",
        "for i in range(5):\n",
        "    for j in range(5):\n",
        "        axs[i, j].imshow(W[:, i * 5 + j].reshape((28, 28)), \n",
        "                        interpolation=\"none\")\n",
        "        axs[i, j].set_xticks([])\n",
        "        axs[i, j].set_yticks([])\n",
        "        axs[i, j].set_title(\"Factor {}\".format(i * 5 + j + 1))\n",
        "plt.tight_layout()"
      ]
    },
    {
      "cell_type": "code",
      "execution_count": null,
      "metadata": {
        "id": "8i1eqjdVNZjT",
        "colab": {
          "base_uri": "https://localhost:8080/",
          "height": 288
        },
        "outputId": "ff5fd7f3-da1f-44ad-b237-f5da5ce82867"
      },
      "outputs": [
        {
          "output_type": "execute_result",
          "data": {
            "text/plain": [
              "<matplotlib.colorbar.Colorbar at 0x7f9f355a39d0>"
            ]
          },
          "metadata": {},
          "execution_count": 197
        },
        {
          "output_type": "display_data",
          "data": {
            "text/plain": [
              "<Figure size 432x288 with 2 Axes>"
            ],
            "image/png": "[encoded data removed]"
          },
          "metadata": {
            "needs_background": "light"
          }
        }
      ],
      "source": [
        "# Plot the posterior mean of $\\mu$\n",
        "plt.imshow(samples[\"mu\"][N_samples//2:].mean(dim=0).reshape(28, 28))\n",
        "plt.xticks([])\n",
        "plt.yticks([])\n",
        "plt.title(\"Mean Image\")\n",
        "plt.colorbar()"
      ]
    },
    {
      "cell_type": "code",
      "execution_count": null,
      "metadata": {
        "id": "tTjVkOCyNco5",
        "colab": {
          "base_uri": "https://localhost:8080/",
          "height": 288
        },
        "outputId": "4a79f3e4-b7f8-42e5-da24-93080a2d61bb"
      },
      "outputs": [
        {
          "output_type": "execute_result",
          "data": {
            "text/plain": [
              "<matplotlib.colorbar.Colorbar at 0x7f9f35542650>"
            ]
          },
          "metadata": {},
          "execution_count": 198
        },
        {
          "output_type": "display_data",
          "data": {
            "text/plain": [
              "<Figure size 432x288 with 2 Axes>"
            ],
            "image/png": "[encoded data removed]"
          },
          "metadata": {
            "needs_background": "light"
          }
        }
      ],
      "source": [
        "# Plot the posterior mean of $\\sigma^2$\n",
        "plt.imshow(torch.sqrt(samples[\"sigmasq\"][N_samples//2:])\\\n",
        "           .mean(0).reshape(28, 28))\n",
        "plt.xticks([])\n",
        "plt.yticks([])\n",
        "plt.title(\"Per-Pixel Variance\")\n",
        "plt.colorbar()"
      ]
    },
    {
      "cell_type": "markdown",
      "metadata": {
        "id": "wChozMHcMck9"
      },
      "source": [
        "## Problem 2d [Short answer]: Discussion\n",
        "\n",
        "Were you surprised at how well (or poorly) you were able to reconstruct the masked images using factor analysis? Could you imagine alternative approaches that might perform better, and why?"
      ]
    },
    {
      "cell_type": "markdown",
      "metadata": {
        "id": "XSCaCOksM-BR"
      },
      "source": [
        "---\n",
        "\n",
        "I'd say that results turned out *decent* -- above, we see the successful unmasking of a handful of numbers, which is good? Moreover, the factors themselves appear to take semi-coherent, number-like/number-ish shapes, indicating some notion of learning (I'd be more worried if the factors were just large blobs). \n",
        "\n",
        "Further, the posterior mean $\\mu$ appeared to take a number-ish shape as well, indicating some baseline contour on top of which the $ZW$ could construct. Similarly, the $\\sigma$ vector, upon reshaping, was also activated most in the center regions, suggesting it was appropriately capturing where the action (i.e. the digits) was. Intuitively, there's minimal variance in the corners, because drawers usually leave that part of the paper/canvas untouched when drawing numbers.\n",
        "\n",
        "Of course, this is not to declare total success. Some reconstructions had large blurs or smudges through them, where it appears that the model took a conservative guess over some portion, resulting in the blue (i.e. low intensity) smudge. \n",
        "\n",
        "To improve upon this, one might consider extending this method to include additional non-linearity: perhaps basis expansion occurs on each pixel or greater interactions are allowed between pixels (both of which probably increase computational cost greatly, however); alternatively, instead of a single linear $WZ$ factor decomposition, a handful of forward layers could be introduced to allow for additional non-linearity and interaction, e.g.\n",
        "\n",
        "$$\n",
        "g_H(\\cdots g_2((g_1(ZW_1) + b_1)W_2 + b_2)\\cdots + b_H).\n",
        "$$\n",
        "\n",
        "Of course, this may come at the cost of the Gibbs conditionals, so alternative algorithms for fitting/solving might have to be used.\n",
        "\n",
        "---"
      ]
    },
    {
      "cell_type": "markdown",
      "metadata": {
        "id": "LWHWZ4-PHxqm"
      },
      "source": [
        "# Bonus: The matrix normal distribution\n",
        "\n",
        "In the model above, we put a prior on the weights $\\mathbf{W} \\in \\mathbb{R}^{D \\times M}$ by assuming each row to be an independent multivariate normal vector,\n",
        "\\begin{align}\n",
        "p(\\mathbf{W}) &= \\prod_{d=1}^D \\mathcal{N}(\\mathbf{w}_d \\mid \\mathbf{0}, \\tfrac{\\sigma_d^2}{\\kappa_0} \\mathbf{I}).\n",
        "\\end{align}\n",
        "However, in class we noted that it's a bit strange to put a prior on the rows when it's the columns (i.e. the principal components) that we really care about. \n",
        "\n",
        "For this bonus problem, we'll derive a **matrix normal** prior distribution instead. The matrix normal is a distribution on matrices $\\mathbf{W} \\in \\mathbb{R}^{D \\times M}$ with three parameters: a mean $\\mathbf{M} \\in \\mathbb{R}^{D \\times M}$, a positive definite covariance among the rows $\\mathbf{\\Sigma}_r \\in \\mathbb{R}_{\\succeq 0}^{D \\times D}$, and a positive definite covariance among the columns $\\mathbf{\\Sigma}_c \\in \\mathbb{R}_{\\succeq 0}^{M \\times M}$. \n",
        "\n",
        "The matrix normal distribution is equivalent to a multivariate distribution on the vectorized (aka flattened or raveled) matrix where the covariance matrix obeys a special, Kronecker-factored form. Specifically,\n",
        "\\begin{align}\n",
        "\\mathbf{W} \\sim \\mathcal{MN}(\\mathbf{M}, \\mathbf{\\Sigma}_r, \\mathbf{\\Sigma}_c)\n",
        "\\iff \\mathrm{vec}(\\mathbf{W}) \\sim \\mathcal{N}(\\mathrm{vec}(\\mathbf{M}), \\mathbf{\\Sigma}_r \\otimes \\mathbf{\\Sigma}_c),\n",
        "\\end{align}\n",
        "where $\\mathrm{vec}(\\cdot)$ is the vectorization operation that ravels a matrix into a vector (here in row-major, i.e. C order) and $\\otimes$ denotes the [Kronecker product](https://en.wikipedia.org/wiki/Kronecker_product). \n",
        "\n",
        "For example, suppose\n",
        "\\begin{align}\n",
        "\\mathbf{M} = \\begin{bmatrix} 1 & 2 \\\\ 3 & 4 \\\\ 5 & 6 \\end{bmatrix}.\n",
        "\\end{align}\n",
        "Then\n",
        "\\begin{align}\n",
        "\\mathrm{vec}\\left( \\mathbf{M} \\right) = [1, 2, 3, 4, 5, 6]^\\top.\n",
        "\\end{align}\n",
        "The vectorized matrix is the concatenation of its rows.\n",
        "\n",
        "To illustrate the Kronecker product, suppose\n",
        "\\begin{align}\n",
        "    \\mathbf{\\Sigma}_r = \\begin{bmatrix} \n",
        "    1 & 0 & 0 \\\\ \n",
        "    0 & 1 & 0 \\\\\n",
        "    0 & 0 & 1 \n",
        "    \\end{bmatrix}, \\quad\n",
        "    \\mathbf{\\Sigma}_c = \n",
        "    \\begin{bmatrix} 1 & -1 \\\\ -1 & 2 \\end{bmatrix}\n",
        "\\end{align}\n",
        "Then,\n",
        "\\begin{align}\n",
        "    \\mathbf{\\Sigma}_r \\otimes \\mathbf{\\Sigma}_c =\n",
        "    \\begin{bmatrix} \n",
        "    1 & -1 & 0 & 0 & 0 & 0\\\\ \n",
        "    -1 & 2 & 0 & 0 & 0 & 0\\\\\n",
        "    0 & 0 & 1 & -1 & 0 & 0 \\\\\n",
        "    0 & 0 & -1 & 2 & 0 & 0 \\\\\n",
        "    0 & 0 & 0 & 0 & 1 & -1 \\\\\n",
        "    0 & 0 & 0 & 0 & -1 & 2\n",
        "    \\end{bmatrix}\n",
        "\\end{align}\n",
        "Since $\\mathbf{\\Sigma}_r$ is the identity matrix, each row $\\mathbf{w}_d \\in \\mathbb{R}^2$ is an independent multivariate normal random variable with covariance $\\mathbf{\\Sigma}_c$. With this example in mind, we now see that the prior we used in Part 2 was really a special case of the matrix normal distribution with $\\mathbf{M} = \\mathbf{0}$, $\\mathbf{\\Sigma}_r = \\mathrm{diag}([\\sigma_1^2, \\ldots, \\sigma_D^2])$, and $\\mathbf{\\Sigma}_c = \\kappa_0^{-1} \\mathbf{I}$.\n",
        "\n",
        "We can derive the matrix normal density by starting from the multivariate normal density on the vectorized matrix,\n",
        "\\begin{align}\n",
        "p(\\mathbf{W} \\mid \\mathbf{M}, \\mathbf{\\Sigma}_r, \\mathbf{\\Sigma}_c)\n",
        "&= (2 \\pi)^{-\\frac{DM}{2}} |\\mathbf{\\Sigma}_r \\otimes \\mathbf{\\Sigma}_c | \n",
        "\\exp \\left\\{ -\\frac{1}{2} \\mathrm{vec}(\\mathbf{W} - \\mathbf{M})^\\top (\\mathbf{\\Sigma}_r \\otimes \\mathbf{\\Sigma}_c)^{-1} \\mathrm{vec}(\\mathbf{W} - \\mathbf{M}) \\right\\} \\\\\n",
        "&= (2 \\pi)^{-\\frac{DM}{2}} |\\mathbf{\\Sigma}_r|^M |\\mathbf{\\Sigma}_c|^D  \n",
        "\\exp \\left\\{ -\\frac{1}{2} \\mathrm{vec}(\\mathbf{W} - \\mathbf{M})^\\top (\\mathbf{\\Sigma}_r^{-1} \\otimes \\mathbf{\\Sigma}_c^{-1}) \\mathrm{vec}(\\mathbf{W} - \\mathbf{M}) \\right\\} \\\\\n",
        "&= (2 \\pi)^{-\\frac{DM}{2}} |\\mathbf{\\Sigma}_r|^M |\\mathbf{\\Sigma}_c|^D  \n",
        "\\exp \\left\\{ -\\frac{1}{2} \\mathrm{vec}(\\mathbf{W} - \\mathbf{M})^\\top \\mathrm{vec}(\\mathbf{\\Sigma}_r^{-1}(\\mathbf{W} - \\mathbf{M}) \\mathbf{\\Sigma}_c^{-1}) \\right\\} \\\\\n",
        "&= (2 \\pi)^{-\\frac{DM}{2}} |\\mathbf{\\Sigma}_r|^M |\\mathbf{\\Sigma}_c|^D  \n",
        "\\exp \\left\\{ -\\frac{1}{2}\\mathrm{Tr} \\left[ \\mathbf{\\Sigma}_c^{-1} (\\mathbf{W} - \\mathbf{M})^\\top \\mathbf{\\Sigma}_r^{-1} (\\mathbf{W} - \\mathbf{M}) \\right] \\right\\} \\\\\n",
        "&\\propto \\exp \\left\\{ -\\frac{1}{2}\\mathrm{Tr} \\left[ \\mathbf{\\Sigma}_c^{-1} \\mathbf{W}^\\top \\mathbf{\\Sigma}_r^{-1} \\mathbf{W} \\right] + \\mathrm{Tr} \\left[\\mathbf{\\Sigma}_c^{-1} \\mathbf{M}^\\top \\mathbf{\\Sigma}_r^{-1} \\mathbf{W} \\right] \\right\\}\n",
        "\\end{align}\n",
        "\n",
        "_Note: the definitions given here are appropriate for Python/PyTorch, where vectorization is performed in row-major order. This is in contrast to the definition on [Wikipedia](https://en.wikipedia.org/wiki/Matrix_normal_distribution), which assumes column-major order, as in Matlab or R. The only difference is ther order of the Kronecker product is flipped._\n"
      ]
    },
    {
      "cell_type": "markdown",
      "metadata": {
        "id": "Dxr1TPSSVJdT"
      },
      "source": [
        "## Bonus Problem [Math]: Derive the conditional distribution of the factor analysis weights under a matrix normal prior\n",
        "\n",
        "Now consider the factor analysis model,\n",
        "\\begin{align}\n",
        "\\mathbf{z}_n &\\sim \\mathcal{N}(\\mathbf{0}, \\mathbf{I}) \\\\\n",
        "\\mathbf{x}_n &\\sim \\mathcal{N}(\\mathbf{W} \\mathbf{z}_n + \\boldsymbol{\\mu}, \\mathrm{diag}(\\boldsymbol{\\sigma}^2))\n",
        "\\end{align}\n",
        "where $\\boldsymbol{\\mu} = [\\mu_1, \\ldots, \\mu_D]^\\top$ and $\\boldsymbol{\\sigma}^2 = [\\sigma_1^2, \\ldots, \\sigma_D^2]^\\top$. \n",
        "\n",
        "Suppose we put the following matrix normal prior on the weights and variances,\n",
        "\\begin{align}\n",
        "\\sigma_d^2 &\\sim \\chi^{-2}(\\nu_0, \\sigma_0^2) \\\\\n",
        "\\boldsymbol{\\mu} &\\sim \\mathcal{N}(\\mathbf{0}, \\mathrm{diag}(\\boldsymbol{\\sigma}^2) / \\lambda_0) \\\\\n",
        "\\mathbf{W} &\\sim \\mathcal{MN}(\\mathbf{0}, \\mathrm{diag}(\\boldsymbol{\\sigma}^2), \\mathbf{\\Sigma}_c)\n",
        "\\end{align}\n",
        "where $\\mathbf{\\Sigma}_c$ is the prior covariance among the columns.\n",
        "\n",
        "Derive the complete conditional distribution of the weights,\n",
        "\\begin{align}\n",
        "p(\\mathbf{W} \\mid \\{\\mathbf{z}_n, \\mathbf{x}_n\\}_{n=1}^N, \\boldsymbol{\\mu}, \\boldsymbol{\\sigma}^2, \\mathbf{\\Sigma}_c) \n",
        "\\end{align}\n",
        "\n",
        "Finally, let $\\mathbf{\\Sigma}_c^{-1} \\to \\mathbf{0}$. What does the conditional mean of $\\mathbf{W}$ converge to? Does this expression look familiar?"
      ]
    },
    {
      "cell_type": "markdown",
      "metadata": {
        "id": "21OlVYKMZqUn"
      },
      "source": [
        "---\n",
        "\n",
        "Dropping constants and using shorthand $\\Sigma_\\sigma: = diag(\\sigma^2)$ and $\\tilde x_n = x_n - \\mu$, we have\n",
        "\\begin{align*}\n",
        "p(W | -)\n",
        "&\n",
        "\\propto \n",
        "\\mathcal{L}(\\cdot) \\\\\n",
        "&\\propto \n",
        "\\bigg(\n",
        "\\prod_{n=1}^N \\mathcal{N}(x_n | Wz_n + \\mu, \\Sigma_\\sigma)\n",
        "\\bigg) \\cdot \\mathcal{MN}(W | 0, \\Sigma_\\sigma, \\Sigma_c) \\\\\n",
        "&\\propto \n",
        "\\exp\\bigg(\n",
        "-\\frac{1}{2}\n",
        "\\bigg[ \n",
        "\\sum_{n=1}^N (x_n - \\mu - Wz_n)^T\\Sigma_\\sigma^{-1}(x_n - \\mu - Wz_n)\n",
        "\\bigg]\n",
        "\\bigg)\\cdot \\\\ &\\hspace{1.5cm}\n",
        "\\exp\\bigg(\n",
        "-\\frac{1}{2}tr\\{\\Sigma_c^{-1}W^T\\Sigma_\\sigma^{-1}W\\} +\n",
        "  \\frac{1}{2}tr\\{\\Sigma_c^{-1}M^T\\Sigma_\\sigma^{-1}W\\}\n",
        "\\bigg) \\\\\n",
        "&\\propto \n",
        "\\exp\\bigg(\n",
        "-\\frac{1}{2}\n",
        "\\bigg[ \n",
        "\\sum_{n=1}^N (\\tilde x_n - Wz_n)^T\\Sigma_\\sigma^{-1}(\\tilde x_n - Wz_n)\n",
        "\\bigg]\n",
        "\\bigg)\\cdot \\\\ &\\hspace{1.5cm}\n",
        "\\exp\\bigg(\n",
        "-\\frac{1}{2}tr\\{\\Sigma_c^{-1}W^T\\Sigma_\\sigma^{-1}W\\} +\n",
        "  \\frac{1}{2}tr\\{\\Sigma_c^{-1}M^T\\Sigma_\\sigma^{-1}W\\}\n",
        "\\bigg) \\\\\n",
        "%%%%%%%%%%%%%%%%%%%%%%%%%%%%%%%%%\n",
        "&\\propto \n",
        "\\exp\\bigg(\n",
        "-\\frac{1}{2}\n",
        "\\sum_{n=1}^N z_n^TW^T\\Sigma_\\sigma^{-1}Wz_n \n",
        "+ \\sum_{n=1}^N \\tilde x_n^T\\Sigma_\\sigma^{-1}Wz_n\n",
        "\\bigg)\\cdot \\\\ &\\hspace{1.5cm}\n",
        "\\exp\\bigg(\n",
        "-\\frac{1}{2}tr\\{\\Sigma_c^{-1}W^T\\Sigma_\\sigma^{-1}W\\} +\n",
        "  tr\\{\\Sigma_c^{-1}M^T\\Sigma_\\sigma^{-1}W\\}\n",
        "\\bigg)\\\\\n",
        "&\\propto \n",
        "\\exp\\bigg(\n",
        "-\\frac{1}{2}\n",
        "tr\\{\\sum_{n=1}^N z_nz_n^T W^T\\Sigma_\\sigma^{-1}W\\}\n",
        "+ tr\\{\\sum_{n=1}^N \\tilde x_n^T\\Sigma_\\sigma^{-1}Wz_n\\}\n",
        "\\bigg)\\cdot \\\\ &\\hspace{1.5cm}\n",
        "\\exp\\bigg(\n",
        "-\\frac{1}{2}tr\\{\\Sigma_c^{-1}W^T\\Sigma_\\sigma^{-1}W\\} +\n",
        "  tr\\{\\Sigma_c^{-1}M^T\\Sigma_\\sigma^{-1}W\\}\n",
        "\\bigg)\\\\\n",
        "%%%%%%%%%%%%%%%%%%%%%%%%%%%%%%%%%\n",
        "&\\propto \n",
        "\\exp\\bigg(\n",
        "-\\frac{1}{2}\n",
        "tr\\{Z^TZW^T\\Sigma_\\sigma^{-1}W\\}\n",
        "+ tr\\{\\sum_{n=1}^N \\tilde x_n^T\\Sigma_\\sigma^{-1}Wz_n\\}\n",
        "\\bigg)\\cdot \\\\ &\\hspace{1.5cm}\n",
        "\\exp\\bigg(\n",
        "-\\frac{1}{2}tr\\{\\Sigma_c^{-1}W^T\\Sigma_\\sigma^{-1}W\\} +\n",
        "  tr\\{\\Sigma_c^{-1}M^T\\Sigma_\\sigma^{-1}W\\}\n",
        "\\bigg)\\\\\n",
        "%%%%%%%%%%%%%%%%%%%%%%%%%%%%%%%%%\n",
        "&\\propto \n",
        "\\exp\\bigg(\n",
        "-\\frac{1}{2}\n",
        "tr\\{Z^TZW^T\\Sigma_\\sigma^{-1}W\\}\n",
        "+ tr\\{\\tilde X \\Sigma_\\sigma^{-1}WZ^T\\}\n",
        "\\bigg)\\cdot \\\\ &\\hspace{1.5cm}\n",
        "\\exp\\bigg(\n",
        "-\\frac{1}{2}tr\\{\\Sigma_c^{-1}W^T\\Sigma_\\sigma^{-1}W\\} +\n",
        "  tr\\{\\Sigma_c^{-1}M^T\\Sigma_\\sigma^{-1}W\\}\n",
        "\\bigg)\\\\\n",
        "%%%%%%%%%%%%%%%%%%%%%%%%%%%%%%%%%\n",
        "&\\propto \n",
        "\\exp\\bigg(\n",
        "-\\frac{1}{2}\n",
        "tr\\{Z^TZW^T\\Sigma_\\sigma^{-1}W\\}\n",
        "+ tr\\{Z^T\\tilde X \\Sigma_\\sigma^{-1}W\\}\n",
        "\\bigg)\\cdot \\\\ &\\hspace{1.5cm}\n",
        "\\exp\\bigg(\n",
        "-\\frac{1}{2}tr\\{\\Sigma_c^{-1}W^T\\Sigma_\\sigma^{-1}W\\} +\n",
        "  tr\\{\\Sigma_c^{-1}M^T\\Sigma_\\sigma^{-1}W\\}\n",
        "\\bigg)\\\\\n",
        "%**********************************\n",
        "&\\propto \n",
        "\\exp\\bigg(\n",
        "-\\frac{1}{2}\n",
        "tr\\{Z^TZW^T\\Sigma_\\sigma^{-1}W + \\Sigma_c^{-1}W^T\\Sigma_\\sigma^{-1}W\\}\\\\\n",
        "&\\hspace{1.5cm}\n",
        "+ tr\\{Z^T\\tilde X \\Sigma_\\sigma^{-1}W + \\Sigma_c^{-1}M^T\\Sigma_\\sigma^{-1}W\\}\n",
        "\\bigg)\\\\\n",
        "%**********************************\n",
        "&\\propto \n",
        "\\exp\\bigg(\n",
        "-\\frac{1}{2}\n",
        "tr\\{(Z^TZ + \\Sigma_c^{-1})W^T\\Sigma_\\sigma^{-1}W\\}\\\\\n",
        "&\\hspace{1.5cm}\n",
        "+ tr\\{(Z^T\\tilde X  + \\Sigma_c^{-1}M^T)\\Sigma_\\sigma^{-1}W\\}\n",
        "\\bigg).\n",
        "\\end{align*}\n",
        "Hence, the posterior is \n",
        "$$\n",
        "W|- \\sim \n",
        "\\mathcal{MN}\\bigg(Z^T\\tilde X  + \\Sigma_c^{-1}M^T; \\Sigma_\\sigma; Z^TZ + \\Sigma_c^{-1}\\bigg).\n",
        "$$\n",
        "\n",
        "For algebraic justification, pretty much all of the above steps were justified by the following properties of the trace:\n",
        "\n",
        "* For $A, B \\in \\mathbb{R}^{n\\times n},$ we have $tr(A+B) = tr(A) + tr(B)\n",
        "\n",
        "* For $A, B$ s.t. $AB \\in \\mathbb{R}^{n\\times n}$, then $tr(AB) = tr(BA)$.\n",
        "\n",
        "* For $A, B, C$ st. $ABC \\in \\mathbb{R}^{n\\times n}$, then $tr(ABC) = tr(BCA) = tr(CAB)$.\n",
        "\n",
        "---"
      ]
    },
    {
      "cell_type": "markdown",
      "metadata": {
        "id": "AdWfXqj4MBPs"
      },
      "source": [
        "# Submission Instructions\n",
        "\n",
        "\n",
        "**Formatting:** check that your code does not exceed 80 characters in line width. You can set _Tools &rarr; Settings &rarr; Editor &rarr; Vertical ruler column_ to 80 to see when you've exceeded the limit. \n",
        "\n",
        "Download your notebook in .ipynb format and remove the Open in Colab button.  Then run the following command to convert to a PDF:\n",
        "```\n",
        "jupyter nbconvert --to pdf <yourname>_hw3.ipynb\n",
        "```\n",
        "\n",
        "**Installing nbconvert:**\n",
        "\n",
        "If you're using Anaconda for package management, \n",
        "```\n",
        "conda install -c anaconda nbconvert\n",
        "```\n",
        "\n",
        "If you can't get `nbconvert` to work, you may print to PDF using your browswer, but please make sure that none of your code, text, or math is cut off.\n",
        "\n",
        "**Upload** your .pdf files to Gradescope. "
      ]
    }
  ],
  "metadata": {
    "colab": {
      "collapsed_sections": [],
      "name": "kleisle_murphy_hw3_factor_analysis.ipynb",
      "provenance": []
    },
    "kernelspec": {
      "display_name": "Python 3 (ipykernel)",
      "language": "python",
      "name": "python3"
    },
    "language_info": {
      "codemirror_mode": {
        "name": "ipython",
        "version": 3
      },
      "file_extension": ".py",
      "mimetype": "text/x-python",
      "name": "python",
      "nbconvert_exporter": "python",
      "pygments_lexer": "ipython3",
      "version": "3.9.7"
    },
    "widgets": {
      "application/vnd.jupyter.widget-state+json": {
        "c254484fb67842f3b535dae750f48180": {
          "model_module": "@jupyter-widgets/controls",
          "model_name": "HBoxModel",
          "model_module_version": "1.5.0",
          "state": {
            "_dom_classes": [],
            "_model_module": "@jupyter-widgets/controls",
            "_model_module_version": "1.5.0",
            "_model_name": "HBoxModel",
            "_view_count": null,
            "_view_module": "@jupyter-widgets/controls",
            "_view_module_version": "1.5.0",
            "_view_name": "HBoxView",
            "box_style": "",
            "children": [
              "IPY_MODEL_bc53c823a88e42949bd070a295e9a7fc",
              "IPY_MODEL_9c9c42faff3442078d1ff1da81db9154",
              "IPY_MODEL_73fd8dfa92334430a575f37d10390317"
            ],
            "layout": "IPY_MODEL_eae93cc5a4c54fc7b8634c93d830498f"
          }
        },
        "bc53c823a88e42949bd070a295e9a7fc": {
          "model_module": "@jupyter-widgets/controls",
          "model_name": "HTMLModel",
          "model_module_version": "1.5.0",
          "state": {
            "_dom_classes": [],
            "_model_module": "@jupyter-widgets/controls",
            "_model_module_version": "1.5.0",
            "_model_name": "HTMLModel",
            "_view_count": null,
            "_view_module": "@jupyter-widgets/controls",
            "_view_module_version": "1.5.0",
            "_view_name": "HTMLView",
            "description": "",
            "description_tooltip": null,
            "layout": "IPY_MODEL_4f44d97753aa4870ae8f37dcd14f6ebd",
            "placeholder": "​",
            "style": "IPY_MODEL_5dc0b0fccc474e7eb55966b677064235",
            "value": "100%"
          }
        },
        "9c9c42faff3442078d1ff1da81db9154": {
          "model_module": "@jupyter-widgets/controls",
          "model_name": "FloatProgressModel",
          "model_module_version": "1.5.0",
          "state": {
            "_dom_classes": [],
            "_model_module": "@jupyter-widgets/controls",
            "_model_module_version": "1.5.0",
            "_model_name": "FloatProgressModel",
            "_view_count": null,
            "_view_module": "@jupyter-widgets/controls",
            "_view_module_version": "1.5.0",
            "_view_name": "ProgressView",
            "bar_style": "success",
            "description": "",
            "description_tooltip": null,
            "layout": "IPY_MODEL_3eb7b4f2c672406799ca2d70b549e05f",
            "max": 199,
            "min": 0,
            "orientation": "horizontal",
            "style": "IPY_MODEL_f2ca7d4cadb1418fab8d700ecbf73b4c",
            "value": 199
          }
        },
        "73fd8dfa92334430a575f37d10390317": {
          "model_module": "@jupyter-widgets/controls",
          "model_name": "HTMLModel",
          "model_module_version": "1.5.0",
          "state": {
            "_dom_classes": [],
            "_model_module": "@jupyter-widgets/controls",
            "_model_module_version": "1.5.0",
            "_model_name": "HTMLModel",
            "_view_count": null,
            "_view_module": "@jupyter-widgets/controls",
            "_view_module_version": "1.5.0",
            "_view_name": "HTMLView",
            "description": "",
            "description_tooltip": null,
            "layout": "IPY_MODEL_690df390155942fc94749092cf3ab580",
            "placeholder": "​",
            "style": "IPY_MODEL_7e9391b4e6194c699020150d6bbfd2fb",
            "value": " 199/199 [07:38&lt;00:00,  2.32s/it]"
          }
        },
        "eae93cc5a4c54fc7b8634c93d830498f": {
          "model_module": "@jupyter-widgets/base",
          "model_name": "LayoutModel",
          "model_module_version": "1.2.0",
          "state": {
            "_model_module": "@jupyter-widgets/base",
            "_model_module_version": "1.2.0",
            "_model_name": "LayoutModel",
            "_view_count": null,
            "_view_module": "@jupyter-widgets/base",
            "_view_module_version": "1.2.0",
            "_view_name": "LayoutView",
            "align_content": null,
            "align_items": null,
            "align_self": null,
            "border": null,
            "bottom": null,
            "display": null,
            "flex": null,
            "flex_flow": null,
            "grid_area": null,
            "grid_auto_columns": null,
            "grid_auto_flow": null,
            "grid_auto_rows": null,
            "grid_column": null,
            "grid_gap": null,
            "grid_row": null,
            "grid_template_areas": null,
            "grid_template_columns": null,
            "grid_template_rows": null,
            "height": null,
            "justify_content": null,
            "justify_items": null,
            "left": null,
            "margin": null,
            "max_height": null,
            "max_width": null,
            "min_height": null,
            "min_width": null,
            "object_fit": null,
            "object_position": null,
            "order": null,
            "overflow": null,
            "overflow_x": null,
            "overflow_y": null,
            "padding": null,
            "right": null,
            "top": null,
            "visibility": null,
            "width": null
          }
        },
        "4f44d97753aa4870ae8f37dcd14f6ebd": {
          "model_module": "@jupyter-widgets/base",
          "model_name": "LayoutModel",
          "model_module_version": "1.2.0",
          "state": {
            "_model_module": "@jupyter-widgets/base",
            "_model_module_version": "1.2.0",
            "_model_name": "LayoutModel",
            "_view_count": null,
            "_view_module": "@jupyter-widgets/base",
            "_view_module_version": "1.2.0",
            "_view_name": "LayoutView",
            "align_content": null,
            "align_items": null,
            "align_self": null,
            "border": null,
            "bottom": null,
            "display": null,
            "flex": null,
            "flex_flow": null,
            "grid_area": null,
            "grid_auto_columns": null,
            "grid_auto_flow": null,
            "grid_auto_rows": null,
            "grid_column": null,
            "grid_gap": null,
            "grid_row": null,
            "grid_template_areas": null,
            "grid_template_columns": null,
            "grid_template_rows": null,
            "height": null,
            "justify_content": null,
            "justify_items": null,
            "left": null,
            "margin": null,
            "max_height": null,
            "max_width": null,
            "min_height": null,
            "min_width": null,
            "object_fit": null,
            "object_position": null,
            "order": null,
            "overflow": null,
            "overflow_x": null,
            "overflow_y": null,
            "padding": null,
            "right": null,
            "top": null,
            "visibility": null,
            "width": null
          }
        },
        "5dc0b0fccc474e7eb55966b677064235": {
          "model_module": "@jupyter-widgets/controls",
          "model_name": "DescriptionStyleModel",
          "model_module_version": "1.5.0",
          "state": {
            "_model_module": "@jupyter-widgets/controls",
            "_model_module_version": "1.5.0",
            "_model_name": "DescriptionStyleModel",
            "_view_count": null,
            "_view_module": "@jupyter-widgets/base",
            "_view_module_version": "1.2.0",
            "_view_name": "StyleView",
            "description_width": ""
          }
        },
        "3eb7b4f2c672406799ca2d70b549e05f": {
          "model_module": "@jupyter-widgets/base",
          "model_name": "LayoutModel",
          "model_module_version": "1.2.0",
          "state": {
            "_model_module": "@jupyter-widgets/base",
            "_model_module_version": "1.2.0",
            "_model_name": "LayoutModel",
            "_view_count": null,
            "_view_module": "@jupyter-widgets/base",
            "_view_module_version": "1.2.0",
            "_view_name": "LayoutView",
            "align_content": null,
            "align_items": null,
            "align_self": null,
            "border": null,
            "bottom": null,
            "display": null,
            "flex": null,
            "flex_flow": null,
            "grid_area": null,
            "grid_auto_columns": null,
            "grid_auto_flow": null,
            "grid_auto_rows": null,
            "grid_column": null,
            "grid_gap": null,
            "grid_row": null,
            "grid_template_areas": null,
            "grid_template_columns": null,
            "grid_template_rows": null,
            "height": null,
            "justify_content": null,
            "justify_items": null,
            "left": null,
            "margin": null,
            "max_height": null,
            "max_width": null,
            "min_height": null,
            "min_width": null,
            "object_fit": null,
            "object_position": null,
            "order": null,
            "overflow": null,
            "overflow_x": null,
            "overflow_y": null,
            "padding": null,
            "right": null,
            "top": null,
            "visibility": null,
            "width": null
          }
        },
        "f2ca7d4cadb1418fab8d700ecbf73b4c": {
          "model_module": "@jupyter-widgets/controls",
          "model_name": "ProgressStyleModel",
          "model_module_version": "1.5.0",
          "state": {
            "_model_module": "@jupyter-widgets/controls",
            "_model_module_version": "1.5.0",
            "_model_name": "ProgressStyleModel",
            "_view_count": null,
            "_view_module": "@jupyter-widgets/base",
            "_view_module_version": "1.2.0",
            "_view_name": "StyleView",
            "bar_color": null,
            "description_width": ""
          }
        },
        "690df390155942fc94749092cf3ab580": {
          "model_module": "@jupyter-widgets/base",
          "model_name": "LayoutModel",
          "model_module_version": "1.2.0",
          "state": {
            "_model_module": "@jupyter-widgets/base",
            "_model_module_version": "1.2.0",
            "_model_name": "LayoutModel",
            "_view_count": null,
            "_view_module": "@jupyter-widgets/base",
            "_view_module_version": "1.2.0",
            "_view_name": "LayoutView",
            "align_content": null,
            "align_items": null,
            "align_self": null,
            "border": null,
            "bottom": null,
            "display": null,
            "flex": null,
            "flex_flow": null,
            "grid_area": null,
            "grid_auto_columns": null,
            "grid_auto_flow": null,
            "grid_auto_rows": null,
            "grid_column": null,
            "grid_gap": null,
            "grid_row": null,
            "grid_template_areas": null,
            "grid_template_columns": null,
            "grid_template_rows": null,
            "height": null,
            "justify_content": null,
            "justify_items": null,
            "left": null,
            "margin": null,
            "max_height": null,
            "max_width": null,
            "min_height": null,
            "min_width": null,
            "object_fit": null,
            "object_position": null,
            "order": null,
            "overflow": null,
            "overflow_x": null,
            "overflow_y": null,
            "padding": null,
            "right": null,
            "top": null,
            "visibility": null,
            "width": null
          }
        },
        "7e9391b4e6194c699020150d6bbfd2fb": {
          "model_module": "@jupyter-widgets/controls",
          "model_name": "DescriptionStyleModel",
          "model_module_version": "1.5.0",
          "state": {
            "_model_module": "@jupyter-widgets/controls",
            "_model_module_version": "1.5.0",
            "_model_name": "DescriptionStyleModel",
            "_view_count": null,
            "_view_module": "@jupyter-widgets/base",
            "_view_module_version": "1.2.0",
            "_view_name": "StyleView",
            "description_width": ""
          }
        },
        "f4f103ffe5b74905a2994523620ad2d3": {
          "model_module": "@jupyter-widgets/controls",
          "model_name": "HBoxModel",
          "model_module_version": "1.5.0",
          "state": {
            "_dom_classes": [],
            "_model_module": "@jupyter-widgets/controls",
            "_model_module_version": "1.5.0",
            "_model_name": "HBoxModel",
            "_view_count": null,
            "_view_module": "@jupyter-widgets/controls",
            "_view_module_version": "1.5.0",
            "_view_name": "HBoxView",
            "box_style": "",
            "children": [
              "IPY_MODEL_97a56f78b86c4e33bd4d792cfd53153c",
              "IPY_MODEL_781669102f42411bae0d1eab32b1aca3",
              "IPY_MODEL_ef363c8f8ada4c04b478eb2be9131c7f"
            ],
            "layout": "IPY_MODEL_ee5066ebdd7f4ba798993504e94c87af"
          }
        },
        "97a56f78b86c4e33bd4d792cfd53153c": {
          "model_module": "@jupyter-widgets/controls",
          "model_name": "HTMLModel",
          "model_module_version": "1.5.0",
          "state": {
            "_dom_classes": [],
            "_model_module": "@jupyter-widgets/controls",
            "_model_module_version": "1.5.0",
            "_model_name": "HTMLModel",
            "_view_count": null,
            "_view_module": "@jupyter-widgets/controls",
            "_view_module_version": "1.5.0",
            "_view_name": "HTMLView",
            "description": "",
            "description_tooltip": null,
            "layout": "IPY_MODEL_4c19eb57ed4b4538b6f9fa2aba60591c",
            "placeholder": "​",
            "style": "IPY_MODEL_38d54e6cc9aa4be3862ec952ea7cf940",
            "value": ""
          }
        },
        "781669102f42411bae0d1eab32b1aca3": {
          "model_module": "@jupyter-widgets/controls",
          "model_name": "FloatProgressModel",
          "model_module_version": "1.5.0",
          "state": {
            "_dom_classes": [],
            "_model_module": "@jupyter-widgets/controls",
            "_model_module_version": "1.5.0",
            "_model_name": "FloatProgressModel",
            "_view_count": null,
            "_view_module": "@jupyter-widgets/controls",
            "_view_module_version": "1.5.0",
            "_view_name": "ProgressView",
            "bar_style": "success",
            "description": "",
            "description_tooltip": null,
            "layout": "IPY_MODEL_22fda09f6095423e8fca24cbf394d24c",
            "max": 9912422,
            "min": 0,
            "orientation": "horizontal",
            "style": "IPY_MODEL_8fd9a522aac14a61be391a1ffcb753cf",
            "value": 9912422
          }
        },
        "ef363c8f8ada4c04b478eb2be9131c7f": {
          "model_module": "@jupyter-widgets/controls",
          "model_name": "HTMLModel",
          "model_module_version": "1.5.0",
          "state": {
            "_dom_classes": [],
            "_model_module": "@jupyter-widgets/controls",
            "_model_module_version": "1.5.0",
            "_model_name": "HTMLModel",
            "_view_count": null,
            "_view_module": "@jupyter-widgets/controls",
            "_view_module_version": "1.5.0",
            "_view_name": "HTMLView",
            "description": "",
            "description_tooltip": null,
            "layout": "IPY_MODEL_49d394b9fb0b449a91694d0d3bcd4fe7",
            "placeholder": "​",
            "style": "IPY_MODEL_b3ec7a81797a46fa921db48a02d6d06b",
            "value": " 9913344/? [00:00&lt;00:00, 23618162.35it/s]"
          }
        },
        "ee5066ebdd7f4ba798993504e94c87af": {
          "model_module": "@jupyter-widgets/base",
          "model_name": "LayoutModel",
          "model_module_version": "1.2.0",
          "state": {
            "_model_module": "@jupyter-widgets/base",
            "_model_module_version": "1.2.0",
            "_model_name": "LayoutModel",
            "_view_count": null,
            "_view_module": "@jupyter-widgets/base",
            "_view_module_version": "1.2.0",
            "_view_name": "LayoutView",
            "align_content": null,
            "align_items": null,
            "align_self": null,
            "border": null,
            "bottom": null,
            "display": null,
            "flex": null,
            "flex_flow": null,
            "grid_area": null,
            "grid_auto_columns": null,
            "grid_auto_flow": null,
            "grid_auto_rows": null,
            "grid_column": null,
            "grid_gap": null,
            "grid_row": null,
            "grid_template_areas": null,
            "grid_template_columns": null,
            "grid_template_rows": null,
            "height": null,
            "justify_content": null,
            "justify_items": null,
            "left": null,
            "margin": null,
            "max_height": null,
            "max_width": null,
            "min_height": null,
            "min_width": null,
            "object_fit": null,
            "object_position": null,
            "order": null,
            "overflow": null,
            "overflow_x": null,
            "overflow_y": null,
            "padding": null,
            "right": null,
            "top": null,
            "visibility": null,
            "width": null
          }
        },
        "4c19eb57ed4b4538b6f9fa2aba60591c": {
          "model_module": "@jupyter-widgets/base",
          "model_name": "LayoutModel",
          "model_module_version": "1.2.0",
          "state": {
            "_model_module": "@jupyter-widgets/base",
            "_model_module_version": "1.2.0",
            "_model_name": "LayoutModel",
            "_view_count": null,
            "_view_module": "@jupyter-widgets/base",
            "_view_module_version": "1.2.0",
            "_view_name": "LayoutView",
            "align_content": null,
            "align_items": null,
            "align_self": null,
            "border": null,
            "bottom": null,
            "display": null,
            "flex": null,
            "flex_flow": null,
            "grid_area": null,
            "grid_auto_columns": null,
            "grid_auto_flow": null,
            "grid_auto_rows": null,
            "grid_column": null,
            "grid_gap": null,
            "grid_row": null,
            "grid_template_areas": null,
            "grid_template_columns": null,
            "grid_template_rows": null,
            "height": null,
            "justify_content": null,
            "justify_items": null,
            "left": null,
            "margin": null,
            "max_height": null,
            "max_width": null,
            "min_height": null,
            "min_width": null,
            "object_fit": null,
            "object_position": null,
            "order": null,
            "overflow": null,
            "overflow_x": null,
            "overflow_y": null,
            "padding": null,
            "right": null,
            "top": null,
            "visibility": null,
            "width": null
          }
        },
        "38d54e6cc9aa4be3862ec952ea7cf940": {
          "model_module": "@jupyter-widgets/controls",
          "model_name": "DescriptionStyleModel",
          "model_module_version": "1.5.0",
          "state": {
            "_model_module": "@jupyter-widgets/controls",
            "_model_module_version": "1.5.0",
            "_model_name": "DescriptionStyleModel",
            "_view_count": null,
            "_view_module": "@jupyter-widgets/base",
            "_view_module_version": "1.2.0",
            "_view_name": "StyleView",
            "description_width": ""
          }
        },
        "22fda09f6095423e8fca24cbf394d24c": {
          "model_module": "@jupyter-widgets/base",
          "model_name": "LayoutModel",
          "model_module_version": "1.2.0",
          "state": {
            "_model_module": "@jupyter-widgets/base",
            "_model_module_version": "1.2.0",
            "_model_name": "LayoutModel",
            "_view_count": null,
            "_view_module": "@jupyter-widgets/base",
            "_view_module_version": "1.2.0",
            "_view_name": "LayoutView",
            "align_content": null,
            "align_items": null,
            "align_self": null,
            "border": null,
            "bottom": null,
            "display": null,
            "flex": null,
            "flex_flow": null,
            "grid_area": null,
            "grid_auto_columns": null,
            "grid_auto_flow": null,
            "grid_auto_rows": null,
            "grid_column": null,
            "grid_gap": null,
            "grid_row": null,
            "grid_template_areas": null,
            "grid_template_columns": null,
            "grid_template_rows": null,
            "height": null,
            "justify_content": null,
            "justify_items": null,
            "left": null,
            "margin": null,
            "max_height": null,
            "max_width": null,
            "min_height": null,
            "min_width": null,
            "object_fit": null,
            "object_position": null,
            "order": null,
            "overflow": null,
            "overflow_x": null,
            "overflow_y": null,
            "padding": null,
            "right": null,
            "top": null,
            "visibility": null,
            "width": null
          }
        },
        "8fd9a522aac14a61be391a1ffcb753cf": {
          "model_module": "@jupyter-widgets/controls",
          "model_name": "ProgressStyleModel",
          "model_module_version": "1.5.0",
          "state": {
            "_model_module": "@jupyter-widgets/controls",
            "_model_module_version": "1.5.0",
            "_model_name": "ProgressStyleModel",
            "_view_count": null,
            "_view_module": "@jupyter-widgets/base",
            "_view_module_version": "1.2.0",
            "_view_name": "StyleView",
            "bar_color": null,
            "description_width": ""
          }
        },
        "49d394b9fb0b449a91694d0d3bcd4fe7": {
          "model_module": "@jupyter-widgets/base",
          "model_name": "LayoutModel",
          "model_module_version": "1.2.0",
          "state": {
            "_model_module": "@jupyter-widgets/base",
            "_model_module_version": "1.2.0",
            "_model_name": "LayoutModel",
            "_view_count": null,
            "_view_module": "@jupyter-widgets/base",
            "_view_module_version": "1.2.0",
            "_view_name": "LayoutView",
            "align_content": null,
            "align_items": null,
            "align_self": null,
            "border": null,
            "bottom": null,
            "display": null,
            "flex": null,
            "flex_flow": null,
            "grid_area": null,
            "grid_auto_columns": null,
            "grid_auto_flow": null,
            "grid_auto_rows": null,
            "grid_column": null,
            "grid_gap": null,
            "grid_row": null,
            "grid_template_areas": null,
            "grid_template_columns": null,
            "grid_template_rows": null,
            "height": null,
            "justify_content": null,
            "justify_items": null,
            "left": null,
            "margin": null,
            "max_height": null,
            "max_width": null,
            "min_height": null,
            "min_width": null,
            "object_fit": null,
            "object_position": null,
            "order": null,
            "overflow": null,
            "overflow_x": null,
            "overflow_y": null,
            "padding": null,
            "right": null,
            "top": null,
            "visibility": null,
            "width": null
          }
        },
        "b3ec7a81797a46fa921db48a02d6d06b": {
          "model_module": "@jupyter-widgets/controls",
          "model_name": "DescriptionStyleModel",
          "model_module_version": "1.5.0",
          "state": {
            "_model_module": "@jupyter-widgets/controls",
            "_model_module_version": "1.5.0",
            "_model_name": "DescriptionStyleModel",
            "_view_count": null,
            "_view_module": "@jupyter-widgets/base",
            "_view_module_version": "1.2.0",
            "_view_name": "StyleView",
            "description_width": ""
          }
        },
        "1c8eaedee80e4b5e910cdb81e72a1c5d": {
          "model_module": "@jupyter-widgets/controls",
          "model_name": "HBoxModel",
          "model_module_version": "1.5.0",
          "state": {
            "_dom_classes": [],
            "_model_module": "@jupyter-widgets/controls",
            "_model_module_version": "1.5.0",
            "_model_name": "HBoxModel",
            "_view_count": null,
            "_view_module": "@jupyter-widgets/controls",
            "_view_module_version": "1.5.0",
            "_view_name": "HBoxView",
            "box_style": "",
            "children": [
              "IPY_MODEL_c79026c583a744aa9921f7cbd127475e",
              "IPY_MODEL_2317af39129b461e93aec275c96923ce",
              "IPY_MODEL_14532331935545239617ee0f0f365d94"
            ],
            "layout": "IPY_MODEL_9454074f8548476e87385dc9d31ed72c"
          }
        },
        "c79026c583a744aa9921f7cbd127475e": {
          "model_module": "@jupyter-widgets/controls",
          "model_name": "HTMLModel",
          "model_module_version": "1.5.0",
          "state": {
            "_dom_classes": [],
            "_model_module": "@jupyter-widgets/controls",
            "_model_module_version": "1.5.0",
            "_model_name": "HTMLModel",
            "_view_count": null,
            "_view_module": "@jupyter-widgets/controls",
            "_view_module_version": "1.5.0",
            "_view_name": "HTMLView",
            "description": "",
            "description_tooltip": null,
            "layout": "IPY_MODEL_68485ccf5818497188cea93d30fa4de3",
            "placeholder": "​",
            "style": "IPY_MODEL_67e59883e59b424eb78fd849526af75e",
            "value": ""
          }
        },
        "2317af39129b461e93aec275c96923ce": {
          "model_module": "@jupyter-widgets/controls",
          "model_name": "FloatProgressModel",
          "model_module_version": "1.5.0",
          "state": {
            "_dom_classes": [],
            "_model_module": "@jupyter-widgets/controls",
            "_model_module_version": "1.5.0",
            "_model_name": "FloatProgressModel",
            "_view_count": null,
            "_view_module": "@jupyter-widgets/controls",
            "_view_module_version": "1.5.0",
            "_view_name": "ProgressView",
            "bar_style": "success",
            "description": "",
            "description_tooltip": null,
            "layout": "IPY_MODEL_c5eee99630374cbd84bec545c29afadc",
            "max": 28881,
            "min": 0,
            "orientation": "horizontal",
            "style": "IPY_MODEL_422186a43da5403fa98d2848c65fa200",
            "value": 28881
          }
        },
        "14532331935545239617ee0f0f365d94": {
          "model_module": "@jupyter-widgets/controls",
          "model_name": "HTMLModel",
          "model_module_version": "1.5.0",
          "state": {
            "_dom_classes": [],
            "_model_module": "@jupyter-widgets/controls",
            "_model_module_version": "1.5.0",
            "_model_name": "HTMLModel",
            "_view_count": null,
            "_view_module": "@jupyter-widgets/controls",
            "_view_module_version": "1.5.0",
            "_view_name": "HTMLView",
            "description": "",
            "description_tooltip": null,
            "layout": "IPY_MODEL_08378890c6aa4aefbf7ae0e34c075439",
            "placeholder": "​",
            "style": "IPY_MODEL_f79950d8d13b47a9b9337559bd973676",
            "value": " 29696/? [00:00&lt;00:00, 408927.67it/s]"
          }
        },
        "9454074f8548476e87385dc9d31ed72c": {
          "model_module": "@jupyter-widgets/base",
          "model_name": "LayoutModel",
          "model_module_version": "1.2.0",
          "state": {
            "_model_module": "@jupyter-widgets/base",
            "_model_module_version": "1.2.0",
            "_model_name": "LayoutModel",
            "_view_count": null,
            "_view_module": "@jupyter-widgets/base",
            "_view_module_version": "1.2.0",
            "_view_name": "LayoutView",
            "align_content": null,
            "align_items": null,
            "align_self": null,
            "border": null,
            "bottom": null,
            "display": null,
            "flex": null,
            "flex_flow": null,
            "grid_area": null,
            "grid_auto_columns": null,
            "grid_auto_flow": null,
            "grid_auto_rows": null,
            "grid_column": null,
            "grid_gap": null,
            "grid_row": null,
            "grid_template_areas": null,
            "grid_template_columns": null,
            "grid_template_rows": null,
            "height": null,
            "justify_content": null,
            "justify_items": null,
            "left": null,
            "margin": null,
            "max_height": null,
            "max_width": null,
            "min_height": null,
            "min_width": null,
            "object_fit": null,
            "object_position": null,
            "order": null,
            "overflow": null,
            "overflow_x": null,
            "overflow_y": null,
            "padding": null,
            "right": null,
            "top": null,
            "visibility": null,
            "width": null
          }
        },
        "68485ccf5818497188cea93d30fa4de3": {
          "model_module": "@jupyter-widgets/base",
          "model_name": "LayoutModel",
          "model_module_version": "1.2.0",
          "state": {
            "_model_module": "@jupyter-widgets/base",
            "_model_module_version": "1.2.0",
            "_model_name": "LayoutModel",
            "_view_count": null,
            "_view_module": "@jupyter-widgets/base",
            "_view_module_version": "1.2.0",
            "_view_name": "LayoutView",
            "align_content": null,
            "align_items": null,
            "align_self": null,
            "border": null,
            "bottom": null,
            "display": null,
            "flex": null,
            "flex_flow": null,
            "grid_area": null,
            "grid_auto_columns": null,
            "grid_auto_flow": null,
            "grid_auto_rows": null,
            "grid_column": null,
            "grid_gap": null,
            "grid_row": null,
            "grid_template_areas": null,
            "grid_template_columns": null,
            "grid_template_rows": null,
            "height": null,
            "justify_content": null,
            "justify_items": null,
            "left": null,
            "margin": null,
            "max_height": null,
            "max_width": null,
            "min_height": null,
            "min_width": null,
            "object_fit": null,
            "object_position": null,
            "order": null,
            "overflow": null,
            "overflow_x": null,
            "overflow_y": null,
            "padding": null,
            "right": null,
            "top": null,
            "visibility": null,
            "width": null
          }
        },
        "67e59883e59b424eb78fd849526af75e": {
          "model_module": "@jupyter-widgets/controls",
          "model_name": "DescriptionStyleModel",
          "model_module_version": "1.5.0",
          "state": {
            "_model_module": "@jupyter-widgets/controls",
            "_model_module_version": "1.5.0",
            "_model_name": "DescriptionStyleModel",
            "_view_count": null,
            "_view_module": "@jupyter-widgets/base",
            "_view_module_version": "1.2.0",
            "_view_name": "StyleView",
            "description_width": ""
          }
        },
        "c5eee99630374cbd84bec545c29afadc": {
          "model_module": "@jupyter-widgets/base",
          "model_name": "LayoutModel",
          "model_module_version": "1.2.0",
          "state": {
            "_model_module": "@jupyter-widgets/base",
            "_model_module_version": "1.2.0",
            "_model_name": "LayoutModel",
            "_view_count": null,
            "_view_module": "@jupyter-widgets/base",
            "_view_module_version": "1.2.0",
            "_view_name": "LayoutView",
            "align_content": null,
            "align_items": null,
            "align_self": null,
            "border": null,
            "bottom": null,
            "display": null,
            "flex": null,
            "flex_flow": null,
            "grid_area": null,
            "grid_auto_columns": null,
            "grid_auto_flow": null,
            "grid_auto_rows": null,
            "grid_column": null,
            "grid_gap": null,
            "grid_row": null,
            "grid_template_areas": null,
            "grid_template_columns": null,
            "grid_template_rows": null,
            "height": null,
            "justify_content": null,
            "justify_items": null,
            "left": null,
            "margin": null,
            "max_height": null,
            "max_width": null,
            "min_height": null,
            "min_width": null,
            "object_fit": null,
            "object_position": null,
            "order": null,
            "overflow": null,
            "overflow_x": null,
            "overflow_y": null,
            "padding": null,
            "right": null,
            "top": null,
            "visibility": null,
            "width": null
          }
        },
        "422186a43da5403fa98d2848c65fa200": {
          "model_module": "@jupyter-widgets/controls",
          "model_name": "ProgressStyleModel",
          "model_module_version": "1.5.0",
          "state": {
            "_model_module": "@jupyter-widgets/controls",
            "_model_module_version": "1.5.0",
            "_model_name": "ProgressStyleModel",
            "_view_count": null,
            "_view_module": "@jupyter-widgets/base",
            "_view_module_version": "1.2.0",
            "_view_name": "StyleView",
            "bar_color": null,
            "description_width": ""
          }
        },
        "08378890c6aa4aefbf7ae0e34c075439": {
          "model_module": "@jupyter-widgets/base",
          "model_name": "LayoutModel",
          "model_module_version": "1.2.0",
          "state": {
            "_model_module": "@jupyter-widgets/base",
            "_model_module_version": "1.2.0",
            "_model_name": "LayoutModel",
            "_view_count": null,
            "_view_module": "@jupyter-widgets/base",
            "_view_module_version": "1.2.0",
            "_view_name": "LayoutView",
            "align_content": null,
            "align_items": null,
            "align_self": null,
            "border": null,
            "bottom": null,
            "display": null,
            "flex": null,
            "flex_flow": null,
            "grid_area": null,
            "grid_auto_columns": null,
            "grid_auto_flow": null,
            "grid_auto_rows": null,
            "grid_column": null,
            "grid_gap": null,
            "grid_row": null,
            "grid_template_areas": null,
            "grid_template_columns": null,
            "grid_template_rows": null,
            "height": null,
            "justify_content": null,
            "justify_items": null,
            "left": null,
            "margin": null,
            "max_height": null,
            "max_width": null,
            "min_height": null,
            "min_width": null,
            "object_fit": null,
            "object_position": null,
            "order": null,
            "overflow": null,
            "overflow_x": null,
            "overflow_y": null,
            "padding": null,
            "right": null,
            "top": null,
            "visibility": null,
            "width": null
          }
        },
        "f79950d8d13b47a9b9337559bd973676": {
          "model_module": "@jupyter-widgets/controls",
          "model_name": "DescriptionStyleModel",
          "model_module_version": "1.5.0",
          "state": {
            "_model_module": "@jupyter-widgets/controls",
            "_model_module_version": "1.5.0",
            "_model_name": "DescriptionStyleModel",
            "_view_count": null,
            "_view_module": "@jupyter-widgets/base",
            "_view_module_version": "1.2.0",
            "_view_name": "StyleView",
            "description_width": ""
          }
        },
        "7072b3874e2c4d61b794371b2251219f": {
          "model_module": "@jupyter-widgets/controls",
          "model_name": "HBoxModel",
          "model_module_version": "1.5.0",
          "state": {
            "_dom_classes": [],
            "_model_module": "@jupyter-widgets/controls",
            "_model_module_version": "1.5.0",
            "_model_name": "HBoxModel",
            "_view_count": null,
            "_view_module": "@jupyter-widgets/controls",
            "_view_module_version": "1.5.0",
            "_view_name": "HBoxView",
            "box_style": "",
            "children": [
              "IPY_MODEL_cf2c5dfef70b4f04b9181ca4f9f4fbd5",
              "IPY_MODEL_27973b13545842fb8f71184f77dad285",
              "IPY_MODEL_a99a0e4a79534276b12e7671d2f0e4ef"
            ],
            "layout": "IPY_MODEL_e2a21392d47044a3aee3bcd15cace195"
          }
        },
        "cf2c5dfef70b4f04b9181ca4f9f4fbd5": {
          "model_module": "@jupyter-widgets/controls",
          "model_name": "HTMLModel",
          "model_module_version": "1.5.0",
          "state": {
            "_dom_classes": [],
            "_model_module": "@jupyter-widgets/controls",
            "_model_module_version": "1.5.0",
            "_model_name": "HTMLModel",
            "_view_count": null,
            "_view_module": "@jupyter-widgets/controls",
            "_view_module_version": "1.5.0",
            "_view_name": "HTMLView",
            "description": "",
            "description_tooltip": null,
            "layout": "IPY_MODEL_6d4d01ae0ab04886876d6280f4d7e63d",
            "placeholder": "​",
            "style": "IPY_MODEL_329fae6e76094c57b6feedce2f4a807f",
            "value": ""
          }
        },
        "27973b13545842fb8f71184f77dad285": {
          "model_module": "@jupyter-widgets/controls",
          "model_name": "FloatProgressModel",
          "model_module_version": "1.5.0",
          "state": {
            "_dom_classes": [],
            "_model_module": "@jupyter-widgets/controls",
            "_model_module_version": "1.5.0",
            "_model_name": "FloatProgressModel",
            "_view_count": null,
            "_view_module": "@jupyter-widgets/controls",
            "_view_module_version": "1.5.0",
            "_view_name": "ProgressView",
            "bar_style": "success",
            "description": "",
            "description_tooltip": null,
            "layout": "IPY_MODEL_06d53f2e4a0647ccb19aedac67247421",
            "max": 1648877,
            "min": 0,
            "orientation": "horizontal",
            "style": "IPY_MODEL_c97642321b0f4109a9bd3c3f6faa37f0",
            "value": 1648877
          }
        },
        "a99a0e4a79534276b12e7671d2f0e4ef": {
          "model_module": "@jupyter-widgets/controls",
          "model_name": "HTMLModel",
          "model_module_version": "1.5.0",
          "state": {
            "_dom_classes": [],
            "_model_module": "@jupyter-widgets/controls",
            "_model_module_version": "1.5.0",
            "_model_name": "HTMLModel",
            "_view_count": null,
            "_view_module": "@jupyter-widgets/controls",
            "_view_module_version": "1.5.0",
            "_view_name": "HTMLView",
            "description": "",
            "description_tooltip": null,
            "layout": "IPY_MODEL_35539998f89a4b41b35384fcdeae2da5",
            "placeholder": "​",
            "style": "IPY_MODEL_3f0ae71748774b6b9baeafe4f0423a15",
            "value": " 1649664/? [00:00&lt;00:00, 973669.71it/s]"
          }
        },
        "e2a21392d47044a3aee3bcd15cace195": {
          "model_module": "@jupyter-widgets/base",
          "model_name": "LayoutModel",
          "model_module_version": "1.2.0",
          "state": {
            "_model_module": "@jupyter-widgets/base",
            "_model_module_version": "1.2.0",
            "_model_name": "LayoutModel",
            "_view_count": null,
            "_view_module": "@jupyter-widgets/base",
            "_view_module_version": "1.2.0",
            "_view_name": "LayoutView",
            "align_content": null,
            "align_items": null,
            "align_self": null,
            "border": null,
            "bottom": null,
            "display": null,
            "flex": null,
            "flex_flow": null,
            "grid_area": null,
            "grid_auto_columns": null,
            "grid_auto_flow": null,
            "grid_auto_rows": null,
            "grid_column": null,
            "grid_gap": null,
            "grid_row": null,
            "grid_template_areas": null,
            "grid_template_columns": null,
            "grid_template_rows": null,
            "height": null,
            "justify_content": null,
            "justify_items": null,
            "left": null,
            "margin": null,
            "max_height": null,
            "max_width": null,
            "min_height": null,
            "min_width": null,
            "object_fit": null,
            "object_position": null,
            "order": null,
            "overflow": null,
            "overflow_x": null,
            "overflow_y": null,
            "padding": null,
            "right": null,
            "top": null,
            "visibility": null,
            "width": null
          }
        },
        "6d4d01ae0ab04886876d6280f4d7e63d": {
          "model_module": "@jupyter-widgets/base",
          "model_name": "LayoutModel",
          "model_module_version": "1.2.0",
          "state": {
            "_model_module": "@jupyter-widgets/base",
            "_model_module_version": "1.2.0",
            "_model_name": "LayoutModel",
            "_view_count": null,
            "_view_module": "@jupyter-widgets/base",
            "_view_module_version": "1.2.0",
            "_view_name": "LayoutView",
            "align_content": null,
            "align_items": null,
            "align_self": null,
            "border": null,
            "bottom": null,
            "display": null,
            "flex": null,
            "flex_flow": null,
            "grid_area": null,
            "grid_auto_columns": null,
            "grid_auto_flow": null,
            "grid_auto_rows": null,
            "grid_column": null,
            "grid_gap": null,
            "grid_row": null,
            "grid_template_areas": null,
            "grid_template_columns": null,
            "grid_template_rows": null,
            "height": null,
            "justify_content": null,
            "justify_items": null,
            "left": null,
            "margin": null,
            "max_height": null,
            "max_width": null,
            "min_height": null,
            "min_width": null,
            "object_fit": null,
            "object_position": null,
            "order": null,
            "overflow": null,
            "overflow_x": null,
            "overflow_y": null,
            "padding": null,
            "right": null,
            "top": null,
            "visibility": null,
            "width": null
          }
        },
        "329fae6e76094c57b6feedce2f4a807f": {
          "model_module": "@jupyter-widgets/controls",
          "model_name": "DescriptionStyleModel",
          "model_module_version": "1.5.0",
          "state": {
            "_model_module": "@jupyter-widgets/controls",
            "_model_module_version": "1.5.0",
            "_model_name": "DescriptionStyleModel",
            "_view_count": null,
            "_view_module": "@jupyter-widgets/base",
            "_view_module_version": "1.2.0",
            "_view_name": "StyleView",
            "description_width": ""
          }
        },
        "06d53f2e4a0647ccb19aedac67247421": {
          "model_module": "@jupyter-widgets/base",
          "model_name": "LayoutModel",
          "model_module_version": "1.2.0",
          "state": {
            "_model_module": "@jupyter-widgets/base",
            "_model_module_version": "1.2.0",
            "_model_name": "LayoutModel",
            "_view_count": null,
            "_view_module": "@jupyter-widgets/base",
            "_view_module_version": "1.2.0",
            "_view_name": "LayoutView",
            "align_content": null,
            "align_items": null,
            "align_self": null,
            "border": null,
            "bottom": null,
            "display": null,
            "flex": null,
            "flex_flow": null,
            "grid_area": null,
            "grid_auto_columns": null,
            "grid_auto_flow": null,
            "grid_auto_rows": null,
            "grid_column": null,
            "grid_gap": null,
            "grid_row": null,
            "grid_template_areas": null,
            "grid_template_columns": null,
            "grid_template_rows": null,
            "height": null,
            "justify_content": null,
            "justify_items": null,
            "left": null,
            "margin": null,
            "max_height": null,
            "max_width": null,
            "min_height": null,
            "min_width": null,
            "object_fit": null,
            "object_position": null,
            "order": null,
            "overflow": null,
            "overflow_x": null,
            "overflow_y": null,
            "padding": null,
            "right": null,
            "top": null,
            "visibility": null,
            "width": null
          }
        },
        "c97642321b0f4109a9bd3c3f6faa37f0": {
          "model_module": "@jupyter-widgets/controls",
          "model_name": "ProgressStyleModel",
          "model_module_version": "1.5.0",
          "state": {
            "_model_module": "@jupyter-widgets/controls",
            "_model_module_version": "1.5.0",
            "_model_name": "ProgressStyleModel",
            "_view_count": null,
            "_view_module": "@jupyter-widgets/base",
            "_view_module_version": "1.2.0",
            "_view_name": "StyleView",
            "bar_color": null,
            "description_width": ""
          }
        },
        "35539998f89a4b41b35384fcdeae2da5": {
          "model_module": "@jupyter-widgets/base",
          "model_name": "LayoutModel",
          "model_module_version": "1.2.0",
          "state": {
            "_model_module": "@jupyter-widgets/base",
            "_model_module_version": "1.2.0",
            "_model_name": "LayoutModel",
            "_view_count": null,
            "_view_module": "@jupyter-widgets/base",
            "_view_module_version": "1.2.0",
            "_view_name": "LayoutView",
            "align_content": null,
            "align_items": null,
            "align_self": null,
            "border": null,
            "bottom": null,
            "display": null,
            "flex": null,
            "flex_flow": null,
            "grid_area": null,
            "grid_auto_columns": null,
            "grid_auto_flow": null,
            "grid_auto_rows": null,
            "grid_column": null,
            "grid_gap": null,
            "grid_row": null,
            "grid_template_areas": null,
            "grid_template_columns": null,
            "grid_template_rows": null,
            "height": null,
            "justify_content": null,
            "justify_items": null,
            "left": null,
            "margin": null,
            "max_height": null,
            "max_width": null,
            "min_height": null,
            "min_width": null,
            "object_fit": null,
            "object_position": null,
            "order": null,
            "overflow": null,
            "overflow_x": null,
            "overflow_y": null,
            "padding": null,
            "right": null,
            "top": null,
            "visibility": null,
            "width": null
          }
        },
        "3f0ae71748774b6b9baeafe4f0423a15": {
          "model_module": "@jupyter-widgets/controls",
          "model_name": "DescriptionStyleModel",
          "model_module_version": "1.5.0",
          "state": {
            "_model_module": "@jupyter-widgets/controls",
            "_model_module_version": "1.5.0",
            "_model_name": "DescriptionStyleModel",
            "_view_count": null,
            "_view_module": "@jupyter-widgets/base",
            "_view_module_version": "1.2.0",
            "_view_name": "StyleView",
            "description_width": ""
          }
        },
        "916932f7fd1a4ddbae3d7518bf6c23fa": {
          "model_module": "@jupyter-widgets/controls",
          "model_name": "HBoxModel",
          "model_module_version": "1.5.0",
          "state": {
            "_dom_classes": [],
            "_model_module": "@jupyter-widgets/controls",
            "_model_module_version": "1.5.0",
            "_model_name": "HBoxModel",
            "_view_count": null,
            "_view_module": "@jupyter-widgets/controls",
            "_view_module_version": "1.5.0",
            "_view_name": "HBoxView",
            "box_style": "",
            "children": [
              "IPY_MODEL_79fecaae1f1a4d5f929ad4816b594356",
              "IPY_MODEL_4a0bed70ab0043baa8598550a04c6182",
              "IPY_MODEL_4bc32135cf794ad393270567875a25c3"
            ],
            "layout": "IPY_MODEL_1e4971b1f039440b83aa4692974b32b2"
          }
        },
        "79fecaae1f1a4d5f929ad4816b594356": {
          "model_module": "@jupyter-widgets/controls",
          "model_name": "HTMLModel",
          "model_module_version": "1.5.0",
          "state": {
            "_dom_classes": [],
            "_model_module": "@jupyter-widgets/controls",
            "_model_module_version": "1.5.0",
            "_model_name": "HTMLModel",
            "_view_count": null,
            "_view_module": "@jupyter-widgets/controls",
            "_view_module_version": "1.5.0",
            "_view_name": "HTMLView",
            "description": "",
            "description_tooltip": null,
            "layout": "IPY_MODEL_1bd49005516347b3bfc37ecc320dae86",
            "placeholder": "​",
            "style": "IPY_MODEL_a83ed0e16f0842c7bd00d1ab020d4db2",
            "value": ""
          }
        },
        "4a0bed70ab0043baa8598550a04c6182": {
          "model_module": "@jupyter-widgets/controls",
          "model_name": "FloatProgressModel",
          "model_module_version": "1.5.0",
          "state": {
            "_dom_classes": [],
            "_model_module": "@jupyter-widgets/controls",
            "_model_module_version": "1.5.0",
            "_model_name": "FloatProgressModel",
            "_view_count": null,
            "_view_module": "@jupyter-widgets/controls",
            "_view_module_version": "1.5.0",
            "_view_name": "ProgressView",
            "bar_style": "success",
            "description": "",
            "description_tooltip": null,
            "layout": "IPY_MODEL_262b2ca0a00843549cd4c5342388c66d",
            "max": 4542,
            "min": 0,
            "orientation": "horizontal",
            "style": "IPY_MODEL_9cc02018536c46d392bf5bb943151b9a",
            "value": 4542
          }
        },
        "4bc32135cf794ad393270567875a25c3": {
          "model_module": "@jupyter-widgets/controls",
          "model_name": "HTMLModel",
          "model_module_version": "1.5.0",
          "state": {
            "_dom_classes": [],
            "_model_module": "@jupyter-widgets/controls",
            "_model_module_version": "1.5.0",
            "_model_name": "HTMLModel",
            "_view_count": null,
            "_view_module": "@jupyter-widgets/controls",
            "_view_module_version": "1.5.0",
            "_view_name": "HTMLView",
            "description": "",
            "description_tooltip": null,
            "layout": "IPY_MODEL_fd4de07957434ee98e4dba1a60bdaa34",
            "placeholder": "​",
            "style": "IPY_MODEL_9f9786b93c6f40419b95550837a36db7",
            "value": " 5120/? [00:00&lt;00:00, 54543.98it/s]"
          }
        },
        "1e4971b1f039440b83aa4692974b32b2": {
          "model_module": "@jupyter-widgets/base",
          "model_name": "LayoutModel",
          "model_module_version": "1.2.0",
          "state": {
            "_model_module": "@jupyter-widgets/base",
            "_model_module_version": "1.2.0",
            "_model_name": "LayoutModel",
            "_view_count": null,
            "_view_module": "@jupyter-widgets/base",
            "_view_module_version": "1.2.0",
            "_view_name": "LayoutView",
            "align_content": null,
            "align_items": null,
            "align_self": null,
            "border": null,
            "bottom": null,
            "display": null,
            "flex": null,
            "flex_flow": null,
            "grid_area": null,
            "grid_auto_columns": null,
            "grid_auto_flow": null,
            "grid_auto_rows": null,
            "grid_column": null,
            "grid_gap": null,
            "grid_row": null,
            "grid_template_areas": null,
            "grid_template_columns": null,
            "grid_template_rows": null,
            "height": null,
            "justify_content": null,
            "justify_items": null,
            "left": null,
            "margin": null,
            "max_height": null,
            "max_width": null,
            "min_height": null,
            "min_width": null,
            "object_fit": null,
            "object_position": null,
            "order": null,
            "overflow": null,
            "overflow_x": null,
            "overflow_y": null,
            "padding": null,
            "right": null,
            "top": null,
            "visibility": null,
            "width": null
          }
        },
        "1bd49005516347b3bfc37ecc320dae86": {
          "model_module": "@jupyter-widgets/base",
          "model_name": "LayoutModel",
          "model_module_version": "1.2.0",
          "state": {
            "_model_module": "@jupyter-widgets/base",
            "_model_module_version": "1.2.0",
            "_model_name": "LayoutModel",
            "_view_count": null,
            "_view_module": "@jupyter-widgets/base",
            "_view_module_version": "1.2.0",
            "_view_name": "LayoutView",
            "align_content": null,
            "align_items": null,
            "align_self": null,
            "border": null,
            "bottom": null,
            "display": null,
            "flex": null,
            "flex_flow": null,
            "grid_area": null,
            "grid_auto_columns": null,
            "grid_auto_flow": null,
            "grid_auto_rows": null,
            "grid_column": null,
            "grid_gap": null,
            "grid_row": null,
            "grid_template_areas": null,
            "grid_template_columns": null,
            "grid_template_rows": null,
            "height": null,
            "justify_content": null,
            "justify_items": null,
            "left": null,
            "margin": null,
            "max_height": null,
            "max_width": null,
            "min_height": null,
            "min_width": null,
            "object_fit": null,
            "object_position": null,
            "order": null,
            "overflow": null,
            "overflow_x": null,
            "overflow_y": null,
            "padding": null,
            "right": null,
            "top": null,
            "visibility": null,
            "width": null
          }
        },
        "a83ed0e16f0842c7bd00d1ab020d4db2": {
          "model_module": "@jupyter-widgets/controls",
          "model_name": "DescriptionStyleModel",
          "model_module_version": "1.5.0",
          "state": {
            "_model_module": "@jupyter-widgets/controls",
            "_model_module_version": "1.5.0",
            "_model_name": "DescriptionStyleModel",
            "_view_count": null,
            "_view_module": "@jupyter-widgets/base",
            "_view_module_version": "1.2.0",
            "_view_name": "StyleView",
            "description_width": ""
          }
        },
        "262b2ca0a00843549cd4c5342388c66d": {
          "model_module": "@jupyter-widgets/base",
          "model_name": "LayoutModel",
          "model_module_version": "1.2.0",
          "state": {
            "_model_module": "@jupyter-widgets/base",
            "_model_module_version": "1.2.0",
            "_model_name": "LayoutModel",
            "_view_count": null,
            "_view_module": "@jupyter-widgets/base",
            "_view_module_version": "1.2.0",
            "_view_name": "LayoutView",
            "align_content": null,
            "align_items": null,
            "align_self": null,
            "border": null,
            "bottom": null,
            "display": null,
            "flex": null,
            "flex_flow": null,
            "grid_area": null,
            "grid_auto_columns": null,
            "grid_auto_flow": null,
            "grid_auto_rows": null,
            "grid_column": null,
            "grid_gap": null,
            "grid_row": null,
            "grid_template_areas": null,
            "grid_template_columns": null,
            "grid_template_rows": null,
            "height": null,
            "justify_content": null,
            "justify_items": null,
            "left": null,
            "margin": null,
            "max_height": null,
            "max_width": null,
            "min_height": null,
            "min_width": null,
            "object_fit": null,
            "object_position": null,
            "order": null,
            "overflow": null,
            "overflow_x": null,
            "overflow_y": null,
            "padding": null,
            "right": null,
            "top": null,
            "visibility": null,
            "width": null
          }
        },
        "9cc02018536c46d392bf5bb943151b9a": {
          "model_module": "@jupyter-widgets/controls",
          "model_name": "ProgressStyleModel",
          "model_module_version": "1.5.0",
          "state": {
            "_model_module": "@jupyter-widgets/controls",
            "_model_module_version": "1.5.0",
            "_model_name": "ProgressStyleModel",
            "_view_count": null,
            "_view_module": "@jupyter-widgets/base",
            "_view_module_version": "1.2.0",
            "_view_name": "StyleView",
            "bar_color": null,
            "description_width": ""
          }
        },
        "fd4de07957434ee98e4dba1a60bdaa34": {
          "model_module": "@jupyter-widgets/base",
          "model_name": "LayoutModel",
          "model_module_version": "1.2.0",
          "state": {
            "_model_module": "@jupyter-widgets/base",
            "_model_module_version": "1.2.0",
            "_model_name": "LayoutModel",
            "_view_count": null,
            "_view_module": "@jupyter-widgets/base",
            "_view_module_version": "1.2.0",
            "_view_name": "LayoutView",
            "align_content": null,
            "align_items": null,
            "align_self": null,
            "border": null,
            "bottom": null,
            "display": null,
            "flex": null,
            "flex_flow": null,
            "grid_area": null,
            "grid_auto_columns": null,
            "grid_auto_flow": null,
            "grid_auto_rows": null,
            "grid_column": null,
            "grid_gap": null,
            "grid_row": null,
            "grid_template_areas": null,
            "grid_template_columns": null,
            "grid_template_rows": null,
            "height": null,
            "justify_content": null,
            "justify_items": null,
            "left": null,
            "margin": null,
            "max_height": null,
            "max_width": null,
            "min_height": null,
            "min_width": null,
            "object_fit": null,
            "object_position": null,
            "order": null,
            "overflow": null,
            "overflow_x": null,
            "overflow_y": null,
            "padding": null,
            "right": null,
            "top": null,
            "visibility": null,
            "width": null
          }
        },
        "9f9786b93c6f40419b95550837a36db7": {
          "model_module": "@jupyter-widgets/controls",
          "model_name": "DescriptionStyleModel",
          "model_module_version": "1.5.0",
          "state": {
            "_model_module": "@jupyter-widgets/controls",
            "_model_module_version": "1.5.0",
            "_model_name": "DescriptionStyleModel",
            "_view_count": null,
            "_view_module": "@jupyter-widgets/base",
            "_view_module_version": "1.2.0",
            "_view_name": "StyleView",
            "description_width": ""
          }
        }
      }
    }
  },
  "nbformat": 4,
  "nbformat_minor": 0
}