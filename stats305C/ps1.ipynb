{
  "cells": [
    {
      "cell_type": "markdown",
      "metadata": {
        "id": "sHdhDx3SfbNa"
      },
      "source": [
        "# Assignment 1: Bayesian Linear Regression\n",
        "STATS305C, Stanford University, Spring 2022\n",
        "\n",
        "[![Open In Colab](https://colab.research.google.com/assets/colab-badge.svg)](https://colab.research.google.com/github/slinderman/stats305c/blob/master/assignments/hw1/hw1.ipynb)\n",
        "\n",
        "\n",
        "**Isaac Kleisle-Murphy**\n",
        "\n",
        "**Collaborators:** Saskia C.\n",
        "\n",
        "---"
      ]
    },
    {
      "cell_type": "code",
      "execution_count": 1,
      "metadata": {
        "id": "p-_CGkTvS9dH"
      },
      "outputs": [],
      "source": [
        "# Setup\n",
        "import torch\n",
        "from torch.distributions import Normal, Gamma, \\\n",
        "    TransformedDistribution, MultivariateNormal\n",
        "from torch.distributions.transforms import PowerTransform\n",
        "\n",
        "import matplotlib.pyplot as plt\n",
        "import seaborn as sns\n",
        "sns.set_context(\"notebook\")"
      ]
    },
    {
      "cell_type": "markdown",
      "metadata": {
        "id": "b6k2BC4ZeFpS"
      },
      "source": [
        "## Bayesian Linear Regression\n",
        "\n",
        "STATS 305A was all about linear regression. In this assignment, you'll revisit that classic model from a Bayesian perspective.\n",
        "\n",
        "Let $\\{\\mathbf{x}_n, y_n\\}_{n=1}^N$ denote a dataset with covariates $\\mathbf{x}_n \\in \\mathbb{R}^D$ and scalar outcomes $y_n \\in \\mathbb{R}$. Let $\\mathbf{X} \\in \\mathbb{R}^{N \\times D}$ denote the design matrix where each row is a vector of covariates and $\\mathbf{y} \\in \\mathbb{R}^N$ denote the vector of outcomes.\n",
        "\n",
        "We will model the outcomes as conditionally independent Gaussian random variables given the covariates and the parameters,\n",
        "\\begin{align}\n",
        "p(\\mathbf{y} \\mid \\mathbf{w}, \\sigma^2, \\mathbf{X})\n",
        "&= \\prod_{n=1}^N \\mathcal{N}(y_n \\mid \\mathbf{w}^\\top \\mathbf{x}_n, \\sigma^2),\n",
        "\\end{align}\n",
        "where $\\mathbf{w} \\in \\mathbb{R}^D$ are the _weights_ and $\\sigma^2 \\in \\mathbb{R}_+$ is the conditional variance. \n",
        "\n",
        "In a _Bayesian_ linear regression, we place a prior on the parameters,\n",
        "\\begin{align}\n",
        "p(\\mathbf{w}, \\sigma^2) &=\n",
        "\\chi^{-2}(\\sigma^2 \\mid \\nu_0, \\sigma_0^2) \\,\n",
        "\\mathcal{N}(\\mathbf{w} \\mid \\boldsymbol{\\mu}_0, \\sigma^2 \\boldsymbol{\\Lambda}_0^{-1}),\n",
        "\\end{align}\n",
        "where $\\nu_0 \\in \\mathbb{R}_+$ sets the degrees of freedom, $\\sigma_0^2$ is the prior mean of the variance parameter, $\\boldsymbol{\\mu}_0$ is the prior mean of the weights, and $\\boldsymbol{\\Lambda}_0 \\in \\mathcal{S}_D$ is a positive definite $D \\times D$ precision matrix.\n",
        "\n",
        "## PyTorch \n",
        "\n",
        "As in the notebooks from class, you will use PyTorch to complete the coding portions of this assignment. If you are unfamiliar with PyTorch, [this](https://pytorch.org/tutorials/beginner/introyt/tensors_deeper_tutorial.html) webpage provides an introductory tutorial to PyTorch tensors. "
      ]
    },
    {
      "cell_type": "markdown",
      "metadata": {
        "id": "SCoqcOs8RnS1"
      },
      "source": [
        "## Problem 1: Derive the Posterior [Math]\n",
        "\n",
        "Derive the posterior distribution $p(\\mathbf{w}, \\sigma^2 \\mid \\mathbf{y}, \\mathbf{X}, \\boldsymbol{\\eta})$ where $\\boldsymbol{\\eta} = (\\nu_0, \\sigma_0^2, \\boldsymbol{\\mu}_0, \\boldsymbol{\\Lambda}_0)$. It should be of the same form as the prior,\n",
        "\n",
        "\\begin{align}\n",
        "p(\\mathbf{w}, \\sigma^2 \\mid \\mathbf{y}, \\mathbf{X}, \\boldsymbol{\\eta}) \n",
        "&= \\chi^{-2}(\\sigma^2 \\mid \\nu_N, \\sigma_N^2) \\mathcal{N}(\\mathbf{w} \\mid \\boldsymbol{\\mu}_N, \\sigma^2 \\boldsymbol{\\Lambda}_N^{-1})\n",
        "\\end{align}\n",
        "\n",
        "for some $\\nu_N$, $\\sigma_N^2$, $\\boldsymbol{\\mu}_N$, and $\\boldsymbol{\\Lambda}_N$. \n"
      ]
    },
    {
      "cell_type": "markdown",
      "metadata": {
        "id": "JDrwyQmdR44o"
      },
      "source": [
        "---\n",
        "First, let's simplify the kernel of the Normal-Inverse-Gamma prior, both to save space in the posterior derivation and provide a recognizable form for our (conjugate) posterior. We have:\n",
        "\n",
        "\\begin{align}\n",
        "p(\\mathbf{w}, \\sigma^2 |\\eta) \n",
        "&=\n",
        "\\chi^{-2}(\\sigma^2 \\mid \\nu_0, \\sigma_0^2) \\,\n",
        "\\mathcal{N}(\\mathbf{w} \\mid \\boldsymbol{\\mu}_0, \\sigma^2 \\boldsymbol{\\Lambda}_0^{-1})\\\\\n",
        "&=\n",
        "\\Gamma^{-1}\\left(\\sigma^2 \\bigg| \\frac{\\nu_0}{2}, \\frac{\\nu_0 \\sigma_0^2}{2}\n",
        "\\right)\\mathcal{N}(\\mathbf{w} \\mid \\boldsymbol{\\mu}_0, \\sigma^2 \\boldsymbol{\\Lambda}_0^{-1}) \\\\\n",
        "&\n",
        "=\n",
        "%%%%%%%%%%%%%%%%%%%%%%%%%%%%%%%%%%%%%%%%%%%%%%%%%%%%%%%%%%%%%%%%%%%%%%%%%%%\n",
        "\\left[\n",
        "\\frac{\n",
        "  \\left(\\frac{\\sigma_0^2\\nu_0}{2} \\right)^{\\frac{\\nu_0}{2}}\n",
        "  (\\sigma^2)^{-(1 + \\frac{\\nu_0}{2})}\n",
        "  \\exp\\bigg(-\\frac{\\nu_0\\sigma_0^2}{2\\sigma^2} \\bigg)\n",
        "}{\n",
        "  \\Gamma(\\frac{\\nu_0}{2})\n",
        "}\n",
        "\\right]\\\\\n",
        "&\\hspace{1cm}\\cdot \n",
        "\\left[\n",
        "  \\frac{1}{(2\\pi)^{D/2}}\\cdot \n",
        "  \\frac{1}{|\\sigma^2\\Lambda_0^{-1}|^{-1/2}}\n",
        "  \\exp\\left(\n",
        "    -\\frac{1}{2\\sigma^2}(\\mathbf{w} - \\boldsymbol{\\mu}_0)^T\\Lambda_0(\\mathbf{w} - \\boldsymbol{\\mu}_0)\n",
        "  \\right)\n",
        "\\right] \\\\\n",
        "&\\propto \n",
        "  (\\sigma^2)^{-(1 + \\frac{\\nu_0}{2})}\n",
        "  \\frac{1}{|\\sigma^2\\Lambda_0^{-1}|^{-1/2}}\n",
        "  \\exp\\bigg(-\\frac{\\nu_0\\sigma_0^2}{2\\sigma^2} \\bigg)\n",
        "  \\exp\\left(\n",
        "    -\\frac{1}{2\\sigma^2}\\boldsymbol{\\mu}_0^T\\Lambda_0\\boldsymbol{\\mu}_0\n",
        "    -\\bigg(\\frac{-2}{2\\sigma^2}\\bigg)\\boldsymbol{\\mu}_0^T\\Lambda_0\\mathbf{w}\n",
        "    -\\frac{1}{2\\sigma^2}\\mathbf{w}^T\\Lambda_0\\mathbf{w}\n",
        "  \\right)\\\\\n",
        "&\\propto \n",
        "  (\\sigma^2)^{-(1 + \\frac{\\nu_0}{2})}(\\sigma^2)^{-D/2}\n",
        "  \\exp\\left(\n",
        "    -\\frac{1}{2\\sigma^2}(\\nu_0\\sigma_0^2 + \\boldsymbol{\\mu}_0^T\\Lambda_0\\boldsymbol{\\mu}_0)\n",
        "    +\\bigg(\\frac{1}{\\sigma^2}\\bigg)\\boldsymbol{\\mu}_0^T\\Lambda_0\\mathbf{w}\n",
        "    -\\frac{1}{2\\sigma^2}\\mathbf{w}^T\\Lambda_0\\mathbf{w}\n",
        "  \\right)\\\\\n",
        "&\\propto \n",
        "  (\\sigma^2)^{-(1 + \\frac{\\nu_0 + D}{2})}\n",
        "  \\exp\\left(\n",
        "    -\\frac{1}{2\\sigma^2}(\\nu_0\\sigma_0^2 + \\boldsymbol{\\mu}_0^T\\Lambda_0\\boldsymbol{\\mu}_0)\n",
        "    +\\bigg(\\frac{1}{\\sigma^2}\\bigg)\\boldsymbol{\\mu}_0^T\\Lambda_0\\mathbf{w}\n",
        "    -\\frac{1}{2\\sigma^2}\\mathbf{w}^T\\Lambda_0\\mathbf{w}\n",
        "  \\right)\\\\\n",
        "&\\propto \n",
        "  (\\sigma^2)^{-(1 + \\frac{\\nu_0 + D}{2})}\n",
        "  \\exp\\left(\n",
        "    -\\frac{1}{2\\sigma^2}(\\nu_0\\sigma_0^2 + \\boldsymbol{\\mu}_0^T\\Lambda_0\\boldsymbol{\\mu}_0)\n",
        "    +\\bigg(\\frac{1}{\\sigma^2}\\bigg)\\boldsymbol{\\mu}_0^T\\Lambda_0\\mathbf{w}\n",
        "    -\\frac{1}{2\\sigma^2}\\Lambda_0\\mathbf{w}\\mathbf{w}^T\n",
        "  \\right).\n",
        "\\end{align}\n",
        "Steps are justified as follows: (i) definition of Normal-Inverse-Scaled-Chi-Squared; (ii) reparameterization to Normal-Inverse-Gamma; (iii) likelihood functions; (iv) proportionality to relevant variables $\\mathbf{w}, \\sigma^2$; (v) the fact that $\\Lambda_0 \\in \\mathbb{R}^{D\\times D}$, thus meaning $\\sigma^2$ shows up $D$ times in the determinant multiplier; (vi) rearrangement; (vii) the fact that $\\Lambda_0\\succeq 0$ and symmetric, allowing us to rearrange the $\\mathbf{w}$ \"sandwich\" about $\\Lambda_0$ (there's gotta be a more professional term for this, no?). "
      ]
    },
    {
      "cell_type": "markdown",
      "source": [
        "Now, for the likelihood, we have under likelihood for OLS:\n",
        "\\begin{align}\n",
        "  \\mathcal{L}(\\mathbf{y}; \\mathbf{X}, \\mathbf{w})\n",
        "  &\\propto (\\sigma^2)^{-N/2}\n",
        "  \\exp\\left( \n",
        "  -\\frac{1}{2\\sigma^2} \\mathbf{y}^T\\mathbf{y} + \\frac{1}{\\sigma^2}\\mathbf{y}^T\\mathbf{X}\\mathbf{w} -\\frac{1}{2\\sigma^2}(\\mathbf{X}\\mathbf{w})^T(\\mathbf{X}\\mathbf{w})\n",
        "  \\right) \\\\\n",
        "  &=\n",
        "  \\propto (\\sigma^2)^{-N/2}\n",
        "  \\exp\\left( \n",
        "  -\\frac{1}{2\\sigma^2} \\mathbf{y}^T\\mathbf{y} + \\frac{1}{\\sigma^2}\\mathbf{y}^T\\mathbf{X}\\mathbf{w} -\\frac{1}{2\\sigma^2}\\mathbf{w}^T\\mathbf{X}^T\\mathbf{X}\\mathbf{w}\n",
        "  \\right)\\\\\n",
        "  &=\n",
        "  \\propto (\\sigma^2)^{-N/2}\n",
        "  \\exp\\left( \n",
        "  -\\frac{1}{2\\sigma^2} \\mathbf{y}^T\\mathbf{y} + \\frac{1}{\\sigma^2}\\mathbf{y}^T\\mathbf{X}\\mathbf{w} -\\frac{1}{2\\sigma^2}\\mathbf{X}^T\\mathbf{X}\\mathbf{w}\\mathbf{w}^T\n",
        "  \\right),\n",
        "\\end{align}\n",
        "where again $X^TX\\succeq 0$ and symmetric, so we may \"shuffle\" the dot product. "
      ],
      "metadata": {
        "id": "00DaPNDKKZ6U"
      }
    },
    {
      "cell_type": "markdown",
      "source": [
        "Now, we multiply the two aforementioned quantities and combine similar terms:\n",
        "\\begin{align}\n",
        "&\\propto\\left[\n",
        "(\\sigma^2)^{-(1 + \\frac{\\nu_0 + D}{2})}\n",
        "  \\exp\\left(\n",
        "    -\\frac{1}{2\\sigma^2}(\\nu_0\\sigma_0^2 + \\boldsymbol{\\mu}_0^T\\Lambda_0\\boldsymbol{\\mu}_0)\n",
        "    +\\bigg(\\frac{1}{\\sigma^2}\\bigg)\\boldsymbol{\\mu}_0^T\\Lambda_0\\mathbf{w}\n",
        "    -\\frac{1}{2\\sigma^2}\\Lambda_0\\mathbf{w}\\mathbf{w}^T\n",
        "  \\right)\n",
        "\\right]\\\\\n",
        "&\\hspace{1cm}\n",
        "\\cdot \n",
        "%%%%%%%%%%%%%%%%%%%%%%%%%%%%%%%%%%%%%\n",
        "\\left[\n",
        "(\\sigma^2)^{-N/2}\n",
        "  \\exp\\left( \n",
        "  -\\frac{1}{2\\sigma^2} \\mathbf{y}^T\\mathbf{y} + \\frac{1}{\\sigma^2}\\mathbf{y}^T\\mathbf{X}\\mathbf{w} -\\frac{1}{2\\sigma^2}\\mathbf{X}^T\\mathbf{X}\\mathbf{w}\\mathbf{w}^T\n",
        "  \\right)\n",
        "\\right] \\\\\n",
        "&=\n",
        "\\left[\n",
        "(\\sigma^2)^{-(1 + \\frac{\\nu_0 + N}{2}+ \\frac{D}{2})}\n",
        "  \\exp\\left(\n",
        "    -\\frac{1}{2\\sigma^2}(\\nu_0\\sigma_0^2 + \\boldsymbol{\\mu}_0^T\\Lambda_0\\boldsymbol{\\mu}_0 + \\mathbf{y}^T\\mathbf{y})\n",
        "    +\\bigg(\\frac{1}{\\sigma^2}\\bigg)(\\boldsymbol{\\mu}_0^T\\Lambda_0 + \\mathbf{y}^T\\mathbf{X})\\mathbf{w}\n",
        "    -\\frac{1}{2\\sigma^2}(\\Lambda_0 + \\mathbf{X}^T\\mathbf{X})\\mathbf{w}\\mathbf{w}^T\n",
        "  \\right)\n",
        "\\right]\n",
        "\\end{align}\n",
        "This kernel looks familiar -- in fact, it's the kernel we derived in the prior! That is, it is of the form\n",
        "\\begin{align}\n",
        "\\left[\n",
        "(\\sigma^2)^{-(1 + \\frac{\\nu_N + D}{2})}\n",
        "  \\exp\\left(\n",
        "    -\\frac{1}{2\\sigma^2}(\\nu_N\\sigma_N^2 + \\boldsymbol{\\mu}_N^T\\Lambda_N\\boldsymbol{\\mu}_N)\n",
        "    +\\bigg(\\frac{1}{\\sigma^2}\\bigg)(\\boldsymbol{\\mu}_N^T\\Lambda_N)\\mathbf{w}\n",
        "    -\\frac{1}{2\\sigma^2}(\\Lambda_N)\\mathbf{w}\\mathbf{w}^T\n",
        "  \\right)\n",
        "\\right]\n",
        "\\end{align};\n",
        "we just need to solve a few equations. Off the bat, we can immediately get\n",
        "- $\\Lambda_N = \\Lambda_0 + \\mathbf{X}^T\\mathbf{X}$\n",
        "\n",
        "- $\\nu_n = \\nu_0 + N$\n",
        "\n",
        "Note that since we know $\\Lambda_0 \\succeq 0$ and clearly $X^TX\\succeq 0$, we have a sum of PSD matrices and hence $\\Lambda_N \\succeq 0$. We must then select $\\boldsymbol{\\mu}_N$ that satisfies\n",
        "$$\n",
        "\\boldsymbol{\\mu}_N^T\\Lambda_N = \\boldsymbol{\\mu}_0\\Lambda_0 + \\mathbf{y}^T\\mathbf{X}\n",
        "$$\n",
        "which upon rearrangement and substitution gives\n",
        "\\begin{align}\n",
        "\\boldsymbol{\\mu}_N^T\\Lambda_N &= \\boldsymbol{\\mu}_0^T\\Lambda_0 + \\mathbf{y}^T\\mathbf{X} \\\\\n",
        "\\boldsymbol{\\mu}_N^T &= (\\boldsymbol{\\mu}_0^T\\Lambda_0 + \\mathbf{y}^T\\mathbf{X})\\Lambda_N^{-1}\\\\\n",
        "\\boldsymbol{\\mu}_N &= \\Lambda_N^{-1}(\\Lambda_0\\boldsymbol{\\mu}_0 + \\mathbf{X}^T\\mathbf{y})\\\\\n",
        "\\boldsymbol{\\mu}_N &= (\\Lambda_0 + \\mathbf{X}^T\\mathbf{X})^{-1}(\\Lambda_0\\boldsymbol{\\mu}_0 + \\mathbf{X}^T\\mathbf{y}).\n",
        "\\end{align}\n",
        "Justifications are: (i) equation to solve; (ii) $\\Lambda_N \\succeq 0$ and hence invertible; (iii) transposition and $\\Lambda_N$ symmetric; and (iv) substitution of an above quantity. \n",
        "\n",
        "\n",
        "Then, finally, we seek $\\sigma_N^2$ that satisfies\n",
        "$$\n",
        "\\nu_N \\sigma_N^2 + \\boldsymbol{\\mu}_N^T\\Lambda_N\\boldsymbol{\\mu}_N\n",
        "=\n",
        "\\nu_0 \\sigma_0^2 + \\boldsymbol{\\mu}_0^T\\Lambda_0\\boldsymbol{\\mu}_0 + \n",
        "\\mathbf{y}^T\\mathbf{y}.\n",
        "$$\n",
        "Hence, we solve\n",
        "\\begin{align}\n",
        "\\sigma_N^2 \n",
        "& =\n",
        "\\frac{1}{\\nu_N}\\left(\\nu_0 \\sigma_0^2 + \\boldsymbol{\\mu}_0^T\\Lambda_0\\boldsymbol{\\mu}_0 + \n",
        "\\mathbf{y}^T\\mathbf{y} - \\boldsymbol{\\mu}_N^T\\Lambda_N\\boldsymbol{\\mu}_N\n",
        "\\right) \\\\\n",
        "& =\n",
        "\\frac{1}{\\nu_0 + N}\\left(\\nu_0 \\sigma_0^2 + \\boldsymbol{\\mu}_0^T\\Lambda_0\\boldsymbol{\\mu}_0 + \n",
        "\\mathbf{y}^T\\mathbf{y} - \\boldsymbol{\\mu}_N^T\\Lambda_N\\boldsymbol{\\mu}_N\n",
        "\\right),\n",
        "\\end{align}\n",
        "where for brevity, the previously found values of $\\mathbf{\\mu}_N, \\Lambda_N$ can be substituted in."
      ],
      "metadata": {
        "id": "n7sbYrH-L638"
      }
    },
    {
      "cell_type": "markdown",
      "metadata": {
        "id": "tYbTI5tcocJM"
      },
      "source": [
        "## Problem 2: The Posterior Mean [Math]\n",
        "a. What does the posterior mean $\\mathbb{E}[\\mathbf{w} \\mid \\mathbf{y}, \\mathbf{X}, \\boldsymbol{\\eta}]$ equal in the uninformative limit where $\\boldsymbol{\\Lambda}_0 \\to 0$ and $\\nu_0 \\to 0$?\n",
        "\n",
        "b. What does the posterior mean $\\mathbb{E}[\\sigma^2 \\mid \\mathbf{y}, \\mathbf{X}, \\boldsymbol{\\eta}]$ equal in the uninformative limit where $\\boldsymbol{\\Lambda}_0 \\to 0$ and $\\nu_0 \\to 0$? Write your answer in terms of the _hat matrix_ $\\mathbf{H} = \\mathbf{X} (\\mathbf{X}^\\top \\mathbf{X})^{-1} \\mathbf{X}^\\top$. "
      ]
    },
    {
      "cell_type": "markdown",
      "metadata": {
        "id": "RJDQjtrhoubw"
      },
      "source": [
        "---\n",
        "\n",
        "### a.)\n",
        "As set forth above, the mean of our posterior Normal-Inverse-Gamma is given by \n",
        "$$\n",
        "\\mathbb{E}[\\mathbf{w} \\mid \\mathbf{y}, \\mathbf{X}, \\boldsymbol{\\eta}] =\\boldsymbol{\\mu}_N = (\\Lambda_0 + \\mathbf{X}^T\\mathbf{X})^{-1}(\\boldsymbol{\\mu}_0\\Lambda_0 + \\mathbf{X}^T\\mathbf{y}).\n",
        "$$\n",
        "So when $\\Lambda_0 \\to 0$, we get \n",
        "$$\n",
        "\\boldsymbol{\\mu}_N \\to\n",
        "(0 + \\mathbf{X}^T\\mathbf{X})^{-1}(0 + \\mathbf{X}^T\\mathbf{y})\n",
        "=\n",
        "(\\mathbf{X}^T\\mathbf{X})^{-1}\\mathbf{X}^T\\mathbf{y} = \\mathbf{w}_{MLE},\n",
        "$$\n",
        "i.e. the MLE OLS estimate with which we're all familiar.\n",
        "\n",
        "### b.)\n",
        "Then, when $\\nu_0\\to 0$ as well, we have \n",
        "\n",
        "- $\\Lambda_N \\to 0 + \\mathbf{X}^T\\mathbf{X}$\n",
        "\n",
        "- $\\boldsymbol{\\mu}_N \\to (\\mathbf{X}^T\\mathbf{X})^{-1}\\mathbf{X}^T\\mathbf{y}$\n",
        "\n",
        "- $\\nu_N \\to 0 + N$\n",
        "\n",
        "and lastly, using all of the above,\n",
        "\n",
        "\\begin{align}\n",
        "\\sigma_N^2 &= \n",
        "\\frac{1}{\\nu_N}\\left(\\nu_0 \\sigma_0^2 + \\boldsymbol{\\mu}_0^T\\Lambda_0\\boldsymbol{\\mu}_0 + \n",
        "\\mathbf{y}^T\\mathbf{y} - \\boldsymbol{\\mu}_N^T\\Lambda_N\\boldsymbol{\\mu}_N\n",
        "\\right)\\\\\n",
        "&\\to \n",
        "\\frac{1}{N}\\left(0 + 0 + \n",
        "\\mathbf{y}^T\\mathbf{y}\n",
        "-\n",
        "((\\mathbf{X}^T\\mathbf{X})^{-1}\\mathbf{X}^T\\mathbf{y})^T\n",
        "(\\mathbf{X}^T\\mathbf{X})\n",
        "(\\mathbf{X}^T\\mathbf{X})^{-1}\\mathbf{X}^T\\mathbf{y}\n",
        "\\right) \\\\\n",
        "&=\n",
        "\\frac{1}{N}\\left(\\mathbf{y}^T\\mathbf{y}\n",
        "-\n",
        "\\mathbf{y}^T\\mathbf{X}(\\mathbf{X}^T\\mathbf{X})^{-1}\n",
        "\\mathbf{X}^T\\mathbf{y}\n",
        "\\right) \\\\\n",
        "&=\n",
        "\\frac{1}{N}\\left(\\mathbf{y}^T\\mathbf{y}\n",
        "-\n",
        "\\mathbf{y}^T\\mathbf{H}\\mathbf{y}\n",
        "\\right) \\\\\n",
        "&=\n",
        "\\frac{1}{N}\\mathbf{y}^T(I_N - \\mathbf{H})\\mathbf{y}.\n",
        "\\end{align}\n",
        "\n",
        "Now, we have our $\\chi^{-2}(\\sigma^2|\\nu_N, \\sigma^2_N)$ parameterized at this point (under the limits provided); all that remains is to compute a mean. Generally, we know that\n",
        "$$\n",
        "E[\\chi^{-2}(\\sigma^2|\\nu_N, \\sigma^2_N)] = \\frac{\\nu_N}{\\nu_N - 2} \\sigma^2_N,\n",
        "$$\n",
        "so on substitution here we have a mean of \n",
        "\\begin{align}\n",
        "\\frac{\\nu_N}{\\nu_N - 2}\\cdot \\frac{1}{N}\\cdot \\mathbf{y}^T(I_N - \\mathbf{H})\\mathbf{y}\n",
        "&\\to \n",
        "\\frac{N}{N - 2}\\cdot\\frac{1}{N}\\cdot \\mathbf{y}^T(I_N - \\mathbf{H})\\mathbf{y}\\\\\n",
        "&=\n",
        "\\frac{1}{N - 2}\\mathbf{y}^T(I_N - \\mathbf{H})\\mathbf{y}.\n",
        "\\end{align}\n",
        "Again, this is when we have assumed  $\\nu_0\\to 0$ giving\n",
        "\n",
        "- $\\Lambda_N \\to 0 + \\mathbf{X}^T\\mathbf{X}$\n",
        "\n",
        "- $\\boldsymbol{\\mu}_N \\to (\\mathbf{X}^T\\mathbf{X})^{-1}\\mathbf{X}^T\\mathbf{y}$\n",
        "\n",
        "- $\\nu_N \\to 0 + N$\n",
        "\n",
        "\n",
        "---"
      ]
    },
    {
      "cell_type": "markdown",
      "metadata": {
        "id": "52LZXHq9yW4o"
      },
      "source": [
        "## Synthetic Data\n",
        "\n",
        "We'll do some simple analysis of a synthetic dataset with $N =20$ data points. Each data point has covariates $\\mathbf{x}_n = (1, x_n) \\in \\mathbb{R}^2$ and scalar outcomes $y_n \\in \\mathbb{R}$. It looks like this:"
      ]
    },
    {
      "cell_type": "code",
      "execution_count": 2,
      "metadata": {
        "id": "9rZ3PvD2yuki",
        "colab": {
          "base_uri": "https://localhost:8080/",
          "height": 505
        },
        "outputId": "66d7d7c5-3255-4a08-c4fd-dbef4ed20139"
      },
      "outputs": [
        {
          "output_type": "stream",
          "name": "stdout",
          "text": [
            "--2022-04-06 23:52:39--  https://raw.githubusercontent.com/slinderman/stats305c/main/assignments/hw1/hw1.pt\n",
            "Resolving raw.githubusercontent.com (raw.githubusercontent.com)... 185.199.110.133, 185.199.108.133, 185.199.111.133, ...\n",
            "Connecting to raw.githubusercontent.com (raw.githubusercontent.com)|185.199.110.133|:443... connected.\n",
            "HTTP request sent, awaiting response... 200 OK\n",
            "Length: 1191 (1.2K) [application/octet-stream]\n",
            "Saving to: ‘hw1.pt’\n",
            "\n",
            "\rhw1.pt                0%[                    ]       0  --.-KB/s               \rhw1.pt              100%[===================>]   1.16K  --.-KB/s    in 0s      \n",
            "\n",
            "2022-04-06 23:52:39 (45.4 MB/s) - ‘hw1.pt’ saved [1191/1191]\n",
            "\n"
          ]
        },
        {
          "output_type": "execute_result",
          "data": {
            "text/plain": [
              "Text(0, 0.5, '$y$')"
            ]
          },
          "metadata": {},
          "execution_count": 2
        },
        {
          "output_type": "display_data",
          "data": {
            "text/plain": [
              "<Figure size 432x288 with 1 Axes>"
            ],
            "image/png": "[encoded data removed]"
          },
          "metadata": {
            "needs_background": "light"
          }
        }
      ],
      "source": [
        "!wget -nc https://raw.githubusercontent.com/slinderman/stats305c/main/assignments/hw1/hw1.pt\n",
        "\n",
        "# Load the data.\n",
        "# X = [[1, x_1]\n",
        "#      [1, x_2]\n",
        "#         ...\n",
        "#      [1, x_N]]\n",
        "#\n",
        "# y = [y_1, ..., y_N]\n",
        "X, y = torch.load(\"hw1.pt\")\n",
        "\n",
        "plt.plot(X[:, 1], y, 'ko')\n",
        "plt.xlabel(\"$x$\")\n",
        "plt.ylabel(\"$y$\")"
      ]
    },
    {
      "cell_type": "markdown",
      "metadata": {
        "id": "HiagNPRRzXKD"
      },
      "source": [
        "Here, the outcomes were simulated from a linear regression with Gaussian noise according to some true parameters (not given). You will compute and visualize the posterior distribution over the weights and variance given the data."
      ]
    },
    {
      "cell_type": "markdown",
      "metadata": {
        "id": "SI4tX9AGquoL"
      },
      "source": [
        "## Problem 3: Compute the posterior [Code]\n",
        "\n",
        "Write a function to compute the posterior parameters given data and hyperparameters.\n",
        "\n",
        "*Hints*: You may find the following commands in PyTorch useful:\n",
        "- If ```a``` is a tensor, ```a.shape``` is a tuple containing the shape of ```a```.\n",
        "- If ```a``` is a tensor, ```a.T``` returns the transpose of ```a```.\n",
        "- ```torch.linalg.solve```\n",
        "- ```*``` denotes element-wise multiplication while ```@``` denotes standard matrix-matrix or matrix-vector multiplication."
      ]
    },
    {
      "cell_type": "code",
      "execution_count": 3,
      "metadata": {
        "id": "Ty4VpJVV67Kn"
      },
      "outputs": [],
      "source": [
        "INV = torch.linalg.inv \n",
        "SOLVE = torch.linalg.solve\n",
        "\n",
        "def compute_posterior(X, y, nu_0, sigmasq_0, mu_0, Lambda_0):\n",
        "    \"\"\"\n",
        "    Compute the posterior parameters nu_N, sigmasq_N, mu_N, and Lambda_N \n",
        "    given covariates X, outcomes y, and hyperparameters.\n",
        "\n",
        "    Args:\n",
        "        X:          (N, D) tensor of covariates\n",
        "        y:          (N,) tensor of outcomes\n",
        "        nu_0:       prior degrees of freedom\n",
        "        sigmasq_0:  prior mean of the variance parameter\n",
        "        mu_0:       prior mean of the weights\n",
        "        Lambda_0:   prior precision of the weights\n",
        "\n",
        "    Returns:\n",
        "        nu_N:       posterior degrees of freedom\n",
        "        sigmasq_N:  posterior mean of the variance parameter\n",
        "        mu_N:       posterior mean of the weights\n",
        "        Lambda_N:   posterior precision of the weights\n",
        "    \"\"\"\n",
        "    Lambda_N = torch.add(Lambda_0, X.T @ X)\n",
        "    nu_N = nu_0 + torch.tensor(X.shape[0])\n",
        "    mu_N = SOLVE(Lambda_N, Lambda_0 @ mu_0 + X.T @ y)\n",
        "    sigmasq_N = (1 / nu_N) * (\n",
        "        nu_0 * sigmasq_0 \n",
        "        + mu_0.T @ Lambda_0 @ mu_0\n",
        "        + y.T @ y \n",
        "        - mu_N.T @ Lambda_N @ mu_N\n",
        "    )\n",
        "    \n",
        "    return (\n",
        "        nu_N, \n",
        "        sigmasq_N, \n",
        "        mu_N, \n",
        "        Lambda_N\n",
        "    )"
      ]
    },
    {
      "cell_type": "markdown",
      "metadata": {
        "id": "vXnTwuLHyAfR"
      },
      "source": [
        "Please run the following code to print your answers:"
      ]
    },
    {
      "cell_type": "code",
      "execution_count": 4,
      "metadata": {
        "id": "8bTSbgTNu5AI",
        "colab": {
          "base_uri": "https://localhost:8080/"
        },
        "outputId": "cfc21d86-d83f-4433-cb2f-83e025fd6f81"
      },
      "outputs": [
        {
          "output_type": "stream",
          "name": "stdout",
          "text": [
            "nu_N:       \n",
            " tensor(21.)\n",
            "\n",
            "sigmasq_N:  \n",
            " tensor(0.2733)\n",
            "\n",
            "mu_N:       \n",
            " tensor([-0.8777, -1.3646])\n",
            "\n",
            "Lambda_N:   \n",
            " tensor([[20.1000,  2.4126],\n",
            "        [ 2.4126, 20.0170]])\n"
          ]
        }
      ],
      "source": [
        "# Test:\n",
        "hypers = dict(\n",
        "    nu_0=torch.tensor(1.0),\n",
        "    sigmasq_0=torch.tensor(1.0),\n",
        "    mu_0=torch.zeros(2),\n",
        "    Lambda_0=0.1 * torch.eye(2)\n",
        ")\n",
        "\n",
        "nu_N, sigmasq_N, mu_N, Lambda_N = compute_posterior(X, y, **hypers)\n",
        "print(\"nu_N:       \\n\", nu_N)\n",
        "print(\"\")\n",
        "print(\"sigmasq_N:  \\n\", sigmasq_N)\n",
        "print(\"\")\n",
        "print(\"mu_N:       \\n\", mu_N)\n",
        "print(\"\")\n",
        "print(\"Lambda_N:   \\n\", Lambda_N)"
      ]
    },
    {
      "cell_type": "markdown",
      "metadata": {
        "id": "qCAPSDTFz1KK"
      },
      "source": [
        "## Problem 4: Plot the posterior density of the variance [Code]\n",
        "\n",
        "Plot $p(\\sigma^2 \\mid X, y, \\eta)$ vs $\\sigma^2$ over the interval $[10^{-3}, 2]$. \n",
        "\n",
        "You may use the `ScaledInvChiSq` distribution object below, which we copied from the demo for Lecture 1.\n",
        "\n",
        "_Hint_: In Python, you can use `dir(object)` to list the attributes and functions that an object supports. \n",
        "\n",
        "_Hint_: To learn more about PyTorch distributions, see the [docs](https://pytorch.org/docs/stable/distributions.html)."
      ]
    },
    {
      "cell_type": "code",
      "execution_count": 5,
      "metadata": {
        "id": "E1ayM_2pz6z_",
        "colab": {
          "base_uri": "https://localhost:8080/",
          "height": 301
        },
        "outputId": "ba12a562-28c2-4f30-8074-b8ad46cd2f2d"
      },
      "outputs": [
        {
          "output_type": "display_data",
          "data": {
            "text/plain": [
              "<Figure size 432x288 with 1 Axes>"
            ],
            "image/png": "[encoded data removed]"
          },
          "metadata": {
            "needs_background": "light"
          }
        }
      ],
      "source": [
        "import numpy as np \n",
        "\n",
        "class ScaledInvChiSq(TransformedDistribution):\n",
        "    \n",
        "    def __init__(self, dof, scale):\n",
        "        \"\"\"\n",
        "        Implementation of the scaled inverse \\chi^2 distribution,\n",
        "        \n",
        "        ..math:\n",
        "            \\chi^{-2}(\\nu_0, \\sigma_0^2)\n",
        "\n",
        "        It is equivalent to an inverse gamma distribution, which we implement\n",
        "        as a transformation of a Gamma distribution. Thus, this class inherits\n",
        "        functions like `log_prob` from its parent.\n",
        "\n",
        "        Args:\n",
        "            dof:   degrees of freedom parameter\n",
        "            scale: mean of the $\\chi^{-2}$ distribution.\n",
        "        \"\"\"\n",
        "        base = Gamma(dof / 2, dof * scale / 2)\n",
        "        transforms = [PowerTransform(-1)]\n",
        "        TransformedDistribution.__init__(self, base, transforms)\n",
        "        self.dof = dof\n",
        "        self.scale = scale\n",
        "\n",
        "posterior_invchisq = ScaledInvChiSq(nu_N, nu_N / (nu_N - 2) * sigmasq_N)\n",
        "sigmasq = torch.linspace(1e-3, 2, 10000)      \n",
        "plt.plot(\n",
        "    sigmasq,\n",
        "    torch.exp(posterior_invchisq.log_prob(sigmasq))\n",
        ")\n",
        "plt.xlabel(\"Sigma2\")\n",
        "plt.ylabel(\"Posterior density\")\n",
        "plt.title(\"Posterior: Inv-Chi-Sq\")\n",
        "plt.show()"
      ]
    },
    {
      "cell_type": "markdown",
      "metadata": {
        "id": "epW71f9x03sn"
      },
      "source": [
        "## Problem 5: Plot posterior samples of the regression function. [Code]\n",
        "Draw 50 samples from the posterior marginal distribution over the weights $\\mathbf{w} \\in \\mathbb{R}^2$. For each sample, compute the expected value of $y$ on a grid of points $x$ evenly spaced between $[-3, 3]$. Remember that our covariates were defined as $\\mathbf{x} = (1, x)$ so that for each sample of the weights you get a line for $\\mathbb{E}[y \\mid x, \\mathbf{w}]$ as a function of $x$. Plot these 50 lines on top of each other to get a sense of the posterior uncertainty in the regression function. (You may want to plot each line with some transparency, like `alpha=0.1`.) Overlay the observed data points. \n",
        "\n",
        "*Hint*: You may find ```torch.inverse``` useful."
      ]
    },
    {
      "cell_type": "code",
      "source": [
        "S = 50 # number of samples\n",
        "xhat = torch.stack([ # features for prediction\n",
        "  torch.ones(1000), \n",
        "  torch.linspace(-3, 3, 1000)\n",
        "]).T\n",
        "\n",
        "### two-step draw from NInvChiSq\n",
        "sigma2_samples = posterior_invchisq.sample((S, )) # \n",
        "w_samples = MultivariateNormal(\n",
        "    loc=mu_N[None, :], \n",
        "    covariance_matrix=torch.stack(\n",
        "        [sig2 * INV(Lambda_N) for sig2 in sigma2_samples]\n",
        "    )\n",
        ").sample()\n",
        "\n",
        "### predict\n",
        "yhat = (xhat @ (w_samples.T))\n",
        "\n",
        "for s in range(S):\n",
        "  plt.plot(xhat[:, 1], yhat[:, s], alpha=.15)\n",
        "plt.scatter(X[:, 1], y, color=\"red\")\n",
        "plt.ylabel(\"Y\")\n",
        "plt.xlabel(\"X\")\n",
        "plt.show()"
      ],
      "metadata": {
        "colab": {
          "base_uri": "https://localhost:8080/",
          "height": 285
        },
        "id": "zC4tlR7sfgxI",
        "outputId": "1d40cbe2-479d-4a88-f8cc-22df4c45d201"
      },
      "execution_count": 6,
      "outputs": [
        {
          "output_type": "display_data",
          "data": {
            "text/plain": [
              "<Figure size 432x288 with 1 Axes>"
            ],
            "image/png": "[encoded data removed]"
          },
          "metadata": {
            "needs_background": "light"
          }
        }
      ]
    },
    {
      "cell_type": "markdown",
      "metadata": {
        "id": "gcl9zCRs4YHt"
      },
      "source": [
        "## Bonus: Posterior Predictive Distribution [Math]\n",
        "Derive the posterior predictive distribution of the outcome at a new input $\\mathbf{x}_{N+1}$. That is, compute,\n",
        "\\begin{align}\n",
        "p(y_{N+1} \\mid x_{N+1}, \\mathbf{y}, \\mathbf{X}, \\boldsymbol{\\eta})\n",
        "\\end{align}\n",
        "integrating over the posterior distribution on the weights $\\mathbf{w}$ and variance $\\sigma^2$.\n"
      ]
    },
    {
      "cell_type": "markdown",
      "metadata": {
        "id": "VxHvY2tk5I_Q"
      },
      "source": [
        "---\n",
        "\n",
        "First, recall the following, as set forth in Lecture 2 (pp. 17-18), we have that for \n",
        "$$\n",
        "\\mathbf{x}\\sim N(\\mathbf{b}, \\mathbf{Q});\\\\\n",
        "\\mathbf{y}\\sim N(\\mathbf{C}\\mathbf{x} + \\mathbf{d}, R),\n",
        "$$\n",
        "we have by block matrix formulation and marginalization of an MVN that\n",
        "$$\n",
        "\\mathbf{y}\\sim N(\\mathbf{C}\\mathbf{b} + \\mathbf{d}, CQC^T + R).\n",
        "$$\n",
        "Given that the posterior predictive situation is (reparameterizing to an inverse-gamma about $\\alpha_N, \\beta_N$ that correspond one-to-one with $\\eta_N, \\sigma^2_N$) \n",
        "\\begin{align*}\n",
        "\\mathbf{w}, \\sigma^2 \\mid \\mathbf{y}, \\mathbf{X}, \\boldsymbol{\\eta}) \n",
        "&\\sim\n",
        "\\chi^{-2}(\\sigma^2 \\mid \\nu_N, \\sigma_N^2)\n",
        " \\mathcal{N}(\\mathbf{w} \\mid \\boldsymbol{\\mu}_N, \\sigma^2 \\boldsymbol{\\Lambda}_N^{-1}) \\\\\n",
        "&\\sim \n",
        "\\Gamma^{-1}(\\sigma^2|\\alpha_N, \\beta_N)\n",
        " \\mathcal{N}(\\mathbf{w} \\mid \\boldsymbol{\\mu}_N, \\sigma^2 \\boldsymbol{\\Lambda}_N^{-1}),\n",
        "\\end{align*}\n",
        "we have \n",
        "$$\n",
        "\\mathbf{w} \n",
        "\\mid \n",
        "\\langle \n",
        "\\boldsymbol{\\mu}_N, \\sigma^2, \\boldsymbol{\\Lambda}_N^{-1}, \\{\\mathbf{X}, \\mathbf{y}\\}, \\mathbf{\\eta}, \\ldots \n",
        "\\rangle \n",
        "\\sim \n",
        "\\mathcal{N}(\\boldsymbol{\\mu}_N, \\sigma^2 \\boldsymbol{\\Lambda}_N^{-1}); \n",
        "$$\n",
        "$$\n",
        "y_{N+1}| \n",
        "\\langle \n",
        "X_{N+1},\n",
        "\\boldsymbol{\\mu}_N, \\sigma^2, \\boldsymbol{\\Lambda}_N^{-1}, \\{\\mathbf{X}, \\mathbf{y}\\}, \\mathbf{\\eta}, \\ldots \n",
        "\\rangle \n",
        "\\sim \\mathcal{N}(X_{N+1}\\mathbf{w}, \\sigma^2 I),\n",
        "$$\n",
        "\n",
        "---"
      ]
    },
    {
      "cell_type": "markdown",
      "source": [
        "so thus\n",
        "$$\n",
        "y_{N+1}| \n",
        "\\langle \n",
        "X_{N+1},\n",
        "\\boldsymbol{\\mu}_N, \\sigma^2, \\boldsymbol{\\Lambda}_N^{-1}, \\{\\mathbf{X}, \\mathbf{y}\\}, \\mathbf{\\eta}, \\ldots \n",
        "\\rangle \n",
        "\\sim \\mathcal{N}(X_{N+1}\\mathbf{w}, \\sigma^2 (I_P + X_{N+1}\\Lambda_N^{-1}X_{N+1}^T)).\n",
        "$$\n",
        "With this, we attempt to margin out $\\sigma^2$. We have\n",
        "\\begin{align*}\n",
        "p(y_{N+1}| \n",
        "\\langle \n",
        "X_{N+1},\n",
        "\\boldsymbol{\\mu}_N, \\boldsymbol{\\Lambda}_N^{-1}, \\{\\mathbf{X}, \\mathbf{y}\\}, \\mathbf{\\eta}, \\ldots \n",
        "\\rangle) \n",
        "&=\n",
        "\\int_{0}^{\\infty}\n",
        "p(y_{N+1}| \n",
        "\\langle \n",
        "X_{N+1},\n",
        "\\boldsymbol{\\mu}_N, \\sigma^2, \\boldsymbol{\\Lambda}_N^{-1}, \\{\\mathbf{X}, \\mathbf{y}\\}, \\mathbf{\\eta}, \\ldots \n",
        "\\rangle) \n",
        "d\\sigma^2\\\\\n",
        "&=\n",
        "\\int_{0}^{\\infty}\n",
        "%%%% prior\n",
        "\\Gamma^{-1}(\\sigma^2|\\alpha_N, \\beta_N)\n",
        "%%%%% normal\n",
        "\\mathcal{N}(\\mathbf{w} \\mid \\boldsymbol{\\mu}_N, \\sigma^2 \\boldsymbol{\\Lambda}_N^{-1})\n",
        "\\mathcal{N}y_{N+1} \\mid X_{N+1}\\mathbf{w}, \\sigma^2I)\n",
        "d\\sigma^2\\\\\n",
        "&=\n",
        "\\int_{0}^{\\infty}\n",
        "%%%% prior\n",
        "\\Gamma^{-1}(\\sigma^2|\\alpha_N, \\beta_N)\n",
        "%%%%% normal\n",
        "\\mathcal{N}\\bigg(y_{N+1} \\mid X_{N+1}\\boldsymbol{\\mu}_N, \\sigma^2 (I + X_{N+1}\\boldsymbol{\\Lambda}_N^{-1}X_{N+1}^T)\\bigg)\n",
        "d\\sigma^2\\\\\n",
        "\\end{align*}"
      ],
      "metadata": {
        "id": "AeSCJZULD0nY"
      }
    },
    {
      "cell_type": "markdown",
      "source": [
        "At this point, it may be notationally advantageous to introduce some shorthands, namely\n",
        "$$\n",
        "\\tilde \\Sigma = I + X_{N+1}\\Lambda_N^{-1}X_{N+1}^T\n",
        "$$\n",
        "and \n",
        "$$\n",
        "\\tilde \\mu = X_{N+1}\\mu_N.\n",
        "$$\n",
        "Hence, we continue with (where $\\tilde N$ is the number of new predictions to be made)\n",
        "\\begin{align*}\n",
        "&=\n",
        "\\int_{0}^{\\infty}\n",
        "%%%% prior\n",
        "\\Gamma^{-1}(\\sigma^2|\\alpha_N, \\beta_N)\n",
        "%%%%% normal\n",
        "\\mathcal{N}\\bigg(y_{N+1} \\mid X_{N+1}\\boldsymbol{\\mu}_N, \\sigma^2 (I + X_{N+1}\\boldsymbol{\\Lambda}_N^{-1}X_{N+1}^T)\\bigg)\n",
        "d\\sigma^2\\\\\n",
        "&=\n",
        "\\int_{0}^{\\infty}\n",
        "%%%% prior\n",
        "\\Gamma^{-1}(\\sigma^2|\\alpha_N, \\beta_N)\n",
        "%%%%% normal\n",
        "\\mathcal{N}(y_{N+1} \\mid \\tilde \\mu, \\sigma^2 \\tilde \\Sigma)\n",
        "d\\sigma^2\\\\\n",
        "&=\n",
        "\\int_{0}^{\\infty}\n",
        "\\bigg[ \n",
        "\\frac{\\beta_N ^{\\alpha_N}}{\\Gamma(\\alpha_N)}\n",
        "(\\sigma^2)^{-(\\alpha_N + 1)} \\exp\\bigg(-\\frac{\\beta_N}{\\sigma^2}\\bigg)\n",
        "\\bigg]\n",
        "\\bigg[ \n",
        "\\frac{1}{(2\\pi\\sigma^2)^{\n",
        "\\tilde N /2}|\\tilde \\Sigma|^{1/2}}\n",
        "\\exp\\bigg(\n",
        "-\\frac{1}{2\\sigma^2}(y_{N+1} - \\tilde \\mu)^T \\tilde \\Sigma^{-1} (y_{N+1} - \\tilde \\mu)\n",
        "\\bigg)\n",
        "\\bigg] d\\sigma^2 \\\\\n",
        "&=\n",
        "\\frac{\\beta_N ^{\\alpha_N}}{\\Gamma(\\alpha_N) (2\\pi)^{\n",
        "\\tilde N /2}|\\tilde \\Sigma|^{1/2}}\n",
        "\\int_{0}^{\\infty}\n",
        "(\\sigma^2)^{-(\\alpha_N + 1 + \\tilde N / 2)} \\exp\\bigg(-\\frac{1}{\\sigma^2}\\bigg(\\beta_N  \n",
        "+\\frac{1}{2}(y_{N+1} - \\tilde \\mu)^T \\tilde \\Sigma^{-1} (y_{N+1} - \\tilde \\mu)\n",
        "\\bigg) d\\sigma^2 \n",
        "\\end{align*}"
      ],
      "metadata": {
        "id": "xZFvWcYKIL0V"
      }
    },
    {
      "cell_type": "markdown",
      "source": [
        "The term in the integral is quite clearly the integrated $\\Gamma^{-1}$, where parameters are $\\alpha = \\tilde N / 2 + \\alpha_N$ and $\\beta =  \\beta_N  \n",
        "+\\frac{1}{2}(y_{N+1} - \\tilde \\mu)^T \\tilde \\Sigma^{-1} (y_{N+1} - \\tilde \\mu)$. With appropriate scaling (which is missing here, as it is merely a kernel), it would integrate to 1; however, as it is missing the scaling constants, we know that it integrates to \n",
        "\\begin{align}\n",
        "\\Lambda(\\alpha)\\beta^{-\\alpha}\n",
        "&=\n",
        "\\frac{\n",
        "  \\Gamma(\\tilde N / 2 + \\alpha_N)\n",
        "}{\n",
        "\\bigg(\n",
        "\\beta_N  \n",
        "+\\frac{1}{2}(y_{N+1} - \\tilde \\mu)^T \\tilde \\Sigma^{-1} (y_{N+1} - \\tilde \\mu)\n",
        "\\bigg)^{\\tilde N / 2 + \\alpha_N}\n",
        "}\\\\\n",
        "&=\n",
        "\\Gamma(\\tilde N / 2 + \\alpha_N)\n",
        "\\bigg(\n",
        "\\beta_N  \n",
        "+\\frac{1}{2}(y_{N+1} - \\tilde \\mu)^T \\tilde \\Sigma^{-1} (y_{N+1} - \\tilde \\mu)\n",
        "\\bigg)^{-(\\tilde N / 2 + \\alpha_N)}\n",
        "\\end{align}"
      ],
      "metadata": {
        "id": "vlWnTJZJOI-c"
      }
    },
    {
      "cell_type": "markdown",
      "source": [
        "Thus, integrating out and adjusting for the normalizing constant, our expression is now\n",
        "\\begin{align*}\n",
        "&=\n",
        "\\frac{\\beta_N ^{\\alpha_N}}{\\Gamma(\\alpha_N) (2\\pi)^{\n",
        "\\tilde N /2}|\\tilde \\Sigma|^{1/2}}\n",
        "\\int_{0}^{\\infty}\n",
        "(\\sigma^2)^{-(\\alpha_N + 1 + \\tilde N / 2)} \\exp\\bigg(-\\frac{1}{\\sigma^2}\\bigg(\\beta_N  \n",
        "+\\frac{1}{2}(y_{N+1} - \\tilde \\mu)^T \\tilde \\Sigma^{-1} (y_{N+1} - \\tilde \\mu)\n",
        "\\bigg) d\\sigma^2 \\\\\n",
        "&=\n",
        "\\frac{\\beta_N ^{\\alpha_N}}{\\Gamma(\\alpha_N) (2\\pi)^{\n",
        "\\tilde N /2}|\\tilde \\Sigma|^{1/2}}\\cdot \n",
        "\\Gamma(\\tilde N / 2 + \\alpha_N)\n",
        "\\bigg(\n",
        "\\beta_N  \n",
        "+\\frac{1}{2}(y_{N+1} - \\tilde \\mu)^T \\tilde \\Sigma^{-1} (y_{N+1} - \\tilde \\mu)\n",
        "\\bigg)^{-(\\tilde N / 2 + \\alpha_N)}\\\\\n",
        "&=\n",
        "\\frac{\\beta_N ^{\\alpha_N}}{\\Gamma(\\alpha_N) (2\\pi)^{\n",
        "\\tilde N /2}|\\tilde \\Sigma|^{1/2}}\\cdot \n",
        "\\Gamma(\\tilde N / 2 + \\alpha_N)\n",
        "\\bigg(\n",
        "\\beta_N \\bigg[1 \n",
        "+\\frac{1}{2}(y_{N+1} - \\tilde \\mu)^T (\\beta_N \\tilde \\Sigma)^{-1} (y_{N+1} - \\tilde \\mu)\\bigg]\n",
        "\\bigg)^{-(\\tilde N / 2 + \\alpha_N)}\\\\\n",
        "&=\n",
        "\\frac{\\beta_N ^{\\alpha_N}}{\\Gamma(\\alpha_N) (2\\pi)^{\n",
        "\\tilde N /2}|\\tilde \\Sigma|^{1/2}}\\cdot \n",
        "\\Gamma(\\tilde N / 2 + \\alpha_N)\n",
        "\\bigg(\n",
        "\\beta_N \\bigg[1 \n",
        "+\\frac{\\alpha_N}{2\\alpha_N}(y_{N+1} - \\tilde \\mu)^T(\\beta_N \\tilde \\Sigma)^{-1} (y_{N+1} - \\tilde \\mu)\\bigg]\n",
        "\\bigg)^{-(\\tilde N / 2 + \\alpha_N)}\\\\\n",
        "&=\n",
        "\\frac{\\beta_N ^{\\alpha_N}}{\\Gamma(\\alpha_N) (2\\pi)^{\n",
        "\\tilde N /2}|\\tilde \\Sigma|^{1/2}}\\cdot \n",
        "\\Gamma(\\tilde N / 2 + \\alpha_N)\n",
        "\\bigg(\n",
        "\\beta_N \\bigg[1 \n",
        "+\\frac{1}{2\\alpha_N}(y_{N+1} - \\tilde \\mu)^T  \\bigg(\\frac{\\beta_N}{\\alpha_N}\\tilde \\Sigma\\bigg)^{-1} (y_{N+1} - \\tilde \\mu)\\bigg]\n",
        "\\bigg)^{-(\\tilde N / 2 + \\alpha_N)} \\\\\n",
        "&=\n",
        "\\frac{\\beta_N ^{-\\tilde N / 2}}{\\Gamma(\\alpha_N) (2\\pi)^{\n",
        "\\tilde N /2}|\\tilde \\Sigma|^{1/2}}\\cdot \n",
        "\\Gamma(\\tilde N / 2 + \\alpha_N)\n",
        "\\bigg(1 \n",
        "+\\frac{1}{2\\alpha_N}(y_{N+1} - \\tilde \\mu)^T  \\bigg(\\frac{\\beta_N}{\\alpha_N}\\tilde \\Sigma\\bigg)^{-1} (y_{N+1} - \\tilde \\mu)\n",
        "\\bigg)^{-(\\tilde N / 2 + \\alpha_N)}\\\\\n",
        "&=\n",
        "\\frac{\\Gamma((\\tilde N + 2\\alpha_N)/ 2 )}{\\Gamma(\\alpha_N) (2\\pi)^{\n",
        "\\tilde N /2}|\\beta_N \\tilde \\Sigma|^{1/2}}\\cdot \n",
        "\\bigg(1 \n",
        "+\\frac{1}{2\\alpha_N}(y_{N+1} - \\tilde \\mu)^T  \\bigg(\\frac{\\beta_N}{\\alpha_N}\\tilde \\Sigma\\bigg)^{-1} (y_{N+1} - \\tilde \\mu)\n",
        "\\bigg)^{-(\\tilde N + 2\\alpha_N)/ 2} \\\\\n",
        "&\\sim \n",
        "MVT\\bigg(df = 2 \\alpha_N; \\mu = \\tilde \\mu; cov=\\frac{\\beta_N}{\\alpha_N}\\tilde \\Sigma\\bigg),\n",
        "\\end{align*}\n",
        "where from above\n",
        "$$\n",
        "\\tilde \\Sigma = I + X_{N+1}\\Lambda_N^{-1}X_{N+1}^T\n",
        "$$\n",
        "and \n",
        "$$\n",
        "\\tilde \\mu = X_{N+1}\\mu_N.\n",
        "$$\n",
        "Further, $\\alpha_N, \\beta_N$ represent the one-to-one $\\chi^{-2}\\to \\Gamma^{-1}$ reparameterization, i.e. \n",
        "$$\n",
        "\\chi^{-2}(\\sigma^2|\\nu_N, \\sigma^2_N) \\iff \n",
        "\\Gamma^{-1}(\\sigma^2 | \\frac{\\nu_N}{2}, \\frac{\\nu_N\\sigma_N^2}{2}),\n",
        "$$\n",
        "hence $\\alpha_N = \\frac{\\nu_N}{2}; \\beta_N = \\frac{\\nu_N\\sigma_N^2}{2}$.\n",
        "\n",
        "\n",
        "Steps are justified by: (i) substitution of the normalizing constant above; (ii) factoring of $\\beta_N$; (iii) insertion of a $1 = \\alpha_N / \\alpha_N$; (iv) rearrangement; (v) moving $\\beta_N$ leftwards and cancellation; (vi) insertion of $\\beta_N$ back into the determinant, where it appears $\\tilde N$ times. "
      ],
      "metadata": {
        "id": "RSzZvKG8U8aN"
      }
    },
    {
      "cell_type": "markdown",
      "metadata": {
        "id": "hM9vMLLP9J1n"
      },
      "source": [
        "# Submission Instructions\n",
        "\n",
        "\n",
        "**Formatting:** check that your code does not exceed 80 characters in line width. You can set _Tools &rarr; Settings &rarr; Editor &rarr; Vertical ruler column_ to 80 to see when you've exceeded the limit. \n",
        "\n",
        "Download your notebook in .ipynb format and use the following commands to convert it to PDF.  Then run the following command to convert to a PDF:\n",
        "```\n",
        "jupyter nbconvert --to pdf <yourname>_hw1.ipynb\n",
        "```\n",
        "\n",
        "\n",
        "**Installing nbconvert:**\n",
        "\n",
        "If you're using Anaconda for package management, \n",
        "```\n",
        "conda install -c anaconda nbconvert\n",
        "```\n",
        "\n",
        "**Upload** your .ipynb and .pdf files to Gradescope. "
      ]
    }
  ],
  "metadata": {
    "colab": {
      "collapsed_sections": [
        "b6k2BC4ZeFpS"
      ],
      "name": "KleisleMurphy-305C-HW1",
      "provenance": []
    },
    "kernelspec": {
      "display_name": "Python 3",
      "language": "python",
      "name": "python3"
    },
    "language_info": {
      "codemirror_mode": {
        "name": "ipython",
        "version": 3
      },
      "file_extension": ".py",
      "mimetype": "text/x-python",
      "name": "python",
      "nbconvert_exporter": "python",
      "pygments_lexer": "ipython3",
      "version": "3.7.11"
    }
  },
  "nbformat": 4,
  "nbformat_minor": 0
}